{
 "cells": [
  {
   "cell_type": "markdown",
   "metadata": {},
   "source": [
    "$$\\require{mhchem}$$\n",
    "\n",
    "### [HOME](https://wangyu16.github.io/GeneralChemistry/)\n",
    "\n",
    "# <center>General Chemistry Study Guide</center>\n",
    "\n",
    "### <center>Chapter 16. Acids and Bases</center>\n",
    "\n",
    "---\n",
    "\n",
    "*<center>Yu Wang</center>*\n",
    "\n",
    "##### <b>OpenStax</b> 14 Acid-Base Equilibria. 15 Equilibria of Other Reaction Classes. <b>Brown</b> 16 Acid-Base Equilibria. 17. Additional Aspects of Aqueous Equilibria. #####"
   ]
  },
  {
   "cell_type": "markdown",
   "metadata": {},
   "source": [
    "## 1. General Concepts\n",
    "\n",
    "### Brønsted Acids and Bases\n",
    "\n",
    "Definations of Brønsted acids and bases are givin in Chapter 4. A Brønsted acid is a substance capable of donating a proton, and a Brønsted base is a substance capable of accepting a proton. \n",
    "\n",
    "**Conjugate acid-base pair** The conjugate base of a Brønsted acid is the species that remains when one proton has been removed from the acid. Conversely, a conjugate acid results from the addition of a proton to a Brønsted base.\n",
    "\n",
    "**Example** \n",
    "$$\\ce{CH3COOH (aq) + H2O (l) <=> CH3COO- (aq) + H3O+ (aq)}$$\n",
    "In this reaction, $\\ce{CH3COOH}$ is an acid, and $\\ce{CH3COO-}$ is its conjugate base; $\\ce{H2O}$ is a base, and $\\ce{H3O+}$ is its conjugate acid. "
   ]
  },
  {
   "cell_type": "markdown",
   "metadata": {
    "collapsed": true
   },
   "source": [
    "**Diprotic and Polyprotic Acids** \n",
    "\n",
    "* May yield more than one hydrogen ion per molecule; \n",
    "* Ionize in a stepwise manner; \n",
    "* Each ionization step has a ionization constant. \n",
    "\n",
    "**Example**\n",
    "$$\\ce{H2CO3 (aq) + H2O (l) <=> H3O+ (aq) +HCO3- (aq)}\\quad K_{a_1}=\\frac{[\\ce{H3O+}][\\ce{HCO3-}]}{[\\ce{H2CO3}]}$$\n",
    "$$\\ce{HCO3- (aq) + H2O (l) <=> H3O+ (aq) + CO3^2- (aq)} \\quad K_{a_2}=\\frac{[\\ce{H3O+}][\\ce{CO3^2-}]}{[\\ce{HCO3-}]}$$"
   ]
  },
  {
   "cell_type": "markdown",
   "metadata": {},
   "source": [
    "### The Acid and Base Properties of Water\n",
    "\n",
    "$$\\ce{H2O + H2O <=> H3O+ + OH-}$$\n",
    "\n",
    "or\n",
    "\n",
    "$$\\ce{H2O <=> H+ + OH-}$$\n",
    "\n",
    "at $25\\,^\\circ\\text{C}$\n",
    "\n",
    "$$K_w = [\\ce{H+}][\\ce{OH-}]=1.0\\times10^{-14}$$"
   ]
  },
  {
   "cell_type": "markdown",
   "metadata": {},
   "source": [
    "**pH - A Measure of Acidity** \n",
    "$$\\ce{pH}=-\\log [\\ce{H+}]$$\n",
    "\n",
    "In water, at $25\\,^\\circ\\text{C}$, $\\ce{pH}=7$ means the solution is neutral; $\\ce{pH}<7$, acidic; $\\ce{pH}>7$, basic. \n",
    "\n",
    "$\\ce{pOH}$ can be defined as \n",
    "$$\\ce{pOH}=-\\log [\\ce{OH-}]$$\n",
    "\n",
    "Since $K_w = [\\ce{H+}][\\ce{OH-}]=1.0\\times10^{-14}$, $\\ce{pH}+\\ce{pOH} = 14$. Knowing one of them means the other is also known. Only $\\ce{pH}$ is commonly used. "
   ]
  },
  {
   "cell_type": "markdown",
   "metadata": {},
   "source": [
    "### Strength of Acids and Bases###\n",
    "\n",
    "**Strong acids and strong bases** are strong electrolytes which are assumed to ionize completely in water.  \n",
    "**Weak acids and weak bases** are weak electrolytes which would partially ionize in water.  \n",
    "**Important:** Table 16.2. \n",
    "\n",
    "* A stronger acid has weaker conjugate base. \n",
    "* $\\ce{H3O+}$ or $\\ce{H+}$ is the strongest acid that can exist in aqueous solution.\n",
    "* $\\ce{OH-}$ is the strongest base that can exist in aqueous solution."
   ]
  },
  {
   "cell_type": "markdown",
   "metadata": {},
   "source": [
    "> **Requirements**  \n",
    "> 1. Understand the concepts, understand the meaning of $\\ce{pH}$ value;\n",
    "> 2. Remember the relavent strength of common acids and bases (Textbook Example 16.7);\n",
    "> 3. Given an acid/base reaction, recognize which is the acid and which is the base, and tell what are their conjugate base and conjugate acid. (Textbook Example 16.1 and following Practice Excercise)"
   ]
  },
  {
   "cell_type": "markdown",
   "metadata": {
    "collapsed": true
   },
   "source": [
    "## 2. Structure and Property Correlation##\n",
    "\n",
    "### Molecular Structure and the Strength of Acids\n",
    "\n",
    "**Hydrohalic acids** Stronger bond, weaker acid.  \n",
    "$$\\ce{HF}\\ll\\ce{HCl}<\\ce{HBr}<\\ce{HI}$$\n",
    "\n",
    "**Oxoacids**  \n",
    "1. Oxoacids having different central atoms that are from the same group of the periodic table and that have the same oxidation number. Acid strength increases with increasing electronegativity of the central atom.  \n",
    "$$\\ce{HClO3}>\\ce{HBrO3}$$ \n",
    "2. Oxoacids having the same central atom but different numbers of attached groups. Acid strength increases as the oxidation number of the central atom increases. \n",
    "$$\\ce{HClO4}>\\ce{HClO3}>\\ce{HClO2}>\\ce{HClO}$$\n",
    "\n",
    "### Acid-Base Properties of Salts\n",
    "\n",
    "**Salts that produce neutral solutions**  A strong acid and a strong base generate a salt that produces neutral solution in water. For example, $\\ce{NaOH}$ and $\\ce{HCl}$ generate $\\ce{NaCl}$ which produces neutral solution in water. The $\\ce{pH}$ of $\\ce{NaCl}$ solution is $7$. \n",
    "\n",
    "**Salts that produce basic solutions** A strong base and a weak acid generate a salt  that produces basic solution in water. For example, $\\ce{NaOH}$ and $\\ce{CH3COOH}$ generate $\\ce{CH3COONa}$ which produces basic solution in water because $\\ce{CH3COO-}$ can hydrolyze. The $\\ce{pH}$ is larger than $7$.  \n",
    "\n",
    "**Salts that produce acidic solutions** A strong acid and a weak base generate a salt that produces acidic solution in water. For example, $\\ce{HCl}$ and $\\ce{NH3}$ generate $\\ce{NH4Cl}$ which produces acidic solution in water. The $\\ce{pH}$ is smaller than $7$.  Small and highly charged metal cations can hydrolyze to produce $\\ce{H+}$. For example, $\\ce{AlCl3, CrCl3, FeCl3, BiCl3, BeCl2}$ solutions are all acidic. \n",
    "\n",
    "*Note that  $\\ce{Al(H2O)6^3+}$ is roughly as strong an acid as $\\ce{CH3COOH}$.*\n",
    "\n",
    "**Salts in which both the cation and the anion hydrolyze** If the salt is generated from a weak acid and a weak base, the $\\ce{pH}$ of the solution depends on the $K_a$ of the cation and the $K_b$ of the anion.  \n",
    "* $K_b > K_a$ basic;\n",
    "* $K_b = K_a$ neutral;\n",
    "* $K_b < K_a$ acidic. \n",
    "\n",
    "### Acidic, Basic and Amphoteric Oxides \n",
    "\n",
    "Oxides can be classified as acidic, basic, or amphoteric, see following Figure.  \n",
    "\n",
    "\n",
    "The basic metallic oxides react with water to form metal hydroxides. Acidic oxides and water usually generate acids.  \n",
    "$$\\ce{Na2O(s) + H2O(l) -> 2NaOH(aq)}$$  \n",
    "$$\\ce{SO3(g) + H2O(l) -> H2SO4(aq)}$$  \n",
    "Reactions between acidic oxides and bases and those between basic oxides and acids resemble normal acid-base reactions  \n",
    "$$\\ce{CO2(g) + 2NaOH(aq) -> Na2CO3(aq) + H2O(l)}$$  \n",
    "$$\\ce{BaO(s) + 2HNO3(aq)-> Ba(NO3)2(aq) + H2O(l)}$$  \n",
    "aluminum oxide ($\\ce{Al2O3}$) is amphoteric.   Depending on the reaction conditions, it can behave either as an acidic oxide or as a basic oxide.  \n",
    "$$\\ce{Al2O3(s) + 6HCl(aq) -> 2AlCl3(aq) + 3H2O(l)}$$  \n",
    "$$\\ce{Al2O3(s) + 2NaOH(aq) + 3H2O(l) -> 2NaAl(OH)4(aq)}$$  \n",
    "\n",
    "> **Requirements** \n",
    "> 1. Remember the trends of the acidity strength of hydrohalic acids and oxoacids. \n",
    "> 2. Remember the examples of salts those produce neutral, acidic or basic solutions. Know how to determine the acidity of a salt solution when both the cation and the anion hydrolyze. \n",
    "> 3. Remember the examples and properties of acidic, basic and amphoteric oxides. "
   ]
  },
  {
   "cell_type": "markdown",
   "metadata": {},
   "source": [
    "## 3. Lewis Acids and Bases##\n",
    "A **Lewis Base** is a substance that can donate a pair of electrons;  \n",
    "A **Lewis Acid** is a substance that can accept a pair of electrons.  \n",
    "\n",
    "> **Requirements**  \n",
    "> 1. Understand the defination of Lewis acid and base. Recognize the Lewis acids and bases in reactions (Textbook Example 16.15). "
   ]
  },
  {
   "cell_type": "markdown",
   "metadata": {},
   "source": [
    "## 4. pH Related Calculations##  \n",
    "** Calculate $\\ce{pH}$ and $\\ce{pOH}$ from $[\\ce{H+}]$ or $[\\ce{OH-}]$**  \n",
    "Remember $[\\ce{H+}][\\ce{OH-}]=1.0\\times10^{-14}$ and $\\ce{pH}+\\ce{pOH} = 14$. Knowing the value of one of the following: $\\ce{pH}$, $\\ce{pOH}$, $[\\ce{H+}]$ and$[\\ce{OH-}]$, all other three values can be calculated. \n",
    "\n",
    "**Strong acids and strong bases**  \n",
    "Strong acids and strong bases ionize completely in water.  \n",
    "* For an acid $\\ce{HA}$, the concentration of $\\ce{H+}$ equals the initial concentration of $\\ce{HA}$. For an acid $\\ce{H2A}$, the concentration of $\\ce{H+}$ equals DOUBLE of the initial concentration of $\\ce{HA}$.  \n",
    "* For a base $\\ce{BOH}$, the concentration of $\\ce{OH-}$ equals the initial concentration of $\\ce{BOH}$. For an acid $\\ce{B(OH)2}$, the concentration of $\\ce{OH-}$ equals DOUBLE of the initial concentration of $\\ce{B(OH)2}$.\n",
    "\n",
    "**Weak acids and weak bases**  \n",
    "Weak acids and weak bases ionize partially in water. 　\n",
    "The concentration of $\\ce{H+}$ depends on the initial concentraion of $\\ce{HA}$ and the value of $K_a$. \n",
    "$$\\begin{align*}\n",
    "& \\ce{HA(aq) + H2O(l) <=> H3O+(aq) + A- (aq)} \\qquad K_a = \\frac{[\\ce{H3O+}][\\ce{A-}]}{[\\ce{HA}]}\\\\\n",
    " \\text{or}\\quad & \\\\\n",
    "& \\ce{HA(aq) <=> H+(aq) + A- (aq)}\\qquad K_a=\\frac{[\\ce{H+}][\\ce{A-}]}{[\\ce{HA}]}\n",
    "\\end{align*}$$\n",
    "\n",
    "**Example** Calculate the pH of 0.50 M HF solution at 25 $^\\circ$C ($K_a = 7.1\\times 10^{-4}$)  \n",
    "Step 1. ICE Table:  \n",
    "<table class=\"tg\">\n",
    " <col width=\"150\">\n",
    " <col width=\"120\">\n",
    " <col width=\"120\">\n",
    " <col width=\"120\">\n",
    "  <tr>\n",
    "    <th class=\"tg-031e\"></th>\n",
    "    <th class=\"tg-031e\">$\\ce{HF}$</th>\n",
    "    <th class=\"tg-031e\">$\\ce{H+}$</th>\n",
    "    <th class=\"tg-031e\">$\\ce{F-}$</th>\n",
    "  </tr>\n",
    "  <tr>\n",
    "    <td class=\"tg-031e\">Initial (M): </td>\n",
    "    <td class=\"tg-031e\">$0.50$</td>\n",
    "    <td class=\"tg-031e\">$0$</td>\n",
    "    <td class=\"tg-031e\">$0$</td>\n",
    "  </tr>\n",
    "  <tr>\n",
    "    <td class=\"tg-031e\">Change (M): </td>\n",
    "    <td class=\"tg-031e\">$-x$</td>\n",
    "    <td class=\"tg-031e\">$+x$</td>\n",
    "    <td class=\"tg-031e\">$+x$</td>\n",
    "  </tr>\n",
    "  <tr>\n",
    "    <td class=\"tg-031e\">Equilibrium (M): </td>\n",
    "    <td class=\"tg-031e\">$(0.50-x)$</td>\n",
    "    <td class=\"tg-031e\">$x$</td>\n",
    "    <td class=\"tg-031e\">$x$</td>\n",
    "  </tr>\n",
    "</table>\n",
    "Step 2. Calculate $x$ \n",
    "$$K_a = \\frac{x\\cdot x}{0.50-x}=7.0\\times 10^{-4}$$  \n",
    "$$x = 0.0184\\,\\text{M}$$  \n",
    "Step 3. Calculate pH  \n",
    "$$[\\ce{H+}] = 0.0184\\,\\text{M}$$  \n",
    "$$\\ce{pH}=-\\log (0.0184) =1.74$$\n",
    "\n",
    "**Percent Ionization**  \n",
    "$$\\text{percent ionization}=\\frac{\\text{ionized acid concentration at equilibrium}}{\\text{initial concentration of acid}}\\times 100\\%$$"
   ]
  },
  {
   "cell_type": "markdown",
   "metadata": {},
   "source": [
    "The concentration of $\\ce{OH-}$ depends on the initial concentraion of the base and the value of $K_b$. Such as:  \n",
    "$$\\ce{NH3(aq) + H2O(l) <=> NH4+ (aq) + OH- (aq)}$$  \n",
    "$$K_b = \\frac{[\\ce{NH4+}][\\ce{OH-}]}{[\\ce{NH3}]}$$  \n",
    "**Example** What is the pH of a 0.40 M ammonia solution?  \n",
    "Step 1. ICE Table:   \n",
    "\n",
    "<table class=\"tg\">\n",
    " <col width=\"150\">\n",
    " <col width=\"120\">\n",
    " <col width=\"120\">\n",
    " <col width=\"120\">\n",
    "  <col width=\"120\">\n",
    "  <tr>\n",
    "    <th class=\"tg-031e\"></th>\n",
    "    <th class=\"tg-031e\">$\\ce{NH3}$</th>\n",
    "    <th class=\"tg-031e\">$\\ce{H2O}$</th>\n",
    "    <th class=\"tg-031e\">$\\ce{NH4+}$</th>\n",
    "    <th class=\"tg-yw4l\">$\\ce{OH-}$</th>\n",
    "  </tr>\n",
    "  <tr>\n",
    "    <td class=\"tg-031e\">Initial (M): </td>\n",
    "    <td class=\"tg-031e\">$0.40$</td>\n",
    "    <td class=\"tg-031e\">N/A</td>\n",
    "    <td class=\"tg-031e\">$0$</td>\n",
    "    <td class=\"tg-yw4l\">$0$</td>\n",
    "  </tr>\n",
    "  <tr>\n",
    "    <td class=\"tg-031e\">Change (M): </td>\n",
    "    <td class=\"tg-031e\">$-x$</td>\n",
    "    <td class=\"tg-031e\">N/A</td>\n",
    "    <td class=\"tg-031e\">$+x$</td>\n",
    "    <td class=\"tg-yw4l\">$+x$</td>\n",
    "  </tr>\n",
    "  <tr>\n",
    "    <td class=\"tg-031e\">Equilibrium (M): </td>\n",
    "    <td class=\"tg-031e\">$(0.40-x)$</td>\n",
    "    <td class=\"tg-031e\">N/A</td>\n",
    "    <td class=\"tg-031e\">$x$</td>\n",
    "    <td class=\"tg-yw4l\">$x$</td>\n",
    "  </tr>\n",
    "</table>\n",
    "Step 2. Calculate $x$ \n",
    "$$K_b = \\frac{x\\cdot x}{0.40-x}=1.8\\times 10^{-5}$$  \n",
    "$$x = 0.00267\\,\\text{M}$$  \n",
    "Step 3. Calculate pH  \n",
    "$$[\\ce{OH-}] = 0.00267\\,\\text{M}$$  \n",
    "$$\\ce{pH}=14-(-\\log (0.00267) )=11.43$$"
   ]
  },
  {
   "cell_type": "code",
   "execution_count": 2,
   "metadata": {},
   "outputs": [
    {
     "data": {
      "text/plain": [
       "[-0.0190615605976626, 0.0183615605976626]"
      ]
     },
     "execution_count": 2,
     "metadata": {},
     "output_type": "execute_result"
    }
   ],
   "source": [
    "from sympy import *\n",
    "x,y= symbols('x y')\n",
    "# Solve an equation to get the value of x\n",
    "# 1. In calculation of the pH of a HF solution\n",
    "# You can go to the website [http://live.sympy.org/] and try the following codes\n",
    "Ka = 0.0007\n",
    "C0=0.5\n",
    "solve(Ka*(C0-x)-x**2)\n",
    "# Ignore the nagtive value. "
   ]
  },
  {
   "cell_type": "code",
   "execution_count": 2,
   "metadata": {},
   "outputs": [
    {
     "data": {
      "text/plain": [
       "[-0.00269229666641615, 0.00267429666641615]"
      ]
     },
     "execution_count": 2,
     "metadata": {},
     "output_type": "execute_result"
    }
   ],
   "source": [
    "# 2. In calculatation of  the pH of an ammonia solution\n",
    "Kb=0.000018\n",
    "C0=0.4\n",
    "solve(Kb*(C0-x)-x**2)\n",
    "# Ignore the nagtive value. "
   ]
  },
  {
   "cell_type": "markdown",
   "metadata": {},
   "source": [
    "### Diprotic and Polyprotic Acids###  \n",
    "As discussed above, diprotic and polyprotic acids Ionize in a stepwise manner. Each step corresponds to an equilibrium constant.  \n",
    "**Example** Calculate the concentrations of all the species present at equilibrium in a 0.10 M solution of $\\ce{H2C2O4}$ ($K_{a_1} = 6.5\\times 10^{-2}$ and $K_{a_2} = 6.1\\times 10^{-5}$).  \n",
    "*Usually, the equilibrium constants of the later steps are much smaller than those of the early steps. $[\\ce{H+}]$ mainly depends on the first step.*  \n",
    "Step 1. ICE table for the first step ionization(similar as examples above).  \n",
    "Step 2. Calculate $x$. \n",
    "$$K_a = \\frac{x\\cdot x}{0.10-x}=6.5\\times 10^{-2}$$  \n",
    "$$x =0.0544 \\,\\text{M}$$  \n",
    "Step 3. equilibrium concentrations after first step ionization.  \n",
    "$$\\begin{align*}\n",
    "& [\\ce{H+}]=0.054\\,\\text{M} \\\\\n",
    "& [\\ce{HC2O4-}]=0.054\\,\\text{M} \\\\\n",
    "& [\\ce{H2C2O4}]=(0.10-0.054)\\,\\text{M}=0.046\\,\\text{M}\n",
    "\\end{align*}$$  \n",
    "Step 4. ICE table for the second step ionization  \n",
    "\n",
    "<table class=\"tg\">\n",
    " <col width=\"150\">\n",
    " <col width=\"120\">\n",
    " <col width=\"120\">\n",
    " <col width=\"120\">\n",
    "  <tr>\n",
    "    <th class=\"tg-031e\"></th>\n",
    "    <th class=\"tg-031e\">$\\ce{HC2O4-}$</th>\n",
    "    <th class=\"tg-031e\">$\\ce{H+}$</th>\n",
    "    <th class=\"tg-031e\">$\\ce{C2O4^2-}$</th>\n",
    "  </tr>\n",
    "  <tr>\n",
    "    <td class=\"tg-031e\">Initial (M): </td>\n",
    "    <td class=\"tg-031e\">$0.054$</td>\n",
    "    <td class=\"tg-031e\">$0.054$</td>\n",
    "    <td class=\"tg-031e\">$0$</td>\n",
    "  </tr>\n",
    "  <tr>\n",
    "    <td class=\"tg-031e\">Change (M): </td>\n",
    "    <td class=\"tg-031e\">$-y$</td>\n",
    "    <td class=\"tg-031e\">$+y$</td>\n",
    "    <td class=\"tg-031e\">$+y$</td>\n",
    "  </tr>\n",
    "  <tr>\n",
    "    <td class=\"tg-031e\">Equilibrium (M): </td>\n",
    "    <td class=\"tg-031e\">$(0.054-y)$</td>\n",
    "    <td class=\"tg-031e\">$(0.054-y)$</td>\n",
    "    <td class=\"tg-031e\">$y$</td>\n",
    "  </tr>\n",
    "</table>  \n",
    "\n",
    "Step 5. Calculate $y$.  \n",
    "$$K_{a_2}=\\frac{[\\ce{H+}][\\ce{C2O4^2-}]}{[\\ce{HC2O4-}]}=\\frac{(0.054+y)\\times y}{0.054-y}=6.1\\times 10^{-5}$$  \n",
    "$$y=6.1\\times 10^{-5}$$  \n",
    "Step 6. Calculate the concentrations after second step ionization.  \n",
    "$$\\begin{align*}\n",
    "& [\\ce{H2C2O4}]=0.046\\,\\text{M} \\\\\n",
    "& [\\ce{HC2O4-}]=(0.054-6.1\\times 10^{-5})=0.054\\,\\text{M} \\\\\n",
    "& [\\ce{H+}]=(0.054+6.1\\times 10^{-5})=0.054\\,\\text{M} \\\\\n",
    "& [\\ce{C2O4^-2}]=6.1\\times 10^{-5}\\,\\text{M} \\\\\n",
    "& [\\ce{OH-}]=1.0\\times 10^{-14}/0.054=1.9\\times 10^{-13}\n",
    "\\end{align*}$$"
   ]
  },
  {
   "cell_type": "code",
   "execution_count": 5,
   "metadata": {},
   "outputs": [
    {
     "data": {
      "text/plain": [
       "[-0.119426693253569, 0.0544266932535686]"
      ]
     },
     "execution_count": 5,
     "metadata": {},
     "output_type": "execute_result"
    }
   ],
   "source": [
    "Ka1=0.065\n",
    "C0=0.1\n",
    "solve(Ka1*(C0-x)-x**2)"
   ]
  },
  {
   "cell_type": "code",
   "execution_count": 7,
   "metadata": {},
   "outputs": [
    {
     "data": {
      "text/plain": [
       "[-0.0541218626502987, 6.08626502987110e-5]"
      ]
     },
     "execution_count": 7,
     "metadata": {},
     "output_type": "execute_result"
    }
   ],
   "source": [
    "Ka2=0.000061\n",
    "C1=0.054\n",
    "solve(Ka2*(C1-y)-(C1+y)*y)"
   ]
  },
  {
   "cell_type": "markdown",
   "metadata": {},
   "source": [
    "### Calculate  pH  of a salt solution###  \n",
    "\n",
    "As discussed above, an anion from a weak acid or a cation from a weak base can hydrolyze in water to generate either $\\ce{OH-}$ or $\\ce{H+}$. \n",
    "\n",
    "**Example** Calculate the pH of a 0.24 M sodium formate solution ($\\ce{CH3COONa}$).  \n",
    "First, $\\ce{CH3COONa}$ would completely ionize to generate 0.24 M $\\ce{CH3COO-}$ and 0.24 M $\\ce{Na+}$.  \n",
    "Secondly, $\\ce{CH3COO-}$ would hydrolize with an equilibrium constant $K_b = 5.6\\times 10^{-10}$. This becomes a question of equilibrium concentrations. Draw the \"ICE\" table and get the following equation: \n",
    "$$K_b = 5.6\\times 10^{-10} = \\frac{[\\ce{CH3COOH}][\\ce{OH-}]}{[\\ce{CH3COO-}]} = \\frac{x^2}{0.24-x}$$  \n",
    "$$[\\ce{OH-}]=x= 1.16\\times 10^{-5}$$  \n",
    "$$\\ce{pH}=14-(-\\log [\\ce{OH-}])=9.1$$"
   ]
  },
  {
   "cell_type": "code",
   "execution_count": 3,
   "metadata": {},
   "outputs": [
    {
     "data": {
      "text/plain": [
       "[-1.15933814003329e-5, 1.15928214003329e-5]"
      ]
     },
     "execution_count": 3,
     "metadata": {},
     "output_type": "execute_result"
    }
   ],
   "source": [
    "Kb= 0.00000000056\n",
    "C0= 0.24\n",
    "solve(Kb*(C0-x)-x**2)"
   ]
  },
  {
   "cell_type": "markdown",
   "metadata": {},
   "source": [
    "### Correlation between $K_a$ and $K_b$ of conjugate acid-base###  \n",
    "$$K_aK_b=K_w$$"
   ]
  },
  {
   "cell_type": "markdown",
   "metadata": {},
   "source": [
    "> **Requirements**  \n",
    "> 1. Calculate $\\ce{pH}$ and $\\ce{pOH}$ from $[\\ce{H+}]$ or $[\\ce{OH-}]$ (Textbook Example 16.3, 16.4, 16.5);  \n",
    "> 2. Calculate $\\ce{pH}$ for a given concentration of a strong acid or a strong base (Textbook Example 16.6); \n",
    "> 3. Calculate $\\ce{pH}$ for a given concentration of a weak acid ($K_a$) or a weak base ($K_b$) (Textbook Example 16.8, 16.9, 16.11);  \n",
    "> 4. Calculate the concentrations of ions for a given concentration of a weak diprotic acid ($K_a$) (Textbook Example 16.10,);  \n",
    "> 5. Calculate $\\ce{pH}$ of a salt solution (Textbook Example 16.13). \n",
    "> 6. Remember the correlation between $K_a$ and $K_b$ of conjugate acid-base. "
   ]
  },
  {
   "cell_type": "markdown",
   "metadata": {},
   "source": [
    "---"
   ]
  },
  {
   "cell_type": "raw",
   "metadata": {},
   "source": [
    "Please ignore the cell below. It just loads our style for the notebook."
   ]
  },
  {
   "cell_type": "code",
   "execution_count": 1,
   "metadata": {},
   "outputs": [
    {
     "data": {
      "text/html": [
       "<link href=\"https://fonts.googleapis.com/css?family=Lora:400,400i,700,700i|Open+Sans:400,400i|Raleway:400,400i,700,700i\" rel=\"stylesheet\" type='text/css'>\n",
       "<style  type=\"text/css\">\n",
       "div.text_cell_render {\n",
       "\tfont-family: Lora, serif;\n",
       "\tcolor: #222222;\n",
       "}\n",
       ".text_cell_render p {\n",
       "\tpadding-left: 1.5em;\n",
       "\ttext-align: justify;\n",
       "}\n",
       ".text_cell_render h3, h4, h6 {\n",
       "\tfont-family: Raleway, sans-serif;\n",
       "\tcolor: #005c99;\n",
       "}\n",
       ".text_cell_render h1 {\n",
       "\tfont-family: \"Open Sans\", sans-serif;\n",
       "\tfont-weight: 700;\n",
       "\tmargin: auto;\n",
       "\tdisplay: block;\n",
       "}\n",
       ".text_cell_render h2 {\n",
       "\tfont-family: Raleway, sans-serif;\n",
       "\tfont-weight: 700; \n",
       "\tmargin-top: 50px;\n",
       "\tdisplay:inline-block;\n",
       "\tpadding: 10px 15px;\n",
       "\tbackground-color: #007acc;\n",
       "\tcolor: #f8f8f8;\n",
       "\tborder-radius: 10px 40px 10px 40px;\n",
       "\tletter-spacing: 3px;\n",
       "\tfont-variant: small-caps;\n",
       "}\n",
       ".text_cell_render h5 {\n",
       "\tfont-family: \"Open Sans\", sans-serif;\n",
       "\tfont-weight: 400;\n",
       "\tborder-style: groove;\n",
       "\tpadding:0.5em 0.5em 0.5em 0.5em;\n",
       "\tmargin: 1em 0 1em 0;\n",
       "\tline-height: 1.6;\n",
       "}\n",
       "div #notebook {\n",
       "\tbackground-color: #f8f8f8;\n",
       "\twidth: 1110px;\t\n",
       "\tmargin: auto;\n",
       "\tpadding-left: 0em;\n",
       "\tborder: 3px solid #cbd3e5; \n",
       "\tbox-shadow: 0px 0px 7px 1px #cccccc;\n",
       "}\n",
       "div.example {\n",
       "    background-color:#007acc;\n",
       "    color: #ffffff;\n",
       "    margin: auto;\n",
       "    width: 100%; \n",
       "\tpadding: 1.4em; \n",
       "\tborder: 3px solid #007acc; \n",
       "\tborder-radius: 10px; \n",
       "\tmargin-bottom: 14px; \n",
       "\tmargin-top: 14px;  \n",
       "\tbox-shadow: 7px 7px 5px #cccccc; \n",
       "\toverflow: hidden;\n",
       "}\n",
       "div.practice {\n",
       "    background-color:#fbfbfb;\n",
       "    color: #007acc;\n",
       "    margin: auto;\n",
       "    width: 100%; \n",
       "\tpadding: 1.4em; \n",
       "\tborder: 3px solid #eeeeee; \n",
       "\tborder-radius: 10px; \n",
       "\tmargin-bottom: 14px; \n",
       "\tmargin-top: 14px;  \n",
       "\tbox-shadow: 7px 7px 5px #cccccc; \n",
       "\toverflow: hidden;\n",
       "}\n",
       "div #notebook-container {\n",
       "\tbackground-color: #ffffff;\n",
       "\tfont-size: 1.5em; \n",
       "\tline-height: 1.6;\n",
       "\twidth: 1100px;\n",
       "\tmargin: auto;\n",
       "\tpadding-right: 150px;\n",
       "}\n",
       ".CodeMirror-code {\n",
       "\tfont-size: 1.2em;\n",
       "\tline-height: 125%;\n",
       "\topacity: 0.9;\n",
       "}\n",
       "\n",
       ".text_cell_render td {\n",
       "    border-style: hidden;\n",
       "}\n",
       ".text_cell_render table {\n",
       "    border-style: hidden;\n",
       "\tborder-collapse: collapse;\n",
       "\twidth: 100%;\n",
       "    font-size: 80%;\n",
       "}\n",
       "\n",
       ".text_cell_render th, td {\n",
       "\tpadding: 8px;\n",
       "}\n",
       "\n",
       ".text_cell_render tr:nth-child(even){background-color: #e8e8e8}\n",
       "\n",
       ".text_cell_render th {\n",
       "    border-style: hidden;\n",
       "\tbackground-color: #007acc;\n",
       "\tcolor: #f8f8f8;\n",
       "}\n",
       "table td, table th, table tr {\n",
       "    text-align:left !important;\n",
       "}\n",
       "</style>\n",
       "\n"
      ],
      "text/plain": [
       "<IPython.core.display.HTML object>"
      ]
     },
     "execution_count": 1,
     "metadata": {},
     "output_type": "execute_result"
    }
   ],
   "source": [
    "from IPython.core.display import HTML\n",
    "def css_styling():\n",
    "    styles = open(\"custom.css\", \"r\").read()\n",
    "    return HTML(styles)\n",
    "css_styling()"
   ]
  },
  {
   "cell_type": "code",
   "execution_count": null,
   "metadata": {
    "collapsed": true
   },
   "outputs": [],
   "source": []
  }
 ],
 "metadata": {
  "anaconda-cloud": {},
  "kernelspec": {
   "display_name": "Python 3",
   "language": "python",
   "name": "python3"
  },
  "language_info": {
   "codemirror_mode": {
    "name": "ipython",
    "version": 3
   },
   "file_extension": ".py",
   "mimetype": "text/x-python",
   "name": "python",
   "nbconvert_exporter": "python",
   "pygments_lexer": "ipython3",
   "version": "3.6.4"
  },
  "latex_envs": {
   "bibliofile": "biblio.bib",
   "cite_by": "apalike",
   "current_citInitial": 1,
   "eqLabelWithNumbers": true,
   "eqNumInitial": 0
  }
 },
 "nbformat": 4,
 "nbformat_minor": 1
}
