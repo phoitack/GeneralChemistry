{
 "cells": [
  {
   "cell_type": "markdown",
   "metadata": {},
   "source": [
    "$$\\require{mhchem}$$\n",
    "# <center>Study Guide: Chapter 16. Acids and Bases</center>\n",
    "## <center>General Chemistry: The Essential Concepts</center>\n",
    "\n",
    "<center>Seventh Edition</center>\n",
    "\n",
    "<center>Raymond Chang and Kenneth A. Goldsby</center>"
   ]
  },
  {
   "cell_type": "markdown",
   "metadata": {},
   "source": [
    "## 1. General Concepts\n",
    "\n",
    "### Brønsted Acids and Bases\n",
    "\n",
    "Definations of Brønsted acids and bases are givin in Chapter 4. A Brønsted acid is a substance capable of donating a proton, and a Brønsted base is a substance capable of accepting a proton. \n",
    "\n",
    "**Conjugate acid-base pair** The conjugate base of a Brønsted acid is the species that remains when one proton has been removed from the acid. Conversely, a conjugate acid results from the addition of a proton to a Brønsted base.\n",
    "\n",
    "**Example** \n",
    "$$\\ce{CH3COOH (aq) + H2O (l) <=> CH3COO- (aq) + H3O+ (aq)}$$\n",
    "In this reaction, $\\ce{CH3COOH}$ is an acid, and $\\ce{CH3COO-}$ is its conjugate base; $\\ce{H2O}$ is a base, and $\\ce{H3O+}$ is its conjugate acid. "
   ]
  },
  {
   "cell_type": "markdown",
   "metadata": {
    "collapsed": true
   },
   "source": [
    "**Diprotic and Triprotic Acids** \n",
    "\n",
    "* May yield more than one hydrogen ion per molecule; \n",
    "* Ionize in a stepwise manner; \n",
    "* Each ionization step has a ionization constant. \n",
    "\n",
    "**Example**\n",
    "$$\\ce{H2CO3 (aq) + H2O (l) <=> H3O+ (aq) +HCO3- (aq)}\\quad K_{a_1}=\\frac{[\\ce{H3O+}][\\ce{HCO3-}]}{[\\ce{H2CO3}]}$$\n",
    "$$\\ce{HCO3- (aq) + H2O (l) <=> H3O+ (aq) + CO3^2- (aq)} \\quad K_{a_2}=\\frac{[\\ce{H3O+}][\\ce{CO3^2-}]}{[\\ce{HCO3-}]}$$"
   ]
  },
  {
   "cell_type": "markdown",
   "metadata": {},
   "source": [
    "### The Acid and Base Properties of Water\n",
    "\n",
    "$$\\ce{H2O + H2O <=> H3O+ + OH-}$$\n",
    "\n",
    "or\n",
    "\n",
    "$$\\ce{H2O <=> H+ + OH-}$$\n",
    "\n",
    "at $25\\,^\\circ\\text{C}$\n",
    "\n",
    "$$K_w = [\\ce{H+}][\\ce{OH-}]=1.0\\times10^{-14}$$"
   ]
  },
  {
   "cell_type": "markdown",
   "metadata": {},
   "source": [
    "**pH - A Measure of Acidity** \n",
    "$$\\ce{pH}=-\\log [\\ce{H+}]$$\n",
    "\n",
    "In water, at $25\\,^\\circ\\text{C}$, $\\ce{pH}=7$ means the solution is neutral; $\\ce{pH}<7$, acidic; $\\ce{pH}>7$, basic. \n",
    "\n",
    "$\\ce{pOH}$ can be defined as \n",
    "$$\\ce{pOH}=-\\log [\\ce{OH-}]$$\n",
    "\n",
    "Since $K_w = [\\ce{H+}][\\ce{OH-}]=1.0\\times10^{-14}$, $\\ce{pH}+\\ce{pOH} = 14$. Knowing one of them means the other is also known. Only $\\ce{pH}$ is commonly used. "
   ]
  },
  {
   "cell_type": "markdown",
   "metadata": {},
   "source": [
    "### Strength of Acids and Bases###\n",
    "\n",
    "**Strong acids and strong bases** are strong electrolytes which are assumed to ionize completely in water.  \n",
    "**Weak acids and weak bases** are weak electrolytes which would partially ionize in water.  \n",
    "**Important:** Table 16.2. \n",
    "\n",
    "* A stronger acid has weaker conjugate base. \n",
    "* $\\ce{H3O+}$ or $\\ce{H+}$ is the strongest acid that can exist in aqueous solution.\n",
    "* $\\ce{OH-}$ is the strongest base that can exist in aqueous solution."
   ]
  },
  {
   "cell_type": "markdown",
   "metadata": {},
   "source": [
    "> **Requirements**  \n",
    "> 1. Understand the concepts, understand the meaning of $\\ce{pH}$ value;\n",
    "> 2. Remember the relavent strength of common acids and bases (Textbook Example 16.7);\n",
    "> 3. Given an acid/base reaction, recognize which is the acid and which is the base, and tell what are their conjugate base and conjugate acid. (Textbook Example 16.1 and following Practice Excercise)"
   ]
  },
  {
   "cell_type": "markdown",
   "metadata": {},
   "source": [
    "**2. pH Related Calculations**  \n",
    "** Calculate $\\ce{pH}$ and $\\ce{pOH}$ from $[\\ce{H+}]$ or $[\\ce{OH-}]$**"
   ]
  },
  {
   "cell_type": "markdown",
   "metadata": {},
   "source": [
    "> **Requirements**  \n",
    "> 1. Calculate $\\ce{pH}$ and $\\ce{pOH}$ from $[\\ce{H+}]$ or $[\\ce{OH-}]$ (Textbook Example 16.3, 16.4, 16.5);  \n",
    "> 2. Calculate $\\ce{pH}$ for a given concentration of a strong acid or a strong base (Textbook Example 16.6); \n",
    "> 3. Calculate $\\ce{pH}$ for a given concentration of a weak acid ($K_a$) or a weak base ($K_b$);  \n",
    "> 4. Calculate the concentrations of ions for a given concentration of a weak diprotic acid ($K_a$);  \n",
    "> 5. Calculate $\\ce{pH}$ of a salt solution. "
   ]
  },
  {
   "cell_type": "code",
   "execution_count": null,
   "metadata": {
    "collapsed": true
   },
   "outputs": [],
   "source": []
  }
 ],
 "metadata": {
  "anaconda-cloud": {},
  "kernelspec": {
   "display_name": "Python [default]",
   "language": "python",
   "name": "python3"
  },
  "language_info": {
   "codemirror_mode": {
    "name": "ipython",
    "version": 3
   },
   "file_extension": ".py",
   "mimetype": "text/x-python",
   "name": "python",
   "nbconvert_exporter": "python",
   "pygments_lexer": "ipython3",
   "version": "3.5.1"
  },
  "latex_envs": {
   "bibliofile": "biblio.bib",
   "cite_by": "apalike",
   "current_citInitial": 1,
   "eqLabelWithNumbers": true,
   "eqNumInitial": 0
  }
 },
 "nbformat": 4,
 "nbformat_minor": 0
}
