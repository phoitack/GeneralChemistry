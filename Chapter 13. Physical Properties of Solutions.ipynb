{
 "cells": [
  {
   "cell_type": "markdown",
   "metadata": {},
   "source": [
    "$$\\require{mhchem}$$\n",
    "# <center>Study Guild: Chapter 13. Physical Properties of Solutions</center>\n",
    "## <center>General Chemistry: The Essential Concepts</center>\n",
    "\n",
    "<center>Seventh Edition</center>\n",
    "\n",
    "<center>Raymond Chang and Kenneth A. Goldsby</center>"
   ]
  },
  {
   "cell_type": "markdown",
   "metadata": {},
   "source": [
    "## 1. Some General Concepts and Rules\n",
    "\n",
    "A **solution** is a homogeneous mixture composed of two or more substances. There are six types of solutions (Table 13.1).  \n",
    "A **solute** is the minor component in a solution, dissolved in the solvent.  \n",
    "A **solvent** is a substance that dissolves a solute (a chemically different liquid, solid or gas), resulting in a solution.  \n",
    "A **saturated solution** contains the maximum amount of a solute that will dissolve in a given solvent at a specific temperature.  \n",
    "An **unsaturated solution** contains less solute than the solvent has the capacity to dissolve at a specific temperature.  \n",
    "A **supersaturated solution** contains more solute than is present in a saturated solution at a specific temperature.  Supersaturation is achieved by dissolving a solute in one set of conditions, then transferring it to other conditions without triggering any release of the solute. Supersaturated solutions are extremely unstable, but often require a triggering event to begin returning to a stable state via the solute coming out of solution.  \n",
    "**Molecular view of solution formation** The formation of a solution involves the breaking of solvent-solvent interaction; the breaking of solute-solute interaction; and the formation of solvent-solute interaction.  \n",
    "**exothermic** If the solute-solvent attraction is stronger than the solvent-solvent attraction and solute-solute attraction, the solution process is favorable; that is, it is exothermic ($\\Delta H_{soln} < 0$).  \n",
    "**endothermic** If the solute-solvent interaction is weaker than the solvent-solvent and solute-solute interactions, the solution process is endothermic ($\\Delta H_{soln} > 0$). Some endothermic processes still can happen because the formation of solution increases disorder.  \n",
    "**Solubility** is a measure of the amount of a solute that will dissolve in a given amount of solvent at a specific temperature.  \n",
    "**Miscible:** When two liquids are completely soluble in each other in all proportions, as in this case, they are said to be miscible. Example, methanol & water.  \n",
    "**Solvation** is the process in which an ion or a molecule is surrounded by solvent molecules arranged in a specific manner. When the solvent is water, the process is called *hydration*.)  \n",
    "**Like dissolves like:** Two substances with similar intermolecular forces are likely to be soluble in each other.  \n",
    "* Non-polar molecules are soluble in non-polar solvents\n",
    "* Polar molecules are soluble in polar solvents\n",
    "* Ionic compounds are more soluble in polar solvents  \n",
    "\n",
    "**Temperature effect on the solubility of solids** With increasing temperature, some solid soludes have larger solubility, some lower. There is no clear correlation between the sign of $\\Delta H_{soln}$ and the variation of solubility with temperature.  \n",
    "**Temperature effect on the solubility of gases** Higher temperature always results in lower solubility.  \n",
    "**Pressure effect on the solubility of solids and liquids** No influence.  \n",
    "**Pressure effect on the solubility of gases** *Henry's Law* The solubility of a gas in a liquid is proportional to the pressure of the gas over the solution *assuming no chemical reaction occurs for solute and solvent*. If the solute reacts with the solvent, such as $\\ce{CO2}$ or $\\ce{NH3}$ in water, Henry's Law does not apply.  \n",
    "\n",
    ">**Requirements**  \n",
    "> 1. Remember the concepts and the rules. "
   ]
  },
  {
   "cell_type": "markdown",
   "metadata": {},
   "source": [
    "## 2. Concentration Units  \n",
    "\n",
    "**Mole Fraction** ($X$)  \n",
    "$$\\begin{align}X_\\text{A}=\\frac{\\text{moles of A}}{\\text{sum of moles of all species}}\\end{align}$$  \n",
    "**Percent by Mass**\n",
    "$$\\begin{align}\\text{percent by mass}=\\frac{\\text{mass of solute}}{\\text{mass of solution}}\\times 100\\%\\end{align}$$  \n",
    "**Molarity** (M = mol/L)  \n",
    "$$\\begin{align} M =\\frac{\\text{moles of solute}}{\\text{liters of solution}}\\end{align}$$ \n",
    "**Molality** (m =mol/kg)  \n",
    "$$\\begin{align}m=\\frac{\\text{moles of solute}}{\\text{mass of solvent (kg)}}\\end{align}$$  \n",
    "\n",
    "Given the molar mass of the solute and the density of the solution. Percent by mass, molarity and molality can be calculated from one another.  \n",
    "\n",
    "> **Requirements** \n",
    "> 1. Know how to calculate concentrations; and know how to convert the concentration from on unit to another (Textbook Examples 13.2, 13.3 and 13.4). "
   ]
  },
  {
   "cell_type": "markdown",
   "metadata": {},
   "source": [
    "## 3. Colligative Properties  \n",
    "\n",
    "**Colligative properties** are properties that depend only on the number of solute particles in solution and not on the nature of the solute particles.  \n",
    "\n",
    "**Vapor-Pressure Lowering**  The vapor-pressure of the solvent decreases with the increasing mole fraction of the solute.  \n",
    "$$\\begin{align}P_1 = X_1P_1^0\\end{align}$$  \n",
    "where $X_1$ is the mole fraction of the solvent; $P_1^0$ is the vapor-pressure of the pure solvent; $P_1$ is the vapor-pressure of the solvent over a solution.  \n",
    "\n",
    "**Boiling-Point Elevation and Freezing-Point Depression**  The boiling-point increases proportionally with the molality; The freezing-point decreases proportionally with the molality.  \n",
    "$$\\begin{align}\n",
    "\\Delta T_b = K_bm \\\\\n",
    "\\Delta T_f = K_fm\n",
    "\\end{align}$$  \n",
    "\n",
    "**Osmotic Pressure**  \n",
    "**Semipermeable membrane** allows solvent molecules to pass through but blocks the passage of solute molecules.  \n",
    "**Osmosis** is the net movement of solvent molecules through a semipermeable membrane from a pure solvent or from a dilute solution to a more concentrated solution.  \n",
    "**Osmotic pressure** ($\\pi$) of a solution is the pressure required to stop osmosis. Osmotic pressure is proportional to molarity.  \n",
    "$$\\begin{align}\\pi = MRT\\end{align}$$  \n",
    "\n",
    "**Colligative Properties of Electrolyte Solutions**  \n",
    "Electrolytes dissociate into ions in solution, and so one unit of an electrolyte compound separates into two or more particles when it dissolves. The colligitive properties depends on the total number of solute particles rather than the original unit of electrolyte compound.  \n",
    "Define  \n",
    "$$\\begin{align}i = \\frac{\\text{actual number of particles in soln after dissociation}}{\\text{number of formula units initially dissolved in soln}}\\end{align}$$  \n",
    "Then  \n",
    "$$\\begin{align}\n",
    "\\Delta T_b = iK_bm \\\\\n",
    "\\Delta T_f = iK_fm \\\\\n",
    "\\pi = iMRT\n",
    "\\end{align}$$\n",
    "\n",
    "> **Requirements** \n",
    "> 1. Understand what is colligative property. \n",
    "> 2. Given the concentration of a solution, use the equations provided to calculate the vapor-pressure change, boiling and freezing point change and osmotic pressure (Textbook Example 13.6, 13.7, Problems 13.61). \n",
    "> 3. Understand the difference between non-electrolytes and electrolytes. "
   ]
  }
 ],
 "metadata": {
  "anaconda-cloud": {},
  "kernelspec": {
   "display_name": "Python [default]",
   "language": "python",
   "name": "python3"
  },
  "language_info": {
   "codemirror_mode": {
    "name": "ipython",
    "version": 3
   },
   "file_extension": ".py",
   "mimetype": "text/x-python",
   "name": "python",
   "nbconvert_exporter": "python",
   "pygments_lexer": "ipython3",
   "version": "3.5.1"
  },
  "latex_envs": {
   "bibliofile": "biblio.bib",
   "cite_by": "apalike",
   "current_citInitial": 1,
   "eqLabelWithNumbers": true,
   "eqNumInitial": 0
  }
 },
 "nbformat": 4,
 "nbformat_minor": 0
}
