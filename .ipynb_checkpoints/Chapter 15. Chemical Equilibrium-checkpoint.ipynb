{
 "cells": [
  {
   "cell_type": "markdown",
   "metadata": {},
   "source": [
    "\n",
    "$$\\require{mhchem}$$\n",
    "\n",
    "### [HOME](https://wangyu16.github.io/GeneralChemistry/)\n",
    "\n",
    "# <center>General Chemistry Study Guide</center>\n",
    "\n",
    "### <center>Chapter 15. Chemical Equilibrium</center>\n",
    "\n",
    "---\n",
    "\n",
    "*<center>Yu Wang</center>*\n",
    "\n",
    "##### <b>OpenStax</b> 13 Fundamental Equilibrium Concepts. <b>Brown</b> 15 Chemical Equilibrium. #####"
   ]
  },
  {
   "cell_type": "markdown",
   "metadata": {},
   "source": [
    "## 1. Chemical Equilibrium\n",
    "\n",
    "**Chemical Equilibrium** refers to a state when the rates of the forward and reverse reactions are equal and the concentrations of the reactants and products no longer change with time. \n",
    "\n",
    "**Equilibrium Constant** is  the value of the reaction quotient when the reaction has reached equilibrium.  \n",
    "\n",
    "Given a reaction which occurs via a mechanism of a single *elementary step* in both the forward and reverse directions,\n",
    "\n",
    "$$a\\ce{A} +b\\ce{B} \\ce{<=>} c\\ce{C} + d\\ce{D}$$ \n",
    "\n",
    "The equilibrium constant can be expressed as:  \n",
    "\n",
    "$$K=\\frac{[\\ce{C}]^c[\\ce{D}]^d}{[\\ce{A}]^a[\\ce{B}]^b}$$ \n",
    "\n",
    "The equilibrium constant is dimensionless.  \n",
    "Since the rates of forward ($rate_f$) and reverse ($rate_r$) reactions can be expressed as:\n",
    "\n",
    "\\begin{align*}\n",
    "rate_f & = k_f[\\ce{A}]^a[\\ce{B}]^b \\\\\n",
    "rate_r & = k_r[\\ce{C}]^c[\\ce{D}]^d \n",
    "\\end{align*}  \n",
    "\n",
    "Because the two rates must be equal: $rate_f=rate_r$, thus  \n",
    "\n",
    "\\begin{align*}\n",
    "k_f[\\ce{A}]^a[\\ce{B}]^b & = k_r[\\ce{C}]^c[\\ce{D}]^d \\\\\n",
    "\\frac{[\\ce{C}]^c[\\ce{D}]^d}{[\\ce{A}]^a[\\ce{B}]^b} & =\\frac{k_f}{k_r}\n",
    "\\end{align*} \n",
    "\n",
    "Which means: \n",
    "\n",
    "$$K=\\frac{k_f}{k_r}$$  \n",
    "\n",
    "Thus,  \n",
    "* When the equation for a reversible reaction is written in the opposite direction, the equilibrium constant becomes the reciprocal of the original equilibrium constant. \n",
    "* $K \\gg 1$ means $k_f \\gg k_r$, thus the equilibrium lies to the right (product) side.  \n",
    "* $K \\ll 1$ means $k_f \\ll k_r$, thus the equilibrium lies to the left (reactant) side. "
   ]
  },
  {
   "cell_type": "markdown",
   "metadata": {},
   "source": [
    "> **Requirements**  \n",
    "> 1. Understand chemical equilibrium and equilibrium constant.  \n",
    "> 2. Understand the general expression of equilibrium constant in terms of reactant and product concentrations. Know the correlation between equilibrium constant and forward/reverse rate constants. \n",
    "> 3. Understand what would happen when $K \\gg 1$ or $K \\ll 1$. How would the equilibrium constant change if you write a reaction equation in the opposite direction? "
   ]
  },
  {
   "cell_type": "markdown",
   "metadata": {},
   "source": [
    "<div class=example> \n",
    "    \n",
    "<b>Example:</b> <br>\n",
    "\n",
    "<b>Answer:</b> <br>\n",
    "    \n",
    "    \n",
    "</div>  "
   ]
  },
  {
   "cell_type": "markdown",
   "metadata": {},
   "source": [
    "## 2. Equilibrium Constants\n",
    "\n",
    "### Homogeneous Equilibria  \n",
    "Homogeneous reactions are reactions in which all reacting species are in the same phase.  \n",
    "\n",
    "**Gaseous phase reactions**  \n",
    "All reactants and products are gases.  \n",
    "$K$ can be expressed in mol/L concentrations ($K_c$) or in partial pressures ($K_P$).  \n",
    "\n",
    "$$a\\ce{A} +b\\ce{B} \\ce{<=>} c\\ce{C} + d\\ce{D}$$  \n",
    "\n",
    "\\begin{align*}\n",
    "K_c & =\\frac{[\\ce{C}]^c[\\ce{D}]^d}{[\\ce{A}]^a[\\ce{B}]^b} \\\\\n",
    "K_P & =\\frac{P_C^cP_D^d}{P_A^aP_B^b}\n",
    "\\end{align*}\n",
    "\n",
    "The correlation is: \n",
    "\n",
    "$$K_P=K_c(RT)^{\\Delta n}$$ \n",
    "\n",
    "where $\\Delta n = c+d-a-b$  \n",
    "because  \n",
    "\n",
    "\\begin{align*}\n",
    "PV & =nRT \\\\\n",
    "P & =\\frac{n}{V}RT \\\\\n",
    "P & =cRT\n",
    "\\end{align*}\n",
    "\n",
    "where $c$ is the concentration in molarity.  \n",
    "Thus, \n",
    "\n",
    "\\begin{align*}\n",
    "K_P & =\\frac{P_C^cP_D^d}{P_A^aP_B^b}\\\\\n",
    "& =\\frac{([\\ce{C}]RT)^c([\\ce{D}]RT)^d}{([\\ce{A}]RT)^a([\\ce{B}]RT)^b}\\\\\n",
    "& =K_c(RT)^{\\Delta n}\n",
    "\\end{align*}\n",
    "\n",
    "**Liquid phase reactions**  \n",
    "Equilibrium constant must be expressed in concentrations, e.g. only $K_c$.  \n",
    "When solvent is involved in the reaction  with large quantity, the concentration of solvent can be considered as constant and is included in the equilibrium constant.  \n",
    "\n",
    "An example is  \n",
    "\n",
    "$$\\ce{CH3COOH(aq) +H2O(l) <=> CH3COO- (aq) + H3O+(aq)}$$  \n",
    "\n",
    "The equilibrium constant is \n",
    "\n",
    "$$K'_c=\\frac{[\\ce{CH3COO-}][\\ce{H3O+}]}{[\\ce{CH3COOH}][\\ce{H2O}]}$$  \n",
    "\n",
    "which can be written in a different way  \n",
    "\n",
    "$$K_c=K'_c[\\ce{H2O}]=\\frac{[\\ce{CH3COO-}][\\ce{H3O+}]}{[\\ce{CH3COOH}]}$$ \n",
    "\n",
    "The final form of equilibrium constant is $K_c$ rather than $K'_c$."
   ]
  },
  {
   "cell_type": "markdown",
   "metadata": {},
   "source": [
    "<div class=example> \n",
    "    \n",
    "<b>Example:</b> <br>\n",
    "\n",
    "<b>Answer:</b> <br>\n",
    "    \n",
    "    \n",
    "</div>  "
   ]
  },
  {
   "cell_type": "markdown",
   "metadata": {},
   "source": [
    "### Heterogeneous Equilibria  \n",
    "A reversible reaction involving reactants and products that are in different phases leads to a heterogeneous equilibrium. The concentrations of pure solids and pure liquids are not included in the expression of equilibrium constants.  \n",
    "\n",
    "For example,  \n",
    "\n",
    "$$\\ce{CaCO3(s) <=> CaO(s) + CO2(g)}$$  \n",
    "\n",
    "The equilibrium constant is:  \n",
    "\n",
    "$$K_c=[\\ce{CO2}]\\ \\text{or}\\ K_P=P_{\\ce{CO2}}$$"
   ]
  },
  {
   "cell_type": "markdown",
   "metadata": {},
   "source": [
    "<div class=example> \n",
    "    \n",
    "<b>Example:</b> <br>\n",
    "\n",
    "<b>Answer:</b> <br>\n",
    "    \n",
    "    \n",
    "</div>  "
   ]
  },
  {
   "cell_type": "markdown",
   "metadata": {},
   "source": [
    "> **Requirements**  \n",
    "> 1. Given reaction equations, write the expressions for $K_c$, and $K_P$ if applicable. \n",
    "> 2. Calculate the equilibrium constant knowing the equilibrium concentrations/partial pressures of all species. Calculate the equilibrium concentration/partial pressure of one reactant or product knowing the equilibrium constant and concentrations/partial pressures of all other species. "
   ]
  },
  {
   "cell_type": "markdown",
   "metadata": {},
   "source": [
    "## 3. Reaction Quotient  \n",
    "The **reaction quotient** ($Q_c$) is calculated by substituting the initial concentrations of the reactants and products into the equilibrium constant ($K_c$) expression.  \n",
    "\n",
    "$$a\\ce{A} +b\\ce{B} \\ce{<=>} c\\ce{C} + d\\ce{D}$$ \n",
    "\n",
    "$$K_c=\\frac{[\\ce{C}]_{eq}^c[\\ce{D}]_{eq}^d}{[\\ce{A}]_{eq}^a[\\ce{B}]_{eq}^b}$$ \n",
    "\n",
    "where the subscript \"eq\" refers to equilibrium condition. \n",
    "\n",
    "$$Q_c=\\frac{[\\ce{C}]_{0}^c[\\ce{D}]_{0}^d}{[\\ce{A}]_{0}^a[\\ce{B}]_{0}^b}$$\n",
    "\n",
    "where the subscript \"0\" means the initial state.  \n",
    "\n",
    "Compare $Q_c$ with $K_c$:  \n",
    "* If $Q_c > K_c$, the system proceeds from right to left to reach equilibrium; \n",
    "* If $Q_c = K_c$, the system is at equilibrium; \n",
    "* If $Q_c < K_c$, The system proceeds from left to right to reach equilibrium.  \n",
    "\n"
   ]
  },
  {
   "cell_type": "markdown",
   "metadata": {},
   "source": [
    "<div class=example> \n",
    "    \n",
    "<b>Example:</b> <br>\n",
    "\n",
    "<b>Answer:</b> <br>\n",
    "    \n",
    "    \n",
    "</div>  "
   ]
  },
  {
   "cell_type": "markdown",
   "metadata": {},
   "source": [
    "> **Requirements**  \n",
    "> 1. Given concentrations of all reactants and products at a moment, calculate the value of $Q_c$. Compare $Q_c$ with $K_c$ and tell how would the system proceed to reach equilibrium. "
   ]
  },
  {
   "cell_type": "markdown",
   "metadata": {},
   "source": [
    "## 4. Equilibrium Concentrations  \n",
    "For a reaction:  \n",
    "\n",
    "$$a\\ce{A} +b\\ce{B} \\ce{<=>} c\\ce{C} + d\\ce{D}$$  \n",
    "\n",
    "given the initial concentrations of $\\ce{A}$ and $\\ce{B}$, and the equilibrium constant $K_c$, calculate the equilibrium concentrations of all reactants and products.  \n",
    "Use ICE table:  \n",
    "\n",
    "<table class=\"tg\">\n",
    " <col width=\"150\">\n",
    " <col width=\"120\">\n",
    " <col width=\"120\">\n",
    " <col width=\"120\">\n",
    " <col width=\"120\">\n",
    "  <tr>\n",
    "    <th class=\"tg-yw4l\"></th>\n",
    "    <th class=\"tg-yw4l\">$\\ce{A}$</th>\n",
    "    <th class=\"tg-yw4l\">$\\ce{B}$</th>\n",
    "    <th class=\"tg-yw4l\">$\\ce{C}$</th>\n",
    "    <th class=\"tg-yw4l\">$\\ce{D}$</th>\n",
    "  </tr>\n",
    "  <tr>\n",
    "    <td class=\"tg-yw4l\">Initial (M):</td>\n",
    "    <td class=\"tg-yw4l\">$[\\ce{A}]_0$</td>\n",
    "    <td class=\"tg-yw4l\">$[\\ce{B}]_0$</td>\n",
    "    <td class=\"tg-yw4l\">$0$</td>\n",
    "    <td class=\"tg-yw4l\">$0$</td>\n",
    "  </tr>\n",
    "  <tr>\n",
    "    <td class=\"tg-yw4l\">Change (M):</td>\n",
    "    <td class=\"tg-yw4l\">$-ax$</td>\n",
    "    <td class=\"tg-yw4l\">$-bx$</td>\n",
    "    <td class=\"tg-yw4l\">$cx$</td>\n",
    "    <td class=\"tg-yw4l\">$dx$</td>\n",
    "  </tr>\n",
    "  <tr>\n",
    "    <td class=\"tg-yw4l\">Equilibrium (M):</td>\n",
    "    <td class=\"tg-yw4l\">$[\\ce{A}]_0-ax$</td>\n",
    "    <td class=\"tg-yw4l\">$[\\ce{B}]_0-bx$</td>\n",
    "    <td class=\"tg-yw4l\">$cx$</td>\n",
    "    <td class=\"tg-yw4l\">$dx$</td>\n",
    "  </tr>\n",
    "</table>\n",
    "\n",
    "$$K_c = \\frac{(cx)^c\\times (dx)^d}{([\\ce{A}]_0-ax)^a\\times([\\ce{B}]_0-bx)^b}$$  \n",
    "\n",
    "Solve the equation to find $x$, then calculate the equilibrium concentrations of all species. \n"
   ]
  },
  {
   "cell_type": "markdown",
   "metadata": {},
   "source": [
    "<div class=example> \n",
    "    \n",
    "<b>Example:</b> <br>\n",
    "\n",
    "<b>Answer:</b> <br>\n",
    "    \n",
    "    \n",
    "</div>  "
   ]
  },
  {
   "cell_type": "markdown",
   "metadata": {},
   "source": [
    "> **Requirements**  \n",
    "> 1. Knowing the initial concentrations of reactants and the equilibrium constant, calculate the equilibrium concentrations of all species. "
   ]
  },
  {
   "cell_type": "markdown",
   "metadata": {
    "collapsed": true
   },
   "source": [
    "## 5. Le Chatelier’s Principle  \n",
    "**Le Chatelier's Principle** tells if an external stress is applied to a system at equilibrium, the system adjusts in such a way that the stress is partially offset as it tries to reestablish equilibrium.  \n",
    "* Adding of reactant push the reaction proceeds towards the product; adding of product, towards reactant. Removal of reactant draw the reaction proceeds back towards the reactant; removal of product, towards product. \n",
    "* With decreasing external pressure (= increasing volume), the reaction shifts towards the side which generates more gaseous species; while increasing external pressure (= decreasing volume) push the reaction towards the side which generates less gaseous species. \n",
    "* Increased temperature shifts the equilibrium towards endothermic direction ($\\Delta H^o > 0$); decreased temperature drives the equilibrium towards exothermic direction ($\\Delta H^o < 0$). \n",
    "* Catalyst does not affect equilibrium. \n",
    "\n",
    "\n",
    "<table class=\"tg\">\n",
    "  <tr>\n",
    "    <th class=\"tg-031e\">Factors</th>\n",
    "    <th class=\"tg-031e\">Shift Equilibrium?</th>\n",
    "    <th class=\"tg-031e\">Change $K_c$?</th>\n",
    "  </tr>\n",
    "  <tr>\n",
    "    <td class=\"tg-031e\">Concentration</td>\n",
    "    <td class=\"tg-031e\">Yes</td>\n",
    "    <td class=\"tg-031e\">No</td>\n",
    "  </tr>\n",
    "  <tr>\n",
    "    <td class=\"tg-031e\">Pressure</td>\n",
    "    <td class=\"tg-031e\">Yes*</td>\n",
    "    <td class=\"tg-031e\">No</td>\n",
    "  </tr>\n",
    "  <tr>\n",
    "    <td class=\"tg-031e\">Volume</td>\n",
    "    <td class=\"tg-031e\">Yes*</td>\n",
    "    <td class=\"tg-031e\">No</td>\n",
    "  </tr>\n",
    "  <tr>\n",
    "    <td class=\"tg-yw4l\">Temperature</td>\n",
    "    <td class=\"tg-yw4l\">Yes</td>\n",
    "    <td class=\"tg-yw4l\">Yes</td>\n",
    "  </tr>\n",
    "  <tr>\n",
    "    <td class=\"tg-yw4l\">Catalyst</td>\n",
    "    <td class=\"tg-yw4l\">No</td>\n",
    "    <td class=\"tg-yw4l\">No</td>\n",
    "  </tr>\n",
    "</table>  \n",
    "*Dependent on relative moles of gaseous reactants and products "
   ]
  },
  {
   "cell_type": "markdown",
   "metadata": {},
   "source": [
    "<div class=example> \n",
    "    \n",
    "<b>Example:</b> <br>\n",
    "\n",
    "<b>Answer:</b> <br>\n",
    "    \n",
    "    \n",
    "</div>  "
   ]
  },
  {
   "cell_type": "markdown",
   "metadata": {},
   "source": [
    "> **Requirements**  \n",
    "> 1. Understand Le Chatelier's Principle.\n",
    "> 2. Predict the equilibrium shift of a reaction using Le Chatelier's Principle."
   ]
  },
  {
   "cell_type": "markdown",
   "metadata": {},
   "source": [
    "<div class=practice>\n",
    "    \n",
    "<b>Practice</b> <br>\n",
    "\n",
    "1. <br>\n",
    "2. <br>\n",
    "    \n",
    "</div>    "
   ]
  },
  {
   "cell_type": "markdown",
   "metadata": {
    "collapsed": true
   },
   "source": [
    "---"
   ]
  },
  {
   "cell_type": "raw",
   "metadata": {},
   "source": [
    "Please ignore the cell below. It just loads our style for the notebook."
   ]
  },
  {
   "cell_type": "code",
   "execution_count": 1,
   "metadata": {},
   "outputs": [
    {
     "data": {
      "text/html": [
       "<link href=\"https://fonts.googleapis.com/css?family=Lora:400,400i,700,700i|Open+Sans:400,400i|Raleway:400,400i,700,700i\" rel=\"stylesheet\" type='text/css'>\n",
       "<style  type=\"text/css\">\n",
       "div.text_cell_render {\n",
       "\tfont-family: Lora, serif;\n",
       "\tcolor: #222222;\n",
       "}\n",
       ".text_cell_render p {\n",
       "\tpadding-left: 1.5em;\n",
       "\ttext-align: justify;\n",
       "}\n",
       ".text_cell_render h3, h4, h6 {\n",
       "\tfont-family: Raleway, sans-serif;\n",
       "\tcolor: #005c99;\n",
       "}\n",
       ".text_cell_render h1 {\n",
       "\tfont-family: \"Open Sans\", sans-serif;\n",
       "\tfont-weight: 700;\n",
       "\tmargin: auto;\n",
       "\tdisplay: block;\n",
       "}\n",
       ".text_cell_render h2 {\n",
       "\tfont-family: Raleway, sans-serif;\n",
       "\tfont-weight: 700; \n",
       "\tmargin-top: 50px;\n",
       "\tdisplay:inline-block;\n",
       "\tpadding: 10px 15px;\n",
       "\tbackground-color: #007acc;\n",
       "\tcolor: #f8f8f8;\n",
       "\tborder-radius: 10px 40px 10px 40px;\n",
       "\tletter-spacing: 3px;\n",
       "\tfont-variant: small-caps;\n",
       "}\n",
       ".text_cell_render h5 {\n",
       "\tfont-family: \"Open Sans\", sans-serif;\n",
       "\tfont-weight: 400;\n",
       "\tborder-style: groove;\n",
       "\tpadding:0.5em 0.5em 0.5em 0.5em;\n",
       "\tmargin: 1em 0 1em 0;\n",
       "\tline-height: 1.6;\n",
       "}\n",
       "div #notebook {\n",
       "\tbackground-color: #f8f8f8;\n",
       "\twidth: 1110px;\t\n",
       "\tmargin: auto;\n",
       "\tpadding-left: 0em;\n",
       "\tborder: 3px solid #cbd3e5; \n",
       "\tbox-shadow: 0px 0px 7px 1px #cccccc;\n",
       "}\n",
       "div.example {\n",
       "    background-color:#007acc;\n",
       "    color: #ffffff;\n",
       "    margin: auto;\n",
       "    width: 100%; \n",
       "\tpadding: 1.4em; \n",
       "\tborder: 3px solid #007acc; \n",
       "\tborder-radius: 10px; \n",
       "\tmargin-bottom: 14px; \n",
       "\tmargin-top: 14px;  \n",
       "\tbox-shadow: 7px 7px 5px #cccccc; \n",
       "\toverflow: hidden;\n",
       "}\n",
       "div.practice {\n",
       "    background-color:#fbfbfb;\n",
       "    color: #007acc;\n",
       "    margin: auto;\n",
       "    width: 100%; \n",
       "\tpadding: 1.4em; \n",
       "\tborder: 3px solid #eeeeee; \n",
       "\tborder-radius: 10px; \n",
       "\tmargin-bottom: 14px; \n",
       "\tmargin-top: 14px;  \n",
       "\tbox-shadow: 7px 7px 5px #cccccc; \n",
       "\toverflow: hidden;\n",
       "}\n",
       "div #notebook-container {\n",
       "\tbackground-color: #ffffff;\n",
       "\tfont-size: 1.5em; \n",
       "\tline-height: 1.6;\n",
       "\twidth: 1100px;\n",
       "\tmargin: auto;\n",
       "\tpadding-right: 150px;\n",
       "}\n",
       ".CodeMirror-code {\n",
       "\tfont-size: 1.2em;\n",
       "\tline-height: 125%;\n",
       "\topacity: 0.9;\n",
       "}\n",
       "\n",
       ".text_cell_render td {\n",
       "    border-style: hidden;\n",
       "}\n",
       ".text_cell_render table {\n",
       "    border-style: hidden;\n",
       "\tborder-collapse: collapse;\n",
       "\twidth: 100%;\n",
       "    font-size: 80%;\n",
       "}\n",
       "\n",
       ".text_cell_render th, td {\n",
       "\tpadding: 8px;\n",
       "}\n",
       "\n",
       ".text_cell_render tr:nth-child(even){background-color: #e8e8e8}\n",
       "\n",
       ".text_cell_render th {\n",
       "    border-style: hidden;\n",
       "\tbackground-color: #007acc;\n",
       "\tcolor: #f8f8f8;\n",
       "}\n",
       "table td, table th, table tr {\n",
       "    text-align:left !important;\n",
       "}\n",
       "</style>\n",
       "\n"
      ],
      "text/plain": [
       "<IPython.core.display.HTML object>"
      ]
     },
     "execution_count": 1,
     "metadata": {},
     "output_type": "execute_result"
    }
   ],
   "source": [
    "from IPython.core.display import HTML\n",
    "def css_styling():\n",
    "    styles = open(\"custom.css\", \"r\").read()\n",
    "    return HTML(styles)\n",
    "css_styling()"
   ]
  },
  {
   "cell_type": "code",
   "execution_count": null,
   "metadata": {
    "collapsed": true
   },
   "outputs": [],
   "source": []
  }
 ],
 "metadata": {
  "anaconda-cloud": {},
  "kernelspec": {
   "display_name": "Python 3",
   "language": "python",
   "name": "python3"
  },
  "language_info": {
   "codemirror_mode": {
    "name": "ipython",
    "version": 3
   },
   "file_extension": ".py",
   "mimetype": "text/x-python",
   "name": "python",
   "nbconvert_exporter": "python",
   "pygments_lexer": "ipython3",
   "version": "3.7.6"
  },
  "latex_envs": {
   "bibliofile": "biblio.bib",
   "cite_by": "apalike",
   "current_citInitial": 1,
   "eqLabelWithNumbers": true,
   "eqNumInitial": 0
  }
 },
 "nbformat": 4,
 "nbformat_minor": 1
}
