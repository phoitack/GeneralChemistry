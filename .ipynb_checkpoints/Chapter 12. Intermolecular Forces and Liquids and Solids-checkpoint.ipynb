{
 "cells": [
  {
   "cell_type": "markdown",
   "metadata": {},
   "source": [
    "$$\\require{mhchem}$$\n",
    "\n",
    "### [HOME](https://wangyu16.github.io/GeneralChemistry/)\n",
    "\n",
    "# <center>General Chemistry Study Guide</center>\n",
    "\n",
    "### <center>Chapter 12. Intermolecular Forces and Liquids and Solids</center>\n",
    "\n",
    "---\n",
    "\n",
    "*<center>Yu Wang</center>*\n",
    "\n",
    "##### <b>OpenStax</b> 10 Liquids and Solids. <b>Brown</b> 11 Liquids and Intermolecular Forces. 12 Solids and Modern Materials. #####"
   ]
  },
  {
   "cell_type": "markdown",
   "metadata": {
    "collapsed": true
   },
   "source": [
    "## 1. Intermolecular Forces\n",
    "\n",
    "**Intermolecular forces** are attractive forces between molecules, also known as **Van der Waals forces**.  \n",
    "**Intramolecular forces** hold atoms together in a molecule, such as covalent bonds.\n",
    "\n",
    "### Interactions Between Polar Molecules  \n",
    "**Polar covalent bonds** are covalent bonds between different atoms.  \n",
    "A **polar molecule** has a net dipole as a result of the opposing charges (i.e. having partial positive and partial negative charges) from polar bonds arranged asymmetrically.  \n",
    "Examples: $\\ce{HF}$, $\\ce{H2O}$  \n",
    "A **non-polar molecule** does not have net dipole either becaue there is no polar bond or because the polar bonds cancel each other.  \n",
    "Examples: $\\ce{H2}$, $\\ce{O2}$ which do not have polar bonds; $\\ce{CCl4}$ in which all polar bonds arranged symmetrically and cancel each other.  \n",
    "**Dipole-Dipole Forces** are attractive forces between polar molecules.\n",
    "\n",
    "### Interactions Involves Non-Polar Molecules\n",
    "\n",
    "**Dispersion Forces** are attractive forces that arise as a result of temporary dipoles induced in atoms or molecules.  \n",
    "**Polarizability** is the ease with which the electron distribution in the atom or molecule can be distorted. Polarizability increases with: greater number of electrons, and more diffuse electron cloud. \n",
    "\n",
    "The dipole in the atom (or nonpolar molecule) is said to be an **induced dipole** because the separation of positive and negative charges in the atom (or nonpolar molecule) is due to the proximity of an ion or a polar molecule.  \n",
    "A nonpolar molecule interact with a polar molecule or an ion because of the induced dipole moment. \n",
    "\n",
    "An atom or a molecule can have all, most or majority of its electrons shifted to one side by random chance of the electron movements. When this happens a temporary dipole is created causing the side with more concentration of electrons to become more electronegative and the opposite relatively electropositive. This is called an **instantaneous dipole**.  \n",
    "Nonpolar molecules interact with each other due to the fact of the presence of instantaneous dipoles. This kind of interaction is called **London dispersion force**. \n",
    "\n",
    "### Special Cases\n",
    "**Ion-Dipole Forces** are attractive forces between an ion and a polar molecule.  \n",
    "**Hydrogen Bonds** is a kind of special dipole-dipole interaction. A hydrogen bond is the electrostatic attraction between two polar groups that occurs when a hydrogen ($\\ce{H}$) atom covalently bound to a highly electronegative atom such as nitrogen ($\\ce{N}$), oxygen ($\\ce{O}$), or fluorine ($\\ce{F}$) experiences the electrostatic field of another highly electronegative atom nearby.  \n",
    " \n",
    "\n",
    "General Trend:  \n",
    "Ion-Dipole > Hydrogen bond > Dipole-Dipole > Ion-Induced Diploe > Dipole-Induced Dipole > London Dispersion Force\n"
   ]
  },
  {
   "cell_type": "markdown",
   "metadata": {},
   "source": [
    "> #### Requirements\n",
    "> 1. Given a molecule, draw its 3D geometry and tell if it is polar or nonpolar. \n",
    "> 2. Tell what kind of intermolecular force(s) a molecule has. \n",
    "> 3. Compare the relative strength of intermolecular forces for given molecules. \n",
    "> 4. Distinguish hydrogen bonds based on the molecular structures. "
   ]
  },
  {
   "cell_type": "markdown",
   "metadata": {},
   "source": [
    "## 2. Properties of Liquids\n",
    "\n",
    "### Surface Tension\n",
    "\n",
    "**Surface Tension** is a measure of a liquid's resistance to increase surface area. Stronger intermolecular forces result in higher surface tension.  \n",
    "\n",
    "*Capillary action* is an example of surface tension effect. Capillary action (sometimes capillarity, capillary motion, or wicking) is the ability of a liquid to flow in narrow spaces without the assistance of, or even in opposition to, external forces like gravity.  \n",
    "\n",
    "\n",
    "\n",
    "*Cohesion* is the intermolecular attraction between LIKE molecules.  \n",
    "*Adhesion* is an attraction between UNLIKE molecules. \n",
    "\n",
    "\n",
    "\n",
    "### Viscosity\n",
    "\n",
    "**Viscosity** is a measure of a fluid's resistance to flow.  \n",
    "Stronger intermolecular forces result in higher viscosity. Generally, higher temperature gives lower viscosity. \n",
    "\n",
    "\n",
    "### Water\n",
    "\n",
    "Each water molecule can form 4 hydrogen bonds. \n",
    "<img src=\"http://1xn44aytb25tcj2q1g7c731a.wpengine.netdna-cdn.com/wp-content/uploads/2013/08/Hydrogen-Bonds-Colored-JC_300x279.png\" />\n",
    "\n",
    "Thus, water has relatively high melting and boiling temperature (compared to $\\ce{H2S}$, $\\ce{NH3}$, $\\ce{HF}$); and high specific heat. \n",
    "\n",
    "Water has highest density at 4 $^\\circ$C. "
   ]
  },
  {
   "cell_type": "markdown",
   "metadata": {},
   "source": [
    "> #### Requirements  \n",
    "> 1. Understand the concepts. \n",
    "> 2. Given several molecules, compare there surface tension or viscosity based on their structures. \n",
    "> 3. Remember the special properties of water and understand why. "
   ]
  },
  {
   "cell_type": "markdown",
   "metadata": {},
   "source": [
    "## 3. Solids  \n",
    "\n",
    "**Crystalline solid**, which possesses rigid and long-range order; its atoms, molecules, or ions occupy specific positions.  \n",
    "**Amorphous solids**, such as glass, lack a well-defined arrangement and long-range molecular order.  \n",
    "\n",
    "### Types of crystals\n",
    "\n",
    "| Type of Solids          | Bonds in Solids       | Soft or Hard     | Melting Point | Conductivity of Heat and Electricity            | Examples                          |\n",
    "|-------------------------|-----------------------|------------------|---------------|-------------------------------------------------|-----------------------------------|\n",
    "| Molecular Solids        | Intermolecular Forces | Soft             | Low           | Poor                                            | $\\ce{Ar}$, $\\ce{H2O}$, $\\ce{CO2}$ |\n",
    "| Covalent Network Solids | Covalent Bonds        | Hard             | High          | Poor (exception: graphite)                      | Diamond, Graphite, Quartz         |\n",
    "| Ionic Solids            | Ionic Bonds           | Hard and Brittle | High          | Poor (if liquid, good conductor of electricity) | $\\ce{NaCl}$, $\\ce{MgCl2}$         |\n",
    "| Metallic Solids         | Metallic Bonds        | Soft to Hard     | Low to High   | Good                                            | $\\ce{Fe}$, $\\ce{Cu}$, $\\ce{Hg}$   |\n",
    "\n",
    "### Crystal Structures  \n",
    "\n",
    "Crystal structures are determined via X-ray diffraction. \n",
    "\n",
    "A **unit cell** is the basic repeating structural unit of a crystalline solid. There are SEVEN types of unit cells.  \n",
    "\n",
    "There are three types of cubic unit cells. \n",
    "\n",
    "**Simple Cubic Cell (SCC)**  \n",
    "**Body Centered Cubic Cell (BCC)**  \n",
    "**Face Centered Cubic Cell (FCC)**  \n",
    "\n",
    "<img src=\"https://chem.libretexts.org/@api/deki/files/16481/4390e1822a2f60946e201acbdac91c27.jpg?revision=1&size=bestfit&width=767&height=585\" />\n",
    "\n",
    "The **coordination number** is defined as the number of atoms (or ions) surrounding an atom (or ion) in a crystal lattice.  \n",
    "The number of atoms is counted as shown in the following figure.  \n",
    "\n",
    "\n",
    "\n",
    "|                          | SCC             | BCC                 | FCC                      |\n",
    "|--------------------------|-----------------|---------------------|--------------------------|\n",
    "| No. of atoms in one cell | 1               | 2                   | 4                        |\n",
    "| How atoms are touched    | Along cell edge | Along cube diagonal | Along side face diagonal |\n",
    "| Coordination No.         | 6               | 8                   | 12                       |\n",
    "\n",
    "**Close packing** is the most efficient arrangement of spheres. There are two kinds of close packing structures.  \n",
    "* Hexagonal close-packed structure (ABAB... structure) results in hexagonal unit cell.  \n",
    "* Cubic close-packed structure (ABCABC... structure) results in FCC unit cell. "
   ]
  },
  {
   "cell_type": "markdown",
   "metadata": {},
   "source": [
    "> #### Requirements \n",
    "> 1. Given a substance, tell what type of crystal it would form (molecular, ionic, covalent network, or metallic). \n",
    "> 2. Remember the general properties of each type of crystals. \n",
    "> 3. Compare the melting points of given solids. \n",
    "> 4. Remember and understand the concepts given in the section \"Crystal Structures\". \n",
    "> 5. Count the number of atoms in a SCC, BCC and FCC unit cell; calculate the coordination numbers (Example 12.4). \n",
    "> 6. Known the edge length, calculate the density of a crystal with cubic unit cell structure. \n",
    "> 7. Remember the two kinds of close packing structures and tell what kind of unit cell they form. "
   ]
  },
  {
   "cell_type": "markdown",
   "metadata": {},
   "source": [
    "## 4.Phase Changes and Diagrams\n",
    "\n",
    "A **Phase** is a homogeneous part of the system in contact with other parts of the system but separated from them by a well-defined boundary.  \n",
    "\n",
    "**Phase Changes** are transformations from one phase to another, occur when energy (usually in the form of heat) is added or removed from a substance. \n",
    "\n",
    "### Liquid-Vapor Equilibrium\n",
    "\n",
    "At any given temperature, a certain number of the molecules in a liquid possess sufficient kinetic energy to escape from the surface. This process is called **evaporation**, or **vaporization**.\n",
    "\n",
    "As the concentration of molecules in the vapor phase increases, some molecules return to the liquid phase, a process called **condensation**.\n",
    "\n",
    "The rate of evaporation is constant at any given temperature, and the rate of condensation increases with increasing concentration of molecules in the vapor phase. A state of **dynamic equilibrium**, in which the rate of a forward process is exactly balanced by the rate of the reverse process, is reached when the rates of condensation and evaporation become equal.\n",
    "\n",
    "The vapor pressure measured under dynamic equilibrium of condensation and evaporation is called the **equilibrium vapor pressure**.\n",
    "\n",
    "**Molar heat of vaporization** ($\\Delta H_\\text{vap}$), defined as the energy  required to vaporize one mole of a liquid, is a measure of how strongly molecules are held in a liquid is. \n",
    "\n",
    "Clausius-Clapeyron equation:  \n",
    "$$\\ln P = -\\frac{\\Delta H_\\text{vap}}{RT} + C$$  \n",
    "$$\\ln \\frac{P_1}{P_2}=\\frac{\\Delta H_\\text{vap}}{R}\\left(\\frac{T_1-T_2}{T_1T_2}\\right)$$\n",
    "\n",
    "**Critical Temperature** is the temperature above which the gas cannot be made liquefy, no matter how great the applied pressure.  \n",
    "**Critical Pressure** is the minimum pressure that must be applied to bring about liquefaction at the critical temprature. "
   ]
  },
  {
   "cell_type": "code",
   "execution_count": 1,
   "metadata": {},
   "outputs": [
    {
     "data": {
      "text/plain": [
       "2453.6432144684991"
      ]
     },
     "execution_count": 1,
     "metadata": {},
     "output_type": "execute_result"
    }
   ],
   "source": [
    "# Knowing vapor pressure P1 at one temperature T1, \n",
    "# calculate P2 at another temperature T2. Delta H is given.\n",
    "from numpy import*\n",
    "Hvap = 26 # in kJ/mol\n",
    "T1=29 # in Celsius\n",
    "T2=77 # in Celsius\n",
    "P1=593 # in mmHg\n",
    "P2=P1/exp(Hvap*1000/8.314*(1/(T2+273)-1/(T1+273)))\n",
    "P2"
   ]
  },
  {
   "cell_type": "markdown",
   "metadata": {},
   "source": [
    "### Liquid-Solid Equilibrium \n",
    "\n",
    "The transformation of liquid to solid is called *freezing*, and the reverse process is called *melting* or *fusion*. The **melting point** of a solid (or the **freezing point** of a liquid) is the temperature at which solid and liquid phases coexist in equilibrium. The **normal melting point**(or the **normal freezing point**) of a substance is the melting point (or freezing point) measured at 1 atm pressure. We generally omit the word “normal” in referring to the melting point of a substance at 1 atm.\n",
    "\n",
    "**Molar Heat of Fusion** ($\\Delta H_\\text{fus}$) is the energy required to melt 1 mole of a solid substance at its freezing point. \n",
    "\n",
    "### Solid-Vapor Equilibrium \n",
    "\n",
    "**Molar Heat of Sublimation** ($\\Delta H_\\text{sub}$) is the energy required to sublime 1 mole of a solid. \n",
    "\n",
    "Hess's Law:  \n",
    "$$\\Delta H_\\text{sub} = \\Delta H_\\text{fus} + \\Delta H_\\text{vap}$$  "
   ]
  },
  {
   "cell_type": "markdown",
   "metadata": {},
   "source": [
    "### Phase Diagrams \n",
    "\n",
    "A **phase diagram** summarizes the conditions under which a substance exists as a solid, liquid, or gas.  \n",
    "\n",
    "The point at which all three curves meet is called the **triple point**. This is the only temperature and pressure at which all three phases can be in equilibrium with one another.  \n",
    "\n",
    "Boundary lines denote co-existence of two phases. "
   ]
  },
  {
   "cell_type": "markdown",
   "metadata": {
    "collapsed": true
   },
   "source": [
    "> #### Requirements \n",
    "> 1. Remember the general property differences of gases, liquids and solids (Table 12.1). \n",
    "> 2. Understand the concepts.\n",
    "> 3. Do calculations with Clausius-Clapeyron equation. \n",
    "> 4. Learn to interpret phase diagrams. "
   ]
  },
  {
   "cell_type": "markdown",
   "metadata": {
    "collapsed": true
   },
   "source": [
    "----"
   ]
  },
  {
   "cell_type": "raw",
   "metadata": {},
   "source": [
    "Please ignore the cell below. It just loads our style for the notebook."
   ]
  },
  {
   "cell_type": "code",
   "execution_count": 1,
   "metadata": {},
   "outputs": [
    {
     "data": {
      "text/html": [
       "<link href=\"https://fonts.googleapis.com/css?family=Lora:400,400i,700,700i|Open+Sans:400,400i|Raleway:400,400i,700,700i\" rel=\"stylesheet\" type='text/css'>\n",
       "<style  type=\"text/css\">\n",
       "div.text_cell_render {\n",
       "\tfont-family: Lora, serif;\n",
       "\tcolor: #222222;\n",
       "}\n",
       ".text_cell_render p {\n",
       "\tpadding-left: 1.5em;\n",
       "\ttext-align: justify;\n",
       "}\n",
       ".text_cell_render h3, h4, h6 {\n",
       "\tfont-family: Raleway, sans-serif;\n",
       "\tcolor: #005c99;\n",
       "}\n",
       ".text_cell_render h1 {\n",
       "\tfont-family: \"Open Sans\", sans-serif;\n",
       "\tfont-weight: 700;\n",
       "\tmargin: auto;\n",
       "\tdisplay: block;\n",
       "}\n",
       ".text_cell_render h2 {\n",
       "\tfont-family: Raleway, sans-serif;\n",
       "\tfont-weight: 700; \n",
       "\tmargin-top: 50px;\n",
       "\tdisplay:inline-block;\n",
       "\tpadding: 10px 15px;\n",
       "\tbackground-color: #007acc;\n",
       "\tcolor: #f8f8f8;\n",
       "\tborder-radius: 10px 40px 10px 40px;\n",
       "\tletter-spacing: 3px;\n",
       "\tfont-variant: small-caps;\n",
       "}\n",
       ".text_cell_render h5 {\n",
       "\tfont-family: \"Open Sans\", sans-serif;\n",
       "\tfont-weight: 400;\n",
       "\tborder-style: groove;\n",
       "\tpadding:0.5em 0.5em 0.5em 0.5em;\n",
       "\tmargin: 1em 0 1em 0;\n",
       "\tline-height: 1.6;\n",
       "}\n",
       "div #notebook {\n",
       "\tbackground-color: #f8f8f8;\n",
       "\twidth: 1110px;\t\n",
       "\tmargin: auto;\n",
       "\tpadding-left: 0em;\n",
       "\tborder: 3px solid #cbd3e5; \n",
       "\tbox-shadow: 0px 0px 7px 1px #cccccc;\n",
       "}\n",
       "div.example {\n",
       "    background-color:#007acc;\n",
       "    color: #ffffff;\n",
       "    margin: auto;\n",
       "    width: 100%; \n",
       "\tpadding: 1.4em; \n",
       "\tborder: 3px solid #007acc; \n",
       "\tborder-radius: 10px; \n",
       "\tmargin-bottom: 14px; \n",
       "\tmargin-top: 14px;  \n",
       "\tbox-shadow: 7px 7px 5px #cccccc; \n",
       "\toverflow: hidden;\n",
       "}\n",
       "div.practice {\n",
       "    background-color:#fbfbfb;\n",
       "    color: #007acc;\n",
       "    margin: auto;\n",
       "    width: 100%; \n",
       "\tpadding: 1.4em; \n",
       "\tborder: 3px solid #eeeeee; \n",
       "\tborder-radius: 10px; \n",
       "\tmargin-bottom: 14px; \n",
       "\tmargin-top: 14px;  \n",
       "\tbox-shadow: 7px 7px 5px #cccccc; \n",
       "\toverflow: hidden;\n",
       "}\n",
       "div #notebook-container {\n",
       "\tbackground-color: #ffffff;\n",
       "\tfont-size: 1.5em; \n",
       "\tline-height: 1.6;\n",
       "\twidth: 1100px;\n",
       "\tmargin: auto;\n",
       "\tpadding-right: 150px;\n",
       "}\n",
       ".CodeMirror-code {\n",
       "\tfont-size: 1.2em;\n",
       "\tline-height: 125%;\n",
       "\topacity: 0.9;\n",
       "}\n",
       "\n",
       ".text_cell_render td {\n",
       "    border-style: hidden;\n",
       "}\n",
       ".text_cell_render table {\n",
       "    border-style: hidden;\n",
       "\tborder-collapse: collapse;\n",
       "\twidth: 100%;\n",
       "    font-size: 80%;\n",
       "}\n",
       "\n",
       ".text_cell_render th, td {\n",
       "\tpadding: 8px;\n",
       "}\n",
       "\n",
       ".text_cell_render tr:nth-child(even){background-color: #e8e8e8}\n",
       "\n",
       ".text_cell_render th {\n",
       "    border-style: hidden;\n",
       "\tbackground-color: #007acc;\n",
       "\tcolor: #f8f8f8;\n",
       "}\n",
       "table td, table th, table tr {\n",
       "    text-align:left !important;\n",
       "}\n",
       "</style>\n",
       "\n"
      ],
      "text/plain": [
       "<IPython.core.display.HTML object>"
      ]
     },
     "execution_count": 1,
     "metadata": {},
     "output_type": "execute_result"
    }
   ],
   "source": [
    "from IPython.core.display import HTML\n",
    "def css_styling():\n",
    "    styles = open(\"custom.css\", \"r\").read()\n",
    "    return HTML(styles)\n",
    "css_styling()"
   ]
  },
  {
   "cell_type": "code",
   "execution_count": null,
   "metadata": {
    "collapsed": true
   },
   "outputs": [],
   "source": []
  }
 ],
 "metadata": {
  "anaconda-cloud": {},
  "kernelspec": {
   "display_name": "Python 3",
   "language": "python",
   "name": "python3"
  },
  "language_info": {
   "codemirror_mode": {
    "name": "ipython",
    "version": 3
   },
   "file_extension": ".py",
   "mimetype": "text/x-python",
   "name": "python",
   "nbconvert_exporter": "python",
   "pygments_lexer": "ipython3",
   "version": "3.6.4"
  }
 },
 "nbformat": 4,
 "nbformat_minor": 1
}
