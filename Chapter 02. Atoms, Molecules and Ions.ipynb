{
 "cells": [
  {
   "cell_type": "markdown",
   "metadata": {},
   "source": [
    "$$\\require{mhchem}$$\n",
    "\n",
    "# <center>Study Guide: Chapter 2. Atoms, Molecules and Ions</center>\n",
    "\n",
    "**<center>General Chemistry: The Essential Concepts</center>**\n",
    "\n",
    "---\n",
    "\n",
    "<center>Seventh Edition</center>\n",
    "\n",
    "<center>Raymond Chang and Kenneth A. Goldsby</center>"
   ]
  },
  {
   "cell_type": "markdown",
   "metadata": {
    "collapsed": true
   },
   "source": [
    "## 1. Atoms\n",
    "\n",
    "### 1.1. The Structure of Atoms\n",
    "\n",
    "**Dalton’s Atomic Theory (1808)**\n",
    "\n",
    "1. Elements are composed of extremely small particles called atoms.  \n",
    "2.  All atoms of a given element are identical, having the same size, mass and chemical properties.  The atoms of one element are different from the atoms of all other elements.\n",
    "3.  Compounds are composed of atoms of more than one element. In any compound, the ratio of the numbers of atoms of any two of the elements present is either an integer or a simple fraction.\n",
    "4.  A chemical reaction involves only the separation, combination, or rearrangement of atoms; it does not result in their creation or destruction.\n",
    "\n",
    "**The Structure of Atoms**\n",
    "\n",
    "An **atom** is the smallest constituent unit of ordinary matter that has the properties of a chemical element. Every solid, liquid, gas, and plasma is composed of neutral or ionized atoms. Atoms are very small; typical sizes are around 100 picometers. \n",
    "\n",
    "Every atom is composed of a **nucleus** and one or more **electrons** bound to the nucleus. The nucleus is made of one or more **protons** and typically a similar number of **neutrons**. Protons and neutrons are called **nucleons**. *More than 99.94% of an atom's mass is in the nucleus*. The protons have a positive electric charge, the electrons have a negative electric charge, and the neutrons have no electric charge. If the number of protons and electrons are equal, that atom is electrically neutral. If an atom has more or fewer electrons than protons, then it has an overall negative or positive charge, respectively, and it is called an **ion**.\n",
    "\n",
    "**Rutherford’s Model of the Atom**\n",
    "\n",
    "<figure>\n",
    "<img src=\"Ch02_atom_model.png\" style=\"width:700px\"/>\n",
    "</figure>\n",
    "\n",
    "**Compare the mass and charges of subatomic particles**\n",
    "\n",
    "<figure>\n",
    "<img src=\"Ch02_mass_charge_subatomic_particles.jpg\" style=\"width:700px\"/>\n",
    "</figure>\n"
   ]
  },
  {
   "cell_type": "markdown",
   "metadata": {},
   "source": [
    "#### Radioactivity\n",
    "\n",
    "**Radioactivity** describes the spontaneous emission of particles and/or radiation. Consequently, any element that spontaneously emits radiation is said to be **radioactive**.\n",
    "\n",
    "**$\\alpha$-radiation**: Alpha radiation occurs when an atom undergoes radioactive decay, giving off a particle (called an alpha particle) consisting of two protons and two neutrons (essentially the nucleus of a helium-4 atom). \n",
    "\n",
    "**$\\beta$-radiation**: Beta radiation takes the form of either an electron or a positron (a particle with the size and mass of an electron, but with a positive charge) being emitted from an atom. \n",
    "\n",
    "**$\\gamma$-radiation**: Gamma rays are penetrating **electromagnetic radiation** of a kind arising from the radioactive decay of atomic nuclei. It consists of photons in the highest observed range of photon energy.\n",
    "\n",
    "**X-ray**: X-radiation is a form of **electromagnetic radiation**. Most X-rays have a wavelength ranging from 0.01 to 10 nanometers, corresponding to frequencies in the range 30 petahertz to 30 exahertz and energies in the range 100 eV to 100 keV. X-Rays are longer-wavelength and (usually) lower energy than gamma radiation. "
   ]
  },
  {
   "cell_type": "markdown",
   "metadata": {},
   "source": [
    "#### Important Experiments\n",
    "\n",
    "**Measurement of the mass/charge ratio of electrons by J.J. Thomson**\n",
    "\n",
    "*Cathode ray* is a beam of electrons emitted from the cathode of a high-vacuum tube.\n",
    "\n",
    "*Cathode ray tube* is a high-vacuum tube in which cathode rays produce a luminous image on a fluorescent screen, used chiefly in televisions and computer terminals. In some experiments, two electrically charged plates and a magnet were added to the outside of the cathode ray tube. The external electric field and magnetic field can change the trajectory of the cathode ray (electrons). The ratio of electric charge to the mass of an individual electron can be calculated based on electromagnetic theory. \n",
    "\n",
    "**Measurement of the mass of electrons by Millikan**\n",
    "\n",
    "The experiment entailed observing tiny electrically charged droplets of oil located between two parallel metal surfaces. when the gravitational force and external electric force are balanced, the charge on the oil droplet can be calculated. By repeating the experiment for many droplets, they confirmed that the charges were all small integer multiples of a certain base value, which was found to be $1.5924(17)\\times10^{−19}\\,\\text{C}$, about $0.6\\%$ difference from the currently accepted value of $1.602176487(40)\\times10^{−19}\\,\\text{C}$.\n",
    "\n",
    "**Rutherford’s Experiment**\n",
    "\n",
    "Rutherford carried out a series of experiments using very thin foils of gold and other metals as targets for α particles from a radioactive source. He observed that the majority of particles penetrated the foil either undeflected or with only a slight deflection. In some instances, an α particle actually bounced back in the direction from which it had come! To explain the results of the α-scattering experiment, Rutherford devised a new model of atomic structure, suggesting that most of the atom must be empty space. This structure would allow most of the α particles to pass through the gold foil with little or no deflection. The atom's positive charges, Rutherford proposed, are all concentrated in the nucleus, a dense central core within the atom. Whenever an α particle came close to a nucleus in the scattering experiment, it experienced a large repulsive force and therefore a large deflection. Moreover, an α particle traveling directly toward a nucleus would experience an enormous repulsion that could completely reverse the direction of the moving particle.\n",
    "\n",
    "**Chadwick’s Experiment **\n",
    "\n",
    "It was known that hydrogen, the simplest atom, contains only one proton and that the helium atom contains two protons. Therefore, the ratio of the mass of a helium atom to that of a hydrogen atom should be 2:1. (Because electrons are much lighter than protons, their contribution can be ignored.) In reality, however, the ratio is 4:1. Rutherford and others postulated that there must be another type of subatomic particle in the atomic nucleus; the proof was provided by another English physicist, James Chadwick, in 1932. When Chadwick bombarded a thin sheet of beryllium with α particles, a very high energy radiation similar to γ rays was emitted by the metal. Later experiments showed that the rays actually consisted of electrically neutral particles having a mass slightly greater than that of protons. Chadwick named these particles neutrons."
   ]
  },
  {
   "cell_type": "markdown",
   "metadata": {},
   "source": [
    "> #### Requirements\n",
    "> 1. Understand Dalton’s Atomic Theory.\n",
    "> 2. Understand the structure of atoms. Understand the correlations in Table 2.1. \n",
    "> 3. Be familiar with the three types of radioactivity.\n",
    "> 4. Be familiar with the experiments described above. "
   ]
  },
  {
   "cell_type": "markdown",
   "metadata": {},
   "source": [
    "### 1.2. Atomic Number, Mass Number, and Isotopes\n",
    "\n"
   ]
  },
  {
   "cell_type": "markdown",
   "metadata": {},
   "source": [
    "#### Atomic Number and Mass Number\n",
    "\n",
    "The number of protons in the nucleus of each atom of an element is called the **atomic number (Z)**.\n",
    "\n",
    "$$\\text{atomic number}=\\text{number of protons}$$\n",
    "\n",
    "The **mass number (A)** is the total number of neutrons and protons present in the nucleus of an atom of an element.\n",
    "\n",
    "$$\\text{mass number}=\\text{number of protons}+\\text{number of neutrons}$$\n",
    "\n",
    "The accepted way to denote the atomic number and mass number of an atom of element X is as follows:\n",
    "\n",
    "\n",
    "<figure>\n",
    "<img src=\"Ch02_atomic_number.png\" style=\"width:400px\"/>\n",
    "</figure>\n",
    "\n",
    "#### Isotopes\n",
    "\n",
    "Atoms that have the same atomic number but different mass numbers are called **isotopes**.\n",
    "\n",
    "#### Periodic Table\n",
    "\n",
    "**Periodic table** is a chart in which elements having similar chemical and physical properties are grouped together.\n",
    "\n",
    "The elements are arranged by atomic number (shown above the element symbol) in horizontal rows called **periods** and in vertical columns known as **groups** or **families**, according to similarities in their chemical properties.\n",
    "\n",
    "The elements can be divided into three categories — metals, nonmetals, and metalloids. A **metal** is a good conductor of heat and electricity, whereas a **nonmetal** is usually a poor conductor of heat and electricity. A **metalloid** has properties that are intermediate between those of metals and nonmetals.\n",
    "\n",
    "The Group 1A elements (Li, Na, K, Rb, Cs, and Fr) are called **alkali metals**, and the Group 2A elements (Be, Mg, Ca, Sr, Ba, and Ra) are called **alkaline earth metals**. Elements in Group 7A (F, Cl, Br, I, and At) are known as **halogens**, and those in Group 8A (He, Ne, Ar, Kr, Xe, and Rn) are called **noble gases** (or rare gases). \n",
    "\n",
    "<figure>\n",
    "<img src=\"Ch02_period_table.jpg\" style=\"width:700px\"/>\n",
    "</figure>"
   ]
  },
  {
   "cell_type": "markdown",
   "metadata": {},
   "source": [
    "> #### Requirements  \n",
    "> 1. Understand and remember the concepts.\n",
    "> 2. Know the relation between atomic number and mass number. "
   ]
  },
  {
   "cell_type": "markdown",
   "metadata": {},
   "source": [
    "## 2. Molecules and Ions\n",
    "\n",
    "### 2.1. General Concepts\n",
    "\n",
    "Of all the elements, only the six noble gases in Group 8A of the periodic table (He, Ne, Ar, Kr, Xe, and Rn) exist in nature as single atoms. For this reason, they are called monatomic (meaning a single atom) gases. Most matter is composed of molecules or ions formed by atoms."
   ]
  },
  {
   "cell_type": "markdown",
   "metadata": {},
   "source": [
    "\n",
    "\n",
    "#### Molecules\n",
    "\n",
    "A **molecule** is an aggregate of at least two atoms in a definite arrangement held together by chemical forces (also called chemical bonds). \n",
    "\n",
    "The hydrogen molecule, symbolized as $\\ce{H2}$, is called a *diatomic molecule* because it contains only two atoms. Molecules containing more than two atoms are called *polyatomic molecules*. "
   ]
  },
  {
   "cell_type": "markdown",
   "metadata": {},
   "source": [
    "#### Organic Compounds\n",
    "\n",
    "**Organic chemistry** is the branch of chemistry that deals with carbon compounds. The simplest type of organic compounds is the **hydrocarbons**, which contain only carbon and hydrogen atoms. \n",
    "\n",
    "Example: methane $\\ce{CH4}$\n",
    "\n",
    "\n",
    "The chemistry of organic compounds is largely determined by the **functional groups**, which consist of one or a few atoms bonded in a specific way. For example, when an $\\ce{H}$ atom in methane is replaced by a hydroxyl group ($\\ce{—OH}$), an amino group ($\\ce{—NH2}$), and a carboxyl group ($\\ce{—COOH}$), the following molecules are generated: methanol ($\\ce{CH3OH}$), methylamine ($\\ce{CH3NH2}$), acetic acid ($\\ce{CH3COOH}$). \n"
   ]
  },
  {
   "cell_type": "markdown",
   "metadata": {},
   "source": [
    "#### Ions\n",
    "\n",
    "An **ion** is an atom or a group of atoms that has a net positive or negative charge. \n",
    "\n",
    "The loss of one or more electrons from a neutral atom results in a **cation**, an ion with a net positive charge. For example, a sodium atom ($\\ce{Na}$) can readily lose an electron to become a sodium cation, which is represented by $\\ce{Na+}$. \n",
    "\n",
    "An **anion** is an ion whose net charge is negative due to an increase in the number of electrons. A chlorine atom ($\\ce{Cl}$), for instance, can gain an electron to become the chloride ion $\\ce{Cl^{−}}$.\n",
    "\n",
    "Sodium chloride ($\\ce{NaCl}$), ordinary table salt, is called an **ionic compound** because it is formed from cations and anions.\n",
    "\n",
    "Ions like $\\ce{Na+}$ and $\\ce{Cl^{−}}$ are called **monatomic ions** because they contain only one atom. Figure 2.10 shows the charges of a number of monatomic ions. With very few exceptions, metals tend to form cations and nonmetals form anions.\n",
    "\n",
    "**Polyatomic ions** such as $\\ce{OH^{−}}$ (hydroxide ion), $\\ce{CN^{−}}$ (cyanide ion), and  $\\ce{NH4+}$ (ammonium ion) are ions containing more than one atom.\n",
    "\n",
    "<figure>\n",
    "<img src=\"Ch02_ions.jpg\" style=\"width:700px\"/>\n",
    "</figure>"
   ]
  },
  {
   "cell_type": "markdown",
   "metadata": {},
   "source": [
    "> #### Requirements \n",
    "> 1. Understand and remember the concepts."
   ]
  },
  {
   "cell_type": "markdown",
   "metadata": {},
   "source": [
    "### 2.2. Chemical Formuas\n",
    "\n",
    "Chemists use **chemical formulas** to express the composition of molecules and ionic compounds in terms of chemical symbols."
   ]
  },
  {
   "cell_type": "markdown",
   "metadata": {},
   "source": [
    "#### Molecular Formulas\n",
    "\n",
    "A **molecular formula** shows the exact number of atoms of each element in the smallest unit of a substance.\n",
    "\n",
    "An **allotrope** is one of two or more distinct forms of an element. Two allotropic forms of the element carbon—diamond and graphite—are dramatically different not only in properties but also in their relative cost.\n",
    "\n",
    "**Empirical Formulas**\n",
    "\n",
    "An empirical formula shows the simplest whole-number ratio of the atoms in a substance. For example, hydrogen peroxide $\\ce{H2O2}$ has the empirical formula as $\\ce{HO}$. \n",
    "\n",
    "**Molecular Models**\n",
    "\n",
    "Molecules are too small for us to observe directly. An effective means of visualizing them is by the use of molecular models.\n",
    "\n",
    "<figure>\n",
    "<img src=\"Ch02_molecular_model.jpg\" style=\"width:700px\"/>\n",
    "</figure>\n",
    "\n"
   ]
  },
  {
   "cell_type": "markdown",
   "metadata": {},
   "source": [
    "#### Formulas of Ionic Compounds\n",
    "\n",
    "**Ionic compounds** consist of a combination of cations and anions.\n",
    "- The formula is usually the same as the empirical formula.\n",
    "- The sum of the charges on the cation(s) and anion(s) in each formula unit must equal zero.\n",
    "\n",
    "For example, Aluminum Oxide. The cation is $\\ce{Al^3+}$ and the oxygen anion is $\\ce{O^{2−}}$. The following diagram helps us determine the subscripts for the compound formed by the cation and the anion:\n",
    "\n",
    "\n",
    "<figure>\n",
    "<img src=\"Ch02_Al2O3.png\" style=\"width:300px\"/>\n",
    "</figure>\n",
    "\n",
    "The sum of the charges is $2(+3) + 3(−2) = 0$. Thus, the formula for aluminum oxide is $\\ce{Al2O3}$."
   ]
  },
  {
   "cell_type": "markdown",
   "metadata": {
    "collapsed": true
   },
   "source": [
    "> #### Requirements \n",
    "> 1. Understand and remember the concepts."
   ]
  },
  {
   "cell_type": "markdown",
   "metadata": {},
   "source": [
    "## 3. Naming Compounds"
   ]
  },
  {
   "cell_type": "markdown",
   "metadata": {},
   "source": [
    "### 3.1. Ionic Compouds\n",
    "\n",
    "Often a metal and a nonmetal. \n",
    "\n",
    "- Use the element name to represent the metal cation. \n",
    "- Use the element name add \"-ide\" to represent the nonmetal anion. \n",
    "\n",
    "For example, $\\ce{NaCl}$ is named as sodium chloride. \n",
    "\n",
    "For transition metals, indicate the charge on metal with Roman numberals. For example, $\\ce{FeCl2}$ is named as iron(II) chloride, $\\ce{FeCl3}$ is named as iron(III) chloride. \n",
    "\n",
    "<figure>\n",
    "<img src=\"img\\ch02\\Aion_names.jpg\" style=\"width:300px\"/>\n",
    "</figure>\n",
    "\n",
    "\n",
    "### 3.2. Molecular Compounds\n",
    "\n",
    "Usually, molecular compounds are coumpounds with nonmetals or nonmetals + metalloids\n",
    "\n",
    "- Common names may be used, such as water $\\ce{H2O}$, ammonia $\\ce{NH3}$, methane $\\ce{CH4}$. \n",
    "- Element furthest to the left in a period and closest to the bottom of a group on periodic table is placed first in formula. \n",
    "- If more than one compound can be formed from the same elements, use prefixes to indicate number of each kind of atom, such as carbon monoxide $\\ce{CO}$ and carbon dioxide $\\ce{CO2}$.\n",
    "- Last element name ends in -ide. \n",
    "\n",
    "\n",
    "### 3.3. Acids\n",
    "\n",
    "An **acid** can be defined as a substance that yields hydrogen ions ($\\ce{H+}$) when dissolved in water.\n",
    "\n",
    "For example, $\\ce{HCl}$ gas as a pure substance is named as hydrogen chloride. When $\\ce{HCl}$ is dissolved in water, hydrochloric acid is formed giving $\\ce{H3O+}$ and $\\ce{Cl^{-}}$. \n",
    "\n",
    "(Most complicated part!) An **oxoacid** is an acid that contains hydrogen, oxygen, and another element.  The formulas of oxoacids are usually written with the H first, followed by the central element and then O. We use the following five common acids as our references in naming oxoacids:\n",
    "\n",
    "| | | | |\n",
    "|---|---|---|---|\n",
    "| $\\ce{H2CO3}$ | carbonic acid | $\\ce{H3PO4}$ | phosphoric acid |\n",
    "| $\\ce{HClO3}$ | chloric acid | $\\ce{H2SO4}$ | sulfuric acid |\n",
    "| $\\ce{HNO3}$ | nitric acid | | |\n",
    "\n",
    "Often two or more oxoacids have the same central atom but a different number of O atoms. Starting with our reference oxoacids, whose names all end with “-ic,” we use the following rules to name these compounds.\n",
    "\n",
    "1. Addition of one O atom to the “-ic” acid: The acid is called “per… -ic” acid. Thus, adding an O atom to $\\ce{HClO3}$ changes chloric acid to perchloric acid, $\\ce{HClO4}$.\n",
    "2. Removal of one O atom from the “-ic” acid: The acid is called “-ous” acid. Thus, nitric acid, $\\ce{HNO3}$, becomes nitrous acid, $\\ce{HNO2}$.\n",
    "3. Removal of two O atoms from the “-ic” acid: The acid is called “hypo… -ous” acid. Thus, when $\\ce{HBrO3}$ is converted to $\\ce{HBrO}$, the acid is called hypobromous acid.\n",
    "\n",
    "The rules for naming anions of oxoacids, called *oxoanions*, are\n",
    "\n",
    "1. When all the H ions are removed from the “-ic” acid, the anion's name ends with “-ate.” For example, the anion  derived from $\\ce{H2CO3}$ is called carbonate.\n",
    "2. When all the H ions are removed from the “-ous” acid, the anion's name ends with “-ite.” Thus, the anion  derived from $\\ce{HClO2}$ is called chlorite.\n",
    "3. The names of anions in which one or more but not all of the hydrogen ions have been removed must indicate the number of H ions present. For example, consider the anions derived from phosphoric acid:\n",
    "\n",
    "$\\ce{H3PO4}$ : Phosphoric acid\n",
    "\n",
    "$\\ce{HPO4^{2-}}$ : Hydrogen phosphate\n",
    "\n",
    "$\\ce{H2PO4^{-}}$ : Dihydrogen phosphate\t\n",
    "\n",
    "$\\ce{PO4^{3-}}$ : Phosphate\n",
    "\n",
    "Names of Oxoacids and Oxoanions That Contain Chlorine\n",
    "\n",
    "| Acid | | Corresponding Anion | |\n",
    "|---|---|---|---|\n",
    "|$\\ce{HClO4}$| perchloric acid | $\\ce{ClO4-}$ | perchlorate |\n",
    "|$\\ce{HClO3}$| chloric acid | $\\ce{ClO3-}$ | chlorate |\n",
    "|$\\ce{HClO2}$| chlorous acid | $\\ce{ClO2-}$ | chlorite |\n",
    "|$\\ce{HClO}$| hypochlorous acid | $\\ce{ClO-}$ | hypochlorite |\n",
    "\n",
    "\n",
    "### 3.4 Bases\n",
    "\n",
    "A base can be defined as a substance that yields hydroxide ions ($\\ce{OH-}$) when dissolved in water, such as sodium hydroxide $\\ce{NaOH}$. \n",
    "\n",
    "### 3.5 Hydrates\n",
    "\n",
    "**Hydrates** are compounds that have a specific number of water molecules attached to them, such as copper sulfate pentahydrate $\\ce{CuSO4}\\cdot\\ce{5H2O}$. \n"
   ]
  },
  {
   "cell_type": "markdown",
   "metadata": {},
   "source": [
    "> #### Requirements \n",
    "> 1. Understand and remember the concepts."
   ]
  },
  {
   "cell_type": "markdown",
   "metadata": {
    "collapsed": true
   },
   "source": [
    "----"
   ]
  },
  {
   "cell_type": "raw",
   "metadata": {},
   "source": [
    "Please ignore the cell below. It just loads our style for the notebook."
   ]
  },
  {
   "cell_type": "code",
   "execution_count": 1,
   "metadata": {},
   "outputs": [
    {
     "data": {
      "text/html": [
       "<link href=\"https://fonts.googleapis.com/css?family=Lora:400,400i,700,700i|Open+Sans:400,400i,700,700i|Raleway:400,400i,700,700i\" rel=\"stylesheet\" type='text/css'>\n",
       "<style  type=\"text/css\">\n",
       "div.text_cell_render {\n",
       "\tfont-family: Lora, serif;\n",
       "\tcolor: #222222;\n",
       "}\n",
       ".text_cell_render p {\n",
       "\tpadding-left: 1.5em;\n",
       "\ttext-align: justify;\n",
       "}\n",
       ".text_cell_render h3, h4, h5, h6 {\n",
       "\tfont-family: Raleway, sans-serif;\n",
       "\tcolor: #005c99;\n",
       "}\n",
       ".text_cell_render h1 {\n",
       "\tfont-family: \"Open Sans\", sans-serif;\n",
       "\tfont-weight: 700;\n",
       "\tmargin: auto;\n",
       "\tdisplay: block;\n",
       "}\n",
       ".text_cell_render h2 {\n",
       "\tfont-family: Raleway, sans-serif;\n",
       "\tfont-weight: 700; \n",
       "\tmargin-top: 50px;\n",
       "\tdisplay:inline-block;\n",
       "\tpadding: 10px 15px;\n",
       "\tbackground-color: #007acc;\n",
       "\tcolor: #f8f8f8;\n",
       "\tborder-radius: 10px 40px 10px 40px;\n",
       "\tletter-spacing: 3px;\n",
       "\tfont-variant: small-caps;\n",
       "}\n",
       "div #notebook {\n",
       "\tbackground-color: #f8f8f8;\n",
       "\twidth: 1110px;\t\n",
       "\tmargin: auto;\n",
       "\tpadding-left: 0em;\n",
       "\tborder: 3px solid #cbd3e5; \n",
       "\tbox-shadow: 0px 0px 7px 1px #cccccc;\n",
       "}\n",
       "div.info {\n",
       "\tfont-family: \"Open Sans\", sans-serif;\n",
       "\tfloat: right; \n",
       "\tbackground-color: #BBDEFB; \n",
       "\tcolor: #005c99;\n",
       "\twidth: 20em; \n",
       "\tpadding: 1.4em; \n",
       "\tborder: 1px solid #42A5F5; \n",
       "\tborder-radius: 10px; \n",
       "\tmargin-bottom: 14px; \n",
       "\tmargin-top: 14px; \n",
       "\tmargin-left: 14px; \n",
       "\tmargin-right: 14px; \n",
       "\tbox-shadow: 7px 7px 5px #cccccc; \n",
       "\toverflow: hidden;\n",
       "}\n",
       "div #notebook-container {\n",
       "\tbackground-color: #f8f8f8;\n",
       "\tfont-size: 1.3em; \n",
       "\tline-height: 150%;\n",
       "\twidth: 1100px;\n",
       "\tmargin: auto;\n",
       "\tpadding-right: 150px;\n",
       "}\n",
       ".CodeMirror-code {\n",
       "\tfont-size: 1.15em;\n",
       "\tline-height: 125%;\n",
       "\topacity: 0.9;\n",
       "}\n",
       "\n",
       ".text_cell_render td {\n",
       "    border-style: hidden;\n",
       "}\n",
       ".text_cell_render table {\n",
       "    border-style: hidden;\n",
       "\tborder-collapse: collapse;\n",
       "\twidth: 100%;\n",
       "    font-size: 90%;\n",
       "}\n",
       "\n",
       ".text_cell_render th, td {\n",
       "\ttext-align: left;\n",
       "\tpadding: 8px;\n",
       "}\n",
       "\n",
       ".text_cell_render tr:nth-child(even){background-color: #e8e8e8}\n",
       "\n",
       ".text_cell_render th {\n",
       "    border-style: hidden;\n",
       "\tbackground-color: #007acc;\n",
       "\tcolor: #f8f8f8;\n",
       "}\n",
       "</style>\n",
       "\n"
      ],
      "text/plain": [
       "<IPython.core.display.HTML object>"
      ]
     },
     "execution_count": 1,
     "metadata": {},
     "output_type": "execute_result"
    }
   ],
   "source": [
    "from IPython.core.display import HTML\n",
    "def css_styling():\n",
    "    styles = open(\"custom.css\", \"r\").read()\n",
    "    return HTML(styles)\n",
    "css_styling()"
   ]
  },
  {
   "cell_type": "code",
   "execution_count": null,
   "metadata": {
    "collapsed": true
   },
   "outputs": [],
   "source": []
  }
 ],
 "metadata": {
  "anaconda-cloud": {},
  "kernelspec": {
   "display_name": "Python 3",
   "language": "python",
   "name": "python3"
  },
  "language_info": {
   "codemirror_mode": {
    "name": "ipython",
    "version": 3
   },
   "file_extension": ".py",
   "mimetype": "text/x-python",
   "name": "python",
   "nbconvert_exporter": "python",
   "pygments_lexer": "ipython3",
   "version": "3.6.1"
  }
 },
 "nbformat": 4,
 "nbformat_minor": 1
}
