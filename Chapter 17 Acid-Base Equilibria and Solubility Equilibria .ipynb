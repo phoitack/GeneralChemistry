{
 "cells": [
  {
   "cell_type": "markdown",
   "metadata": {},
   "source": [
    "$$\\require{mhchem}$$"
   ]
  },
  {
   "cell_type": "markdown",
   "metadata": {},
   "source": [
    "# <center>Study Guide: Chapter 17. Acid-Base Equilibria and Solubility Equilibria</center>\n",
    "## <center>General Chemistry: The Essential Concepts</center>\n",
    "\n",
    "<center>Seventh Edition</center>\n",
    "\n",
    "<center>Raymond Chang and Kenneth A. Goldsby</center>"
   ]
  },
  {
   "cell_type": "markdown",
   "metadata": {},
   "source": [
    "## 1. Buffer Solutions\n",
    "\n",
    "A **buffer solution** is a solution of (1) a weak acid or a weak base and (2) its salt. The solution has the ability to resist changes in $\\ce{pH}$ upon the addition of small amounts of either acid or base. \n",
    "\n",
    "Why a buffer solution can resist changes in $\\ce{pH}$?  \n",
    "Because both acid and base coexist in a buffer solution under equilibrium. The acid can react with any added $\\ce{OH-}$ and the base can react with any added $\\ce{H+}$.  \n",
    "An example is a solution with comparable amounts of $\\ce{CH3COOH}$ and $\\ce{CH3COONa}$. $\\ce{CH3COONa}$ ionize completely in water to give:  \n",
    "$$\\ce{CH3COONa ->[\\ce{H2O}] CH3COO- (aq) + Na+ (aq)}$$  \n",
    "If an acid is added, $\\ce{H+}$ will be consumed by $\\ce{CH3COO-}$  \n",
    "$$\\ce{CH3COO- (aq) + H+ (aq) -> CH3COOH (aq)}$$  \n",
    "If a base is added, $\\ce{OH-}$ will be consumed by $\\ce{CH3COOH}$  \n",
    "$$\\ce{CH3COOH(aq) + OH- (aq) -> CH3COO- (aq) + H2O (l)}$$  \n",
    "This buffer system can be written as either $\\ce{CH3COONa/CH3COOH}$ or $\\ce{CH3COO- /CH3COOH}$."
   ]
  },
  {
   "cell_type": "markdown",
   "metadata": {},
   "source": [
    "**Calculate the $\\ce{pH}$ of a Buffer System**  \n",
    "**Example**  (a) Calculate the pH of a buffer system containing 1.0 M $\\ce{CH3COOH}$ and 1.0 M $\\ce{CH3COONa}$ (Textbook Example 17.2).  \n",
    "Strategy: Note the initial concentrations of $\\ce{CH3COOH}$ and $\\ce{CH3COO-}$ are both 1.0 M. Then use ICE table and write the equation of $K_a$ under equilibrium.  \n",
    "$$K_a=\\frac{[\\ce{H+}][\\ce{CH3COO-}]}{[\\ce{CH3COOH}]}=\\frac{x(1.0+x)}{1.0-x}=1.8\\times 10^{-5}$$  \n",
    "Solve the equation and get $x=[\\ce{H+}]=1.8\\times 10^{-5}\\,\\text{M}$  \n",
    "Thus $\\ce{pH}=-\\log (1.8\\times 10^{-5})=4.74$"
   ]
  },
  {
   "cell_type": "code",
   "execution_count": 2,
   "metadata": {
    "collapsed": false
   },
   "outputs": [
    {
     "data": {
      "text/plain": [
       "[-1.00003599935203, 1.79993520349897e-5]"
      ]
     },
     "execution_count": 2,
     "metadata": {},
     "output_type": "execute_result"
    }
   ],
   "source": [
    "from sympy import *\n",
    "x= symbols('x')\n",
    "solve(x*(1.0+x)/(1.0-x)-1.8e-5)\n",
    "# Ignore the nagtive value. "
   ]
  },
  {
   "cell_type": "markdown",
   "metadata": {},
   "source": [
    "(b) Calculate the $\\ce{pH}$ of this system after adding of 0.10 mole of $\\ce{HCl}$ to 1.0 L of this buffer solution.  \n",
    "Stragegy: (1) $\\ce{HCl}$ ionize completely to release equal amount of $\\ce{H+}$; (2) Assume $\\ce{CH3COO-}$ react with all $\\ce{H+}$, calculate $[\\ce{CH3COO-}]$ and $[\\ce{CH3COOH}]$; (3) Calculate the equilibrium concentration of $\\ce{H+}$ after partial ionization of $\\ce{CH3COOH}$.  \n",
    "$$K_a=\\frac{[\\ce{H+}][\\ce{CH3COO-}]}{[\\ce{CH3COOH}]}=\\frac{x(0.90+x)}{1.1-x}=1.8\\times 10^{-5}$$  \n",
    "Solve the equation and get $x=[\\ce{H+}]=2.2\\times 10^{-5}\\,\\text{M}$  \n",
    "Thus $\\ce{pH}=- \\log (2.2\\times 10^{-5}) = 4.66$\n",
    "\n",
    "**Note** If you add same amount of $\\ce{HCl}$ to 1.0 L pure water, the $\\ce{pH}$ would decrease from $7$ to $1$!"
   ]
  },
  {
   "cell_type": "code",
   "execution_count": 3,
   "metadata": {
    "collapsed": false
   },
   "outputs": [
    {
     "data": {
      "text/plain": [
       "[-0.900039999022290, 2.19990222895745e-5]"
      ]
     },
     "execution_count": 3,
     "metadata": {},
     "output_type": "execute_result"
    }
   ],
   "source": [
    "solve(x*(0.9+x)/(1.1-x)-1.8e-5)\n",
    "# Ignore the nagtive value. "
   ]
  },
  {
   "cell_type": "markdown",
   "metadata": {},
   "source": [
    "**Preparing a Buffer Solution with a Specific $\\ce{pH}$**  \n",
    "\n",
    "$$\\ce{p}K_a=- \\log K_a$$  \n",
    "Because  \n",
    "$$K_a=\\frac{[\\text{conjugate base}][\\ce{H+}]}{[\\text{acid}]}$$  \n",
    "We have  \n",
    "$$\\begin{align}\\ce{pH}=\\ce{p}K_a + \\log\\frac{[\\text{conjugate base}]}{[\\text{acid}]}\\end{align}$$  \n",
    "Use this equation to calculate the ratio between an acid and its conjugate base in order to prepare a buffer solution with a specific $\\ce{pH}$. \n",
    "\n",
    "*To prepare a buffer solution, we choose a weak acid whose $\\ce{p}K_a$ is close to the desired $\\ce{pH}$.* Thus the acid and its conjugate base would have comparable concentration in the buffer solution. "
   ]
  },
  {
   "cell_type": "markdown",
   "metadata": {},
   "source": [
    "> **Requirements**  \n",
    "> 1. Understand what is a buffer solution and why a buffer solution can resist the change of $\\ce{pH}$.  \n",
    "> 2. Know how to calculate the $\\ce{pH}$ of a buffer solution and the $\\ce{pH}$ change after adding a little amount of acid or base (Textbook Example 17.2).  \n",
    "> 3. Know how to prepare a buffer solution with a specific $\\ce{pH}$ (Textbook Example 17.3). "
   ]
  },
  {
   "cell_type": "markdown",
   "metadata": {},
   "source": [
    "## 2. Titrations"
   ]
  },
  {
   "cell_type": "markdown",
   "metadata": {},
   "source": [
    "**Strong Acid-Strong Base Titrations**  \n",
    "The $\\ce{pH}$ value changes sharply around the equivalence point.  \n",
    "At the equivalence point, $\\ce{pH}=7$.  "
   ]
  },
  {
   "cell_type": "markdown",
   "metadata": {},
   "source": [
    "**Weak Acid-Strong Base Titrations**  \n",
    "At the equivalence point, $\\ce{pH}>7$.  "
   ]
  },
  {
   "cell_type": "markdown",
   "metadata": {},
   "source": [
    "**Strong Acid-Weak Base Titrations**  \n",
    "At the equivalence point, $\\ce{pH}<7$.  "
   ]
  },
  {
   "cell_type": "markdown",
   "metadata": {},
   "source": [
    "**Calculate the $\\ce{pH}$ during a titration process**  \n",
    "1. Reaction between a strong acid and a strong base results in a neutral salt which does not affect the $\\ce{pH}$ value. Use the remaining amount of acid or base and the total volumn to calculate the $\\ce{pH}$.  \n",
    "2. Weak acid and strong base react to give a salt which can hydrolyze to release $\\ce{OH-}$. The hydrolysis of the salt should be considered when performing calculation on $\\ce{pH}$. \n",
    "    1. Before reaching equivalence point, $\\ce{pH}$ can be calculated via equation 1 (see above), knowing the ratio between [conjugate base] and [acid]. \n",
    "    2. At equivalence point, only the hydrolysis of the conjugate base affects the $\\ce{pH}$. \n",
    "    3. After equivalence point, only the excess amount of added strong base affects the $\\ce{pH}$. \n",
    "3. Strong acid-weak base titrations are similar as weak acid-strong base titrations. \n",
    "\n",
    "**Example** Calculate the $\\ce{pH}$ in the titration of 25.0 mL of 0.100 M acetic acid by sodium hydroxide after the addition to the acid solution of (a) 10.0 mL of 0.100 M NaOH, (b) 25.0 mL of 0.100 M NaOH, (c) 35.0 mL of 0.100 M NaOH. (Textbook Example 17.4)\n",
    "\n",
    "(a) At this moment, $[\\ce{CH3COO-}]/[\\ce{CH3COOH}]=1.00/1.50$, thus  \n",
    "$$\\ce{pH}=\\ce{p}K_a + \\log\\frac{[\\ce{CH3COO-}]}{[\\ce{CH3COOH}]}=-\\log \\left( 1.8\\times 10^{-5}+\\log \\frac{1.00}{1.50} \\right) = 4.57$$\n",
    "\n",
    "(b) At this moment, it is the same as to calculate the $\\ce{pH}$ of a 0.0500 M $\\ce{CH3COONa}$ solution. \n",
    "\n",
    "(c) There is 1.00 mol excessive $\\ce{NaOH}$. The $\\ce{pH}$ only depends on this amount of $\\ce{NaOH}$.  "
   ]
  },
  {
   "cell_type": "markdown",
   "metadata": {},
   "source": [
    "**Acid Base Indicators**  \n",
    "\n",
    "**Indicators** are substances that have distinctly different colors in acidic and basic media.  \n",
    "A given indicator changes from the acid color to the base color in a certain $\\ce{pH}$ range (Textbook Table 17.1).  \n",
    "The titration curve usually has a steep part around the equivalence point. Only when the indicator would change its color within this steep portion of the curve, the indicator can be used in such titration experiment. \n",
    "\n",
    "> **Requirements**\n",
    "> 1. Tell which indicator or indicators listed in Table 17.1 could be used in given acid-base titration curves (Textbook Example 17.5). "
   ]
  },
  {
   "cell_type": "markdown",
   "metadata": {},
   "source": [
    "## 3. Solubility Equilibria"
   ]
  },
  {
   "cell_type": "code",
   "execution_count": null,
   "metadata": {
    "collapsed": true
   },
   "outputs": [],
   "source": []
  },
  {
   "cell_type": "markdown",
   "metadata": {},
   "source": [
    "## 4. Complex Equilibria"
   ]
  },
  {
   "cell_type": "code",
   "execution_count": null,
   "metadata": {
    "collapsed": true
   },
   "outputs": [],
   "source": []
  }
 ],
 "metadata": {
  "anaconda-cloud": {},
  "kernelspec": {
   "display_name": "Python [default]",
   "language": "python",
   "name": "python3"
  },
  "language_info": {
   "codemirror_mode": {
    "name": "ipython",
    "version": 3
   },
   "file_extension": ".py",
   "mimetype": "text/x-python",
   "name": "python",
   "nbconvert_exporter": "python",
   "pygments_lexer": "ipython3",
   "version": "3.5.1"
  },
  "latex_envs": {
   "bibliofile": "biblio.bib",
   "cite_by": "apalike",
   "current_citInitial": 1,
   "eqLabelWithNumbers": true,
   "eqNumInitial": 0
  }
 },
 "nbformat": 4,
 "nbformat_minor": 0
}
