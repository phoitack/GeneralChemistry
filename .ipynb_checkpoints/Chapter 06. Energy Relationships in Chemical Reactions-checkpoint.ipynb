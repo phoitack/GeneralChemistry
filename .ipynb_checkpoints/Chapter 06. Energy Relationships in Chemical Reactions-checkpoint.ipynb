{
 "cells": [
  {
   "cell_type": "markdown",
   "metadata": {},
   "source": [
    "$$\\require{mhchem}$$\n",
    "\n",
    "### [HOME](https://wangyu16.github.io/GeneralChemistry/)\n",
    "\n",
    "# <center>General Chemistry Study Guide</center>\n",
    "\n",
    "### <center>Chapter 6. Energy Relationships in Chemical Reactions</center>\n",
    "\n",
    "---\n",
    "\n",
    "*<center>Yu Wang</center>*\n",
    "\n",
    "##### <b>OpenStax</b> 5 Thermochemistry. <b>Brown</b> 5 Thermochemistry. #####"
   ]
  },
  {
   "cell_type": "markdown",
   "metadata": {
    "collapsed": true
   },
   "source": [
    "## 1.  Energy\n",
    "\n",
    "**Energy** is the capacity to do work.\n",
    "\n",
    "* Radiant energy comes from the sun and is earth’s primary energy source.\n",
    "* Thermal energy is the energy associated with the random motion of atoms and molecules.\n",
    "* Chemical energy is the energy stored within the bonds of chemical substances.\n",
    "* Nuclear energy is the energy stored within the collection of neutrons and protons in the atom.\n",
    "* Potential energy is the energy available by virtue of an object’s position\n",
    "* Kinetic energy is the energy that a body possesses by virtue of being in motion. \n",
    "\n",
    "####  Energy Changes in Chemical Reactions\n",
    "\n",
    "**Heat** is the transfer of thermal energy between two bodies that are at different temperatures. \n",
    "\n",
    "**Thermochemistry** is the study of heat change in chemical reactions.\n",
    "\n",
    "**System** is the specific part of the universe that is of interest to us. \n",
    "\n",
    "The **surroundings** are the rest of the universe outside the system.\n",
    "\n",
    "There are three types of systems. \n",
    "* An **open system** can exchange mass and energy, usually in the form of heat, with its surroundings. \n",
    "* A **closed system** allows the transfer of energy (heat) but not mass. \n",
    "* An **isolated system** does not allow the transfer of either mass or energy,\n",
    "\n",
    "An **exothermic process** is any process that gives off heat—that is, transfers thermal energy to the surroundings.\n",
    "\n",
    "An **endothermic process** requires heat to be supplied to the system (that is, to HgO) by the surroundings.\n",
    "\n",
    "#### Thermodynamics\n",
    "\n",
    "**Thermodynamics** is the scientific study of the interconversion of heat and other kinds of energy.\n",
    "\n",
    "**State functions** are properties that are determined by the state of the system, regardless of how that condition was achieved.\n",
    "\n",
    "**First law of thermodynamics** – energy can be converted from one form to another, but cannot be created or destroyed.\n",
    "\n",
    "$$\\Delta U = q +w$$\n",
    "\n",
    "$\\Delta U$ is the change in internal energy of a system. \n",
    "\n",
    "$q$ is the heat exchange between the system and the surroundings. \n",
    "\n",
    "$w$ is the work done on (or by) the system. \n",
    "\n",
    "when a gas expands against a constant *external* pressure\n",
    "$$w = -P\\Delta V$$\n",
    "\n",
    "Sign conventions for work and heat."
   ]
  },
  {
   "cell_type": "markdown",
   "metadata": {},
   "source": [
    "> #### Requirements\n",
    "> 1. Understand the concepts\n",
    "> 2. Learn how to calculate word done by a system. "
   ]
  },
  {
   "cell_type": "markdown",
   "metadata": {},
   "source": [
    "## 2. Enthalphy\n",
    "\n",
    "**Enthalpy** ($H$) is used to quantify the heat flow into or out of a system in a process that occurs at constant pressure.\n",
    "\n",
    "$$H = U + PV$$\n",
    "\n",
    "System absorbs heat -> Endothermic -> $\\Delta H > 0$\n",
    "\n",
    "System gives off heat -> Exothermic -> $\\Delta H < 0$\n",
    "\n",
    "The enthalpy change of a reaction: \n",
    "\n",
    "* The stoichiometric coefficients always refer to the number of moles of a substance.\n",
    "* If you reverse a reaction, the sign of $\\Delta H$ changes. \n",
    "* If you multiply both sides of the equation by a factor $n$, then $\\Delta H$ must change by the same factor $n$.\n",
    "* The physical states of all reactants and products must be specified in thermochemical equations.\n",
    "\n",
    "<div class=example>\n",
    "\n",
    "<b>Example:</b> In the following reaction\n",
    "\n",
    "$$\\ce{2SO2(g) + O2(g) -> 2SO3(g)}\\qquad \\Delta H = -198.2\\,\\text{kJ/mol}$$\n",
    "\n",
    "calculate the heat evolved when 87.9 g of $\\ce{SO2}$ (molar mass = 64.07 g/mol) is converted to $\\ce{SO3}$. <br>\n",
    "\n",
    "<b>Answer: </b><br>\n",
    "\n",
    "The coefficient before $\\ce{SO2}$ is 2 which means the comsumption of each 2 mol of $\\ce{SO2}$ corresponds to an enthalpy change of -198.2 kJ. The negtive sign means the reaction releases energy to the enviorenment. \n",
    "\n",
    "Thus the enthalpy change for this reaction is given by\n",
    "\n",
    "$$\\Delta H = 87.9\\,\\text{g}\\,\\ce{SO2}\\times\\frac{1\\,\\text{mol}\\,\\ce{SO2}}{64.07\\,\\text{g}\\,\\ce{SO2}}\\times\\frac{-198.2\\,\\text{kJ}}{2\\,\\text{mol}\\,\\ce{SO2}}=-136\\,\\text{kJ}$$\n",
    "\n",
    "</div>\n",
    "\n",
    "Correlation between $\\Delta H$ and $\\Delta U$\n",
    "\n",
    "$$\\Delta U = \\Delta H - P\\Delta V$$\n",
    "\n",
    "For gas under constant temperature\n",
    "\n",
    "$$\\Delta U = \\Delta H - \\Delta nRT$$\n",
    "\n"
   ]
  },
  {
   "cell_type": "markdown",
   "metadata": {},
   "source": [
    "> #### Requirements \n",
    "> 1. Understand what is enthalpy.\n",
    "> 2. Learn how to calculate the enthalpy of a reaction. "
   ]
  },
  {
   "cell_type": "markdown",
   "metadata": {},
   "source": [
    "## 3. Calorimetry"
   ]
  },
  {
   "cell_type": "markdown",
   "metadata": {},
   "source": [
    "The **specific heat** ($s$) of a substance is the amount of heat ($q$) required to raise the temperature of one gram of the substance by one degree Celsius.\n",
    "\n",
    "The **heat capacity** ($C$) of a substance is the amount of heat ($q$) required to raise the temperature of a given quantity ($m$) of the substance by one degree Celsius.\n",
    "\n",
    "$$C =  m\\times s$$\n",
    "\n",
    "$$q= C\\times\\Delta T = m\\times s\\times\\Delta T$$\n",
    "\n",
    "$$\\Delta T = T_{final} - T_{initial}$$\n",
    "\n",
    "Constant-Volume Calorimetry\n",
    "\n",
    "$$q_{rxn} = -(q_{water}+q_{bomb}) = \\Delta U_{rxn}$$\n",
    "\n",
    "Constant-Pressure Calorimetry\n",
    "\n",
    "$$q_{rxn} = -(q_{water}+q_{cal}) = \\Delta H_{rxn}$$"
   ]
  },
  {
   "cell_type": "markdown",
   "metadata": {},
   "source": [
    "> #### Requirements \n",
    "> 1. Understand specific heat and heat capacity. \n",
    "> 2. Understand how to measure the reaction heat under constant volume or constant pressure. "
   ]
  },
  {
   "cell_type": "markdown",
   "metadata": {},
   "source": [
    "## 4. Standard Enthalpy\n",
    "\n",
    "**Standard enthalpy of formation** ($\\Delta H_f^0$) is the heat change that results when one mole of a compound is formed from its elements at a pressure of 1 atm.\n",
    "\n",
    "The standard enthalpy of formation of any element in its most stable form is zero. For some common compounds, see Table 6.4. \n",
    "\n",
    "The **standard enthalpy of reaction** ($\\Delta H_{rxn}^0$) is the enthalpy of a reaction carried out at 1 atm. \n",
    "\n",
    "**Hess’s Law:**  When reactants are converted to products, the change in enthalpy is the same whether the reaction takes place in one step or in a series of steps.\n",
    "\n",
    "In other words, if reaction 1 add reaction 2 give you reaction 3, the $\\Delta H_{rxn}^0$ of reaction 3 would be the same as the sum of the $\\Delta H_{rxn}^0$ of reaction 1 and 2. \n",
    "\n",
    "For example \n",
    "\n",
    "$$\\ce{A + B -> C + D}\\qquad\\Delta H _{rxn}^0(1)$$\n",
    "$$\\ce{C + B -> E}\\qquad\\Delta H _{rxn}^0(2)$$ \n",
    "$$\\ce{A + 2B -> D + E}\\qquad\\Delta H_{rxn}^0(3)$$\n",
    "\n",
    "We have\n",
    "\n",
    "$$\\Delta H _{rxn}^0(1) + \\Delta H _{rxn}^0(2) = \\Delta H _{rxn}^0(3)$$\n",
    "\n",
    "For a reaction\n",
    "\n",
    "$$\\ce{aA + bB -> cC + dD}$$\n",
    "\n",
    "The standard enthalpy of reaction can be calculated based on the standard enthalpy of formation of all reactants and products. \n",
    "\n",
    "$$\\Delta H_{rxn}^0 =  [\\text{c}\\Delta H_{f}^0(\\ce{C}) + \\text{d}\\Delta H_{f}^0(\\ce{D})] - [\\text{a}\\Delta H_{f}^0(\\ce{A}) + \\text{b}\\Delta H_{f}^0(\\ce{B})]$$\n",
    "\n",
    "or \n",
    "\n",
    "$$\\Delta H_{rxn}^0 =  \\sum n\\Delta H_{f}^0(\\text{products})  - \\sum m\\Delta H_{f}^0(\\text{reactants})$$\n",
    "\n",
    "So, you do not need to measure the enthalpy of every chemical reaction, you can simply calculate from known standard enthalpy of formation of the reactants and products. \n"
   ]
  },
  {
   "cell_type": "markdown",
   "metadata": {},
   "source": [
    "> #### Requirements \n",
    "> 1. Understand standard enthalpy of formation and standard enthalpy of reaction. \n",
    "> 2. Learn how to calculate reaction enthalpy from standard enthalpy of formation. "
   ]
  },
  {
   "cell_type": "markdown",
   "metadata": {
    "collapsed": true
   },
   "source": [
    "----"
   ]
  },
  {
   "cell_type": "raw",
   "metadata": {},
   "source": [
    "Please ignore the cell below. It just loads our style for the notebook."
   ]
  },
  {
   "cell_type": "code",
   "execution_count": 1,
   "metadata": {},
   "outputs": [
    {
     "data": {
      "text/html": [
       "<link href=\"https://fonts.googleapis.com/css?family=Lora:400,400i,700,700i|Open+Sans:400,400i|Raleway:400,400i,700,700i\" rel=\"stylesheet\" type='text/css'>\n",
       "<style  type=\"text/css\">\n",
       "div.text_cell_render {\n",
       "\tfont-family: Lora, serif;\n",
       "\tcolor: #222222;\n",
       "}\n",
       ".text_cell_render p {\n",
       "\tpadding-left: 1.5em;\n",
       "\ttext-align: justify;\n",
       "}\n",
       ".text_cell_render h3, h4, h6 {\n",
       "\tfont-family: Raleway, sans-serif;\n",
       "\tcolor: #005c99;\n",
       "}\n",
       ".text_cell_render h1 {\n",
       "\tfont-family: \"Open Sans\", sans-serif;\n",
       "\tfont-weight: 700;\n",
       "\tmargin: auto;\n",
       "\tdisplay: block;\n",
       "}\n",
       ".text_cell_render h2 {\n",
       "\tfont-family: Raleway, sans-serif;\n",
       "\tfont-weight: 700; \n",
       "\tmargin-top: 50px;\n",
       "\tdisplay:inline-block;\n",
       "\tpadding: 10px 15px;\n",
       "\tbackground-color: #007acc;\n",
       "\tcolor: #f8f8f8;\n",
       "\tborder-radius: 10px 40px 10px 40px;\n",
       "\tletter-spacing: 3px;\n",
       "\tfont-variant: small-caps;\n",
       "}\n",
       ".text_cell_render h5 {\n",
       "\tfont-family: \"Open Sans\", sans-serif;\n",
       "\tfont-weight: 400;\n",
       "\tborder-style: groove;\n",
       "\tpadding:0.5em 0.5em 0.5em 0.5em;\n",
       "\tmargin: 1em 0 1em 0;\n",
       "\tline-height: 1.6;\n",
       "}\n",
       "div #notebook {\n",
       "\tbackground-color: #f8f8f8;\n",
       "\twidth: 1110px;\t\n",
       "\tmargin: auto;\n",
       "\tpadding-left: 0em;\n",
       "\tborder: 3px solid #cbd3e5; \n",
       "\tbox-shadow: 0px 0px 7px 1px #cccccc;\n",
       "}\n",
       "div.example {\n",
       "    background-color:#007acc;\n",
       "    color: #ffffff;\n",
       "    margin: auto;\n",
       "    width: 100%; \n",
       "\tpadding: 1.4em; \n",
       "\tborder: 3px solid #007acc; \n",
       "\tborder-radius: 10px; \n",
       "\tmargin-bottom: 14px; \n",
       "\tmargin-top: 14px;  \n",
       "\tbox-shadow: 7px 7px 5px #cccccc; \n",
       "\toverflow: hidden;\n",
       "}\n",
       "div #notebook-container {\n",
       "\tbackground-color: #ffffff;\n",
       "\tfont-size: 1.5em; \n",
       "\tline-height: 1.6;\n",
       "\twidth: 1100px;\n",
       "\tmargin: auto;\n",
       "\tpadding-right: 150px;\n",
       "}\n",
       ".CodeMirror-code {\n",
       "\tfont-size: 1.2em;\n",
       "\tline-height: 125%;\n",
       "\topacity: 0.9;\n",
       "}\n",
       "\n",
       ".text_cell_render td {\n",
       "    border-style: hidden;\n",
       "}\n",
       ".text_cell_render table {\n",
       "    border-style: hidden;\n",
       "\tborder-collapse: collapse;\n",
       "\twidth: 100%;\n",
       "    font-size: 80%;\n",
       "}\n",
       "\n",
       ".text_cell_render th, td {\n",
       "\tpadding: 8px;\n",
       "}\n",
       "\n",
       ".text_cell_render tr:nth-child(even){background-color: #e8e8e8}\n",
       "\n",
       ".text_cell_render th {\n",
       "    border-style: hidden;\n",
       "\tbackground-color: #007acc;\n",
       "\tcolor: #f8f8f8;\n",
       "}\n",
       "table td, table th, table tr {\n",
       "    text-align:left !important;\n",
       "}\n",
       "</style>\n",
       "\n"
      ],
      "text/plain": [
       "<IPython.core.display.HTML object>"
      ]
     },
     "execution_count": 1,
     "metadata": {},
     "output_type": "execute_result"
    }
   ],
   "source": [
    "from IPython.core.display import HTML\n",
    "def css_styling():\n",
    "    styles = open(\"custom.css\", \"r\").read()\n",
    "    return HTML(styles)\n",
    "css_styling()"
   ]
  },
  {
   "cell_type": "code",
   "execution_count": null,
   "metadata": {
    "collapsed": true
   },
   "outputs": [],
   "source": []
  }
 ],
 "metadata": {
  "anaconda-cloud": {},
  "kernelspec": {
   "display_name": "Python 3",
   "language": "python",
   "name": "python3"
  },
  "language_info": {
   "codemirror_mode": {
    "name": "ipython",
    "version": 3
   },
   "file_extension": ".py",
   "mimetype": "text/x-python",
   "name": "python",
   "nbconvert_exporter": "python",
   "pygments_lexer": "ipython3",
   "version": "3.6.4"
  }
 },
 "nbformat": 4,
 "nbformat_minor": 1
}
