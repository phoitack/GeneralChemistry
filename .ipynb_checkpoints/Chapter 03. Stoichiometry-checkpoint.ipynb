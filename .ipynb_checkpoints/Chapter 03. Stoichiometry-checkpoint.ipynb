{
 "cells": [
  {
   "cell_type": "markdown",
   "metadata": {},
   "source": [
    "$$\\require{mhchem}$$\n",
    "\n",
    "### [HOME](https://wangyu16.github.io/GeneralChemistry/)\n",
    "\n",
    "# <center>General Chemistry Study Guide</center>\n",
    "\n",
    "### <center>Chapter 3. Stoichiometry</center>\n",
    "\n",
    "---\n",
    "\n",
    "*<center>Yu Wang</center>*"
   ]
  },
  {
   "cell_type": "markdown",
   "metadata": {
    "collapsed": true
   },
   "source": [
    "## 1. Molar Mass\n",
    "\n",
    "### 1.1. Atomic Mass\n",
    "\n",
    "##### <b>OpenStax</b> 2.3 Atomic Structure and Symbolism; 3.1 Formula Mass and the Mole Concept. <b>Brown</b> 2.4 Atomic Weights; 3.4 Avogadro’s Number and the Mole.  #####\n",
    "\n",
    "**Atomic mass** is the mass of an atom in atomic mass units (amu)\n",
    "\n",
    "One **atomic mass unit** equals to $1/12$ of the mass of one $\\ce{^{12}C}$ atom. \n",
    "\n",
    "On this scale the atomic mass of $\\ce{^{1}H}$ is 1.008 amu, NOT exactly 1 amu because the mass of one proton varies in different atoms. \n",
    "\n",
    "**Average atomic mass** is the weighted average of all of the naturally occurring isotopes of the element. (The number below every element symbol in the periodic table) \n",
    "\n",
    "<div class=example>\n",
    "<b>Example: </b>\n",
    "The atomic masses of its two stable isotopes, $\\ce{^{63}_{29}Cu}$ (69.09%) and $\\ce{^{65}_{29}Cu}$ (30.91%), are 62.93 amu and 64.9278 amu, respectively. What is the average atomic mass?<br>\n",
    "\n",
    "<b>Answer: </b><br>\n",
    "\n",
    "$$62.93\\,\\text{amu}\\times69.09\\%+64.9278\\,\\text{amu}\\times30.91\\%=63.55\\,\\text{amu}$$\n",
    "\n",
    "</div>\n",
    "\n",
    "The ***mole*** (**mol**) is the amount of a substance that contains as many elementary entities as there are atoms in exactly 12.00 grams of $\\ce{^{12}C}$. \n",
    "\n",
    "$$1\\,\\text{mol} = N_A = 6.0221415\\times10^{23}$$\n",
    "\n",
    "$N_A$ is Avogadro's number.\n",
    "\n",
    "**Molar mass** is the mass of 1 mole of something in grams. For any element, the atomic mass (amu) equals to the molar mass (grams). \n",
    "\n",
    "<div class=example>\n",
    "<b>Example: </b>How many grams of Zn are in 0.356 mole of Zn?<br>\n",
    "\n",
    "<b>Answer: </b><br>\n",
    "\n",
    "$$0.356\\,\\text{mol}\\,\\ce{Zn}\\times\\frac{65.39\\,\\text{g}\\,\\ce{Zn}}{1\\,\\text{mol}\\,\\ce{Zn}} = 23.3\\,\\text{g}\\,\\ce{Zn}$$\n",
    "\n",
    "</div>"
   ]
  },
  {
   "cell_type": "markdown",
   "metadata": {},
   "source": [
    "> #### Requirements\n",
    "> 1. Understand the concepts: atomic mass, average atomic mass and molar mass. Understand the defination of mole. \n",
    "> 2. Learn how to calculate the mass of element ($m$), number of moles of element ($n$) and number of atoms of element ($N$). Know one of the values, calculate the other two. \n"
   ]
  },
  {
   "cell_type": "markdown",
   "metadata": {},
   "source": [
    "### 1.2. Molecular Mass\n",
    "\n",
    "##### <b>OpenStax</b> 3.1 Formula Mass and the Mole Concept. <b>Brown</b> 3.3 Formula Weights. #####\n",
    "\n",
    "**Molecular mass** (also known as molecular weight) is the sum of the atomic masses (in amu) in a molecule. \n",
    "\n",
    "The **molar mass** (grams) of a molecule equals to the molecular mass (amu). \n",
    "\n",
    "<div class=example>\n",
    "<b>Example: </b>\n",
    "The molecular mass of $\\ce{H2O}$. \n",
    "\n",
    "$$(1.008\\,\\text{amu})\\times2+16.00\\,\\text{amu} = 18.02\\,\\text{amu}$$\n",
    "\n",
    "How many moles of $\\ce{CH4}$ are present in 6.07 g of $\\ce{CH4}$? <br>\n",
    "\n",
    "<b>Answer: </b><br>\n",
    "\n",
    "$$\\text{molar mass of }\\,\\ce{CH4}=12.01\\,\\text{g}+4\\times(1.008\\,\\text{g})=16.04\\,\\text{g}$$\n",
    "\n",
    "$$6.07\\,\\text{g}\\,\\ce{CH4}\\times\\frac{1\\,\\text{mol}\\,\\ce{CH4}}{16.04\\,\\text{g}\\,\\ce{CH4}}=0.378\\,\\text{mol}\\,\\ce{CH4}$$\n",
    "\n",
    "</div>"
   ]
  },
  {
   "cell_type": "markdown",
   "metadata": {},
   "source": [
    "### 1.3. Formular Mass\n",
    "\n",
    "##### <b>OpenStax</b> 3.1 Formula Mass and the Mole Concept. <b>Brown</b> 3.3 Formula Weights. #####\n",
    "\n",
    "**Formula mass** is the sum of the atomic masses (in amu) in the chemical formula of the substance. \n",
    "\n",
    "Formula mass and molecular mass are the same for molecular compounds. But for ionic compounds, there is no molecular mass, but only formula mass. \n",
    "\n",
    "The **molar mass** (grams) of any ionic compound equals to the formula mass (amu). \n",
    "\n",
    "<div class=example>\n",
    "<b>Example: </b> Calculate the formula mass of $\\ce{NaCl}$. <br>\n",
    "\n",
    "<b>Answer: </b><br>\n",
    "The atomic mass of Na is 22.99 amu, Cl is 35.45 amu.  \n",
    "The formula mass of NaCl is: \n",
    "$$1\\times22.99\\,\\text{amu} + 1\\times35.45\\,\\text{amu} = 58.44\\,\\text{amu}$$\n",
    "</div>"
   ]
  },
  {
   "cell_type": "markdown",
   "metadata": {},
   "source": [
    "### 1.4. Percent Composition \n",
    "\n",
    "##### <b>OpenStax</b> 3.2 Determining Empirical and Molecular Formulas; 4.5 Quantitative Chemical Analysis. <b>Brown</b>3.2 Simple Patterns of Chemical Reactivity; 3.3 Formula Weights;  3.5 Empirical Formulas from Analyses. #####\n",
    "\n",
    "**Percent composition** is the percent by mass of each element present in a compound. \n",
    "\n",
    "Water, $\\ce{H2O}$, is the first example. One mole of water is $18.0152\\,\\text{grams}$. In that compound, there are two moles of $\\ce{H}$ atoms and $2\\times1.008 = 2.016\\,\\text{grams}$. That's how many grams of hydrogen are present in one mole of water.\n",
    "\n",
    "There is also one mole of oxygen atoms weighing $16.00\\,\\text{grams}$ in the mole of water.\n",
    "\n",
    "To get the percentage of hydrogen, divide the $2.016$ by $18.015$ and multiply by $100$, giving $11.19\\%$.\n",
    "\n",
    "For oxygen it is $16.00 \\div 18.015 = 88.81\\%$.\n",
    "\n",
    "Notice that you can also minus hydrogen's percentage from $100\\%$. So, for oxygen it is $100\\% - 11.19\\%= 88.81\\%$.\n",
    "\n",
    "#### Experimental Determination of Empirical Formulas\n",
    "\n",
    "<img src=\"https://cnx.org/resources/f141a66708a1dc6c6ed3792d67c107ca01d8fd9f\" style=\"width:800px\" />\n",
    "\n",
    "<div class=example>\n",
    "<b>Example: </b>\n",
    "Combustion experiment of ethanol. Combust $11.5\\,\\text{g}$ ethanol, get $22.0\\,\\text{g}\\,\\ce{CO2}$ and $13.5\\,\\text{g}\\,\\ce{H2O}$. What is the empirical formula of ethanol? <br>\n",
    "\n",
    "<b>Answer: </b><br>\n",
    "\n",
    "$$\\ce{C}\\text{: }22.0\\,\\text{g}\\,\\ce{CO2}\\times\\frac{1\\,\\text{mol}\\,\\ce{CO2}}{44.0\\,\\text{g}\\,\\ce{CO2}}\\times\\frac{1\\,\\text{mol}\\,\\ce{C}}{1\\,\\text{mol}\\,\\ce{CO2}}=0.50\\,\\text{mol}\\,\\ce{C}$$\n",
    "\n",
    "$$\\ce{H}\\text{: }13.5\\,\\text{g}\\,\\ce{H2O}\\times\\frac{1\\,\\text{mol}\\,\\ce{H2O}}{18.0\\,\\text{g}\\,\\ce{H2O}}\\times\\frac{2\\,\\text{mol}\\,\\ce{H}}{1\\,\\text{mol}\\,\\ce{H2O}}=1.50\\,\\text{mol}\\,\\ce{H}$$\n",
    "\n",
    "$$\\ce{O}\\text{: }\\text{mass of}\\,\\ce{O} = 11.5\\,\\text{g}\\,\\text{ethanol} - 0.50\\,\\text{mol}\\,\\ce{C}\\times\\frac{12\\,\\text{g}\\,\\ce{C}}{1\\,\\text{mol}\\,\\ce{C}}-1.50\\,\\text{mol}\\,\\ce{H}\\times\\frac{1.00\\,\\text{g}\\,\\ce{H}}{1\\,\\text{mol}\\,\\ce{H}}=4.0\\,\\text{g}\\,\\ce{O}$$\n",
    "\n",
    "$$\\text{moles of}\\,\\ce{O} = 4.0\\,\\text{g}\\,\\ce{O}\\times\\frac{1\\,\\text{mol}\\,\\ce{O}}{16.0\\,\\text{g}\\,\\ce{O}}=0.25\\,\\text{mol}\\,\\ce{O}$$\n",
    "\n",
    "Divide by $0.25\\,\\text{mol}$, get the ratio of each element. The empirical formula of ethanol is $\\ce{C2H6O}$.\n",
    "\n",
    "</div>"
   ]
  },
  {
   "cell_type": "markdown",
   "metadata": {},
   "source": [
    "### 1.5. Mass Spectrometer\n",
    "\n",
    "(Just to have a brief idea about this analytical method) \n",
    "\n",
    "Mass spectrometry (MS) is an analytical technique that ionizes chemical species and sorts the ions based on their mass-to-charge ratio. In simpler terms, a mass spectrum measures the masses within a sample. "
   ]
  },
  {
   "cell_type": "markdown",
   "metadata": {},
   "source": [
    "> #### Requirements\n",
    "> 1. Learn how to calculate molar mass, molecular mass and formula mass of molecular and/or ionic compounds. \n",
    "> 2. Learn how to calculate the percent composition of a compound. \n",
    "> 3. Learn how to determine empirical formula from combustion experiment. "
   ]
  },
  {
   "cell_type": "markdown",
   "metadata": {},
   "source": [
    "## 2. Balance Chemical Reactions\n",
    "\n",
    "##### <b>OpenStax</b> 4.1 Writing and Balancing Chemical Equations; 4.3 Reaction Stoichiometry; 4.4 Reaction Yields. <b>Brown</b> 3.1 Chemical Equations; 3.6 Quantitative Information from Balanced Equations; 3.7 Limiting Reactants. #####\n",
    "\n",
    "### 2.1. Balanceing Chemical Equations\n",
    "\n",
    "A process in which one or more substances is changed into one or more new substances is a **chemical reaction**.\n",
    "\n",
    "A **chemical equation** uses chemical symbols to show what happens during a chemical reaction:\n",
    "\n",
    "$$\\text{reactants}\\ce{->}\\text{products}$$\n",
    "\n",
    "<div class=example>\n",
    "<b>Example: </b>\n",
    "\n",
    "$$\\ce{2Mg + O2 -> 2 MgO}$$\n",
    "\n",
    "means 2 $\\ce{Mg}$ atoms + 1 $\\ce{O2}$ molecule makes 2 formula units of $\\ce{MgO}$,  \n",
    "or 2 moles of $\\ce{Mg}$ + 1 mole of $\\ce{O2}$ makes 2 moles of $\\ce{MgO}$,  \n",
    "NOT 2 grams of $\\ce{Mg}$ + 1 gram of $\\ce{O2}$ makes 2 grams of $\\ce{MgO}$.  \n",
    "Actually, 48.6 grams of $\\ce{Mg}$ + 32.0 grams of $\\ce{O2}$ makes 80.6 grams of  $\\ce{MgO}$. \n",
    "</div>\n",
    "Steps to balance chemical equations\n",
    "\n",
    "1. Write the correct formula(s) for the reactants on the left side and the correct formula(s) for the product(s) on the right side of the equation. \n",
    "2. Change the numbers in front of the formulas (coefficients) to *make the number of atoms of each element the same on both sides* of the equation.  Do not change the subscripts. \n",
    "    1. Start by balancing those elements that appear in only one reactant and one product. \n",
    "    2. Balance those elements that appear in two or more reactants or products. \n",
    "3. Check to make sure that you have the same number of each type of atom on both sides of the equation. \n",
    "\n",
    "<div class=example>\n",
    "<b>Example: </b>\n",
    "$$\\ce{C2H6 + O2 -> CO2 + H2O}$$\n",
    "\n",
    "<b>Answer: </b><br>\n",
    "1. Balance the number of $\\ce{C}$ and $\\ce{H}$. The coefficients of $\\ce{CO2}$ and $\\ce{H2O}$ become 2 and 3, respectively. \n",
    "2. Balance the number of $\\ce{O}$, giving the coefficient of $\\ce{O2}$ as 3.5. \n",
    "3. Multiply both sides by 2, giving\n",
    "\n",
    "$$\\ce{2C2H6 + 7O2 -> 4CO2 + 6H2O}$$\n",
    "\n",
    "</div>"
   ]
  },
  {
   "cell_type": "code",
   "execution_count": 7,
   "metadata": {},
   "outputs": [
    {
     "data": {
      "image/jpeg": "[encoded data removed]",
      "text/html": [
       "\n",
       "        <iframe\n",
       "            width=\"700\"\n",
       "            height=\"550\"\n",
       "            src=\"https://www.youtube.com/embed/Z1kucSx-Cdo\"\n",
       "            frameborder=\"0\"\n",
       "            allowfullscreen\n",
       "        ></iframe>\n",
       "        "
      ],
      "text/plain": [
       "<IPython.lib.display.YouTubeVideo at 0x1e52cff9d48>"
      ]
     },
     "execution_count": 7,
     "metadata": {},
     "output_type": "execute_result"
    }
   ],
   "source": [
    "from IPython.display import YouTubeVideo\n",
    "YouTubeVideo(\"Z1kucSx-Cdo\", width=700, height=550)\n",
    "\n",
    "# Watch the following video for a better understanding \n",
    "# on how to balance an equation."
   ]
  },
  {
   "cell_type": "markdown",
   "metadata": {},
   "source": [
    "#### Amounts of Reactants and Products\n",
    "\n",
    "1. Write balanced chemical equation\n",
    "2. Convert quantities of known substances into moles\n",
    "3. Use coefficients in balanced equation to calculate the number of moles of the sought quantity\n",
    "4. Convert moles of sought quantity into desired units\n",
    "\n",
    "<div class=example>\n",
    "<b>Example: </b>\n",
    "In the reaction \n",
    "$$\\ce{C6H12O6 + 6O2 -> 6CO2 + 6H2O}$$\n",
    "If 856 g of $\\ce{C6H12O6}$ is consumed, how much $\\ce{CO2}$ is produced? <br>\n",
    "\n",
    "<b>Answer: </b><br>\n",
    "\n",
    "$$\\text{mass of }\\ce{CO2} = 856\\,\\text{g}\\,\\ce{C6H12O6}\\times\\frac{1\\,\\text{mol}\\,\\ce{C6H12O6}}{180.2\\,\\text{g}\\,\\ce{C6H12O6}}\\times\\frac{6\\,\\text{mol}\\,\\ce{CO2}}{1\\,\\text{mol}\\,\\ce{C6H12O6}}\\times\\frac{44.01\\,\\text{g}\\,\\ce{CO2}}{1\\,\\text{mol}\\,\\ce{CO2}}=1.25\\times10^3\\,\\text{g}\\,\\ce{CO2}$$\n",
    "\n",
    "</div>"
   ]
  },
  {
   "cell_type": "markdown",
   "metadata": {},
   "source": [
    "### 2.2. Limiting Reagent\n",
    "\n",
    "**Limiting reagent** is the reactant used up first in the reaction. \n",
    "\n",
    "1. Calculate the amount of all reactants in moles. \n",
    "2. Devide the amount of all reactants with their coefficients. \n",
    "3. The smallest number you get from step two corresponds to the limiting agent. "
   ]
  },
  {
   "cell_type": "markdown",
   "metadata": {},
   "source": [
    "### 2.3. Reaction Yield\n",
    "\n",
    "**Theoretical Yield** is the amount of product that would result if all the limiting reagent reacted.\n",
    "\n",
    "**Actual Yield** is the amount of product actually obtained from a reaction.\n",
    "\n",
    "$$\\%\\,\\text{Yield}=\\frac{\\text{Actual Yield}}{\\text{Theoretical Yield}}\\times100\\%$$\n",
    "\n",
    "<div class=example>\n",
    "<b>Example:</b><br> \n",
    "$$\\ce{2NH3 + CO2 -> (NH2)2CO + H2O}$$\n",
    "\n",
    "In one process, 637.2 g of $\\ce{NH3}$ are treated with 1142 g of $\\ce{CO2}$. \n",
    "\n",
    "(a) Which of the two reactants is the limiting reagent? <br>\n",
    "\n",
    "<b>Answer: </b><br>\n",
    "\n",
    "$$\\text{moles of }\\ce{NH3}=637.2\\,\\text{g}\\,\\ce{NH3}\\times\\frac{1\\,\\text{mol}\\,\\ce{NH3}}{17.03\\,\\text{g}\\,\\ce{NH3}}=37.42\\,\\text{mol}$$\n",
    "$$\\text{moles of }\\ce{CO2}=1142\\,\\text{g}\\,\\ce{CO2}\\times\\frac{1\\,\\text{mol}\\,\\ce{CO2}}{44.01\\,\\text{g}\\,\\ce{CO2}}=25.95\\,\\text{mol}$$\n",
    "$$\\frac{37.42}{2}=18.71<25.95$$\n",
    "Thus, $\\ce{NH3}$ is the limiting reagent. <br>\n",
    "\n",
    "(b) Calculate the mass of $\\ce{(NH2)2CO}$ formed, i.e. the theoretical yield. <br>\n",
    "\n",
    "<b>Answer: </b> <br>\n",
    "\n",
    "$$\\text{mass of }\\ce{(NH2)2CO} = 637.2\\,\\text{g}\\,\\ce{NH3}\\times\\frac{1\\,\\text{mol}\\,\\ce{NH3}}{17.03\\,\\text{g}\\,\\ce{NH3}}\\times\\frac{1\\,\\text{mol}\\,\\ce{(NH2)2CO}}{2\\,\\text{mol}\\,\\ce{NH3}}\\times\\frac{60.06\\,\\text{g}\\,\\ce{(NH2)2CO}}{1\\,\\text{mol}\\,\\ce{(NH2)2CO}}=1124\\,\\text{g}\\,\\ce{(NH2)2CO}$$\n",
    "\n",
    "(c) If 1006 g $\\ce{(NH2)2CO}$ was formed, what is the $\\%\\,\\text{Yield}$? <br>\n",
    "\n",
    "<b>Answer: </b><br>\n",
    "\n",
    "$$\\%\\,\\text{Yield}=\\frac{\\text{1006}}{\\text{1124}}\\times100\\% = 89.5\\%$$\n",
    "\n",
    "(d) How much excess reagent (in grams) is left at the end of the reaction?<br>\n",
    "\n",
    "<b>Answer: </b><br>\n",
    "\n",
    "$$\\text{moles of }\\ce{CO2}\\text{ left}= 25.95\\,\\text{mol} - \\frac{37.42\\,\\text{mol}}{2}=7.24\\,\\text{mol}$$\n",
    "$$\\text{mass of }\\ce{CO2}\\text{ left} = 7.24\\,\\text{mol}\\times\\frac{44.01\\,\\text{g}\\ce{CO2}}{1\\,\\text{mol}\\ce{CO2}}=314\\,\\text{g}\\ce{CO2}$$\n",
    "\n",
    "</div>"
   ]
  },
  {
   "cell_type": "markdown",
   "metadata": {},
   "source": [
    "> #### Requirements \n",
    "> 1. Learn how to balance a chemical reaction.\n",
    "> 2. Learn to determine limiting reagent, to calculate theoretical yield and $\\%\\,\\text{Yield}$.  "
   ]
  },
  {
   "cell_type": "markdown",
   "metadata": {
    "collapsed": true
   },
   "source": [
    "----"
   ]
  },
  {
   "cell_type": "raw",
   "metadata": {},
   "source": [
    "Please ignore the cell below. It just loads our style for the notebook."
   ]
  },
  {
   "cell_type": "code",
   "execution_count": 1,
   "metadata": {},
   "outputs": [
    {
     "data": {
      "text/html": [
       "<link href=\"https://fonts.googleapis.com/css?family=Lora:400,400i,700,700i|Open+Sans:400,400i|Raleway:400,400i,700,700i\" rel=\"stylesheet\" type='text/css'>\n",
       "<style  type=\"text/css\">\n",
       "div.text_cell_render {\n",
       "\tfont-family: Lora, serif;\n",
       "\tcolor: #222222;\n",
       "}\n",
       ".text_cell_render p {\n",
       "\tpadding-left: 1.5em;\n",
       "\ttext-align: justify;\n",
       "}\n",
       ".text_cell_render h3, h4, h6 {\n",
       "\tfont-family: Raleway, sans-serif;\n",
       "\tcolor: #005c99;\n",
       "}\n",
       ".text_cell_render h1 {\n",
       "\tfont-family: \"Open Sans\", sans-serif;\n",
       "\tfont-weight: 700;\n",
       "\tmargin: auto;\n",
       "\tdisplay: block;\n",
       "}\n",
       ".text_cell_render h2 {\n",
       "\tfont-family: Raleway, sans-serif;\n",
       "\tfont-weight: 700; \n",
       "\tmargin-top: 50px;\n",
       "\tdisplay:inline-block;\n",
       "\tpadding: 10px 15px;\n",
       "\tbackground-color: #007acc;\n",
       "\tcolor: #f8f8f8;\n",
       "\tborder-radius: 10px 40px 10px 40px;\n",
       "\tletter-spacing: 3px;\n",
       "\tfont-variant: small-caps;\n",
       "}\n",
       ".text_cell_render h5 {\n",
       "\tfont-family: \"Open Sans\", sans-serif;\n",
       "\tfont-weight: 400;\n",
       "\tborder-style: groove;\n",
       "\tpadding:0.5em 0.5em 0.5em 0.5em;\n",
       "\tmargin: 1em 0 1em 0;\n",
       "\tline-height: 1.6;\n",
       "}\n",
       "div #notebook {\n",
       "\tbackground-color: #f8f8f8;\n",
       "\twidth: 1110px;\t\n",
       "\tmargin: auto;\n",
       "\tpadding-left: 0em;\n",
       "\tborder: 3px solid #cbd3e5; \n",
       "\tbox-shadow: 0px 0px 7px 1px #cccccc;\n",
       "}\n",
       "div.example {\n",
       "    background-color:#007acc;\n",
       "    color: #ffffff;\n",
       "    margin: auto;\n",
       "    width: 100%; \n",
       "\tpadding: 1.4em; \n",
       "\tborder: 3px solid #007acc; \n",
       "\tborder-radius: 10px; \n",
       "\tmargin-bottom: 14px; \n",
       "\tmargin-top: 14px;  \n",
       "\tbox-shadow: 7px 7px 5px #cccccc; \n",
       "\toverflow: hidden;\n",
       "}\n",
       "div #notebook-container {\n",
       "\tbackground-color: #ffffff;\n",
       "\tfont-size: 1.5em; \n",
       "\tline-height: 1.6;\n",
       "\twidth: 1100px;\n",
       "\tmargin: auto;\n",
       "\tpadding-right: 150px;\n",
       "}\n",
       ".CodeMirror-code {\n",
       "\tfont-size: 1.2em;\n",
       "\tline-height: 125%;\n",
       "\topacity: 0.9;\n",
       "}\n",
       "\n",
       ".text_cell_render td {\n",
       "    border-style: hidden;\n",
       "}\n",
       ".text_cell_render table {\n",
       "    border-style: hidden;\n",
       "\tborder-collapse: collapse;\n",
       "\twidth: 100%;\n",
       "    font-size: 80%;\n",
       "}\n",
       "\n",
       ".text_cell_render th, td {\n",
       "\tpadding: 8px;\n",
       "}\n",
       "\n",
       ".text_cell_render tr:nth-child(even){background-color: #e8e8e8}\n",
       "\n",
       ".text_cell_render th {\n",
       "    border-style: hidden;\n",
       "\tbackground-color: #007acc;\n",
       "\tcolor: #f8f8f8;\n",
       "}\n",
       "table td, table th, table tr {\n",
       "    text-align:left !important;\n",
       "}\n",
       "</style>\n",
       "\n"
      ],
      "text/plain": [
       "<IPython.core.display.HTML object>"
      ]
     },
     "execution_count": 1,
     "metadata": {},
     "output_type": "execute_result"
    }
   ],
   "source": [
    "from IPython.core.display import HTML\n",
    "def css_styling():\n",
    "    styles = open(\"custom.css\", \"r\").read()\n",
    "    return HTML(styles)\n",
    "css_styling()"
   ]
  },
  {
   "cell_type": "code",
   "execution_count": null,
   "metadata": {
    "collapsed": true
   },
   "outputs": [],
   "source": []
  }
 ],
 "metadata": {
  "anaconda-cloud": {},
  "kernelspec": {
   "display_name": "Python 3",
   "language": "python",
   "name": "python3"
  },
  "language_info": {
   "codemirror_mode": {
    "name": "ipython",
    "version": 3
   },
   "file_extension": ".py",
   "mimetype": "text/x-python",
   "name": "python",
   "nbconvert_exporter": "python",
   "pygments_lexer": "ipython3",
   "version": "3.7.6"
  }
 },
 "nbformat": 4,
 "nbformat_minor": 1
}
