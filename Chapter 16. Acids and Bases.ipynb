{
 "cells": [
  {
   "cell_type": "markdown",
   "metadata": {},
   "source": [
    "$$\\require{mhchem}$$\n",
    "# <center>Study Guide: Chapter 16. Acids and Bases</center>\n",
    "## <center>General Chemistry: The Essential Concepts</center>\n",
    "\n",
    "<center>Seventh Edition</center>\n",
    "\n",
    "<center>Raymond Chang and Kenneth A. Goldsby</center>"
   ]
  },
  {
   "cell_type": "markdown",
   "metadata": {},
   "source": [
    "## 1. General Concepts\n",
    "\n",
    "### Brønsted Acids and Bases\n",
    "\n",
    "Definations of Brønsted acids and bases are givin in Chapter 4. A Brønsted acid is a substance capable of donating a proton, and a Brønsted base is a substance capable of accepting a proton. \n",
    "\n",
    "**Conjugate acid-base pair** The conjugate base of a Brønsted acid is the species that remains when one proton has been removed from the acid. Conversely, a conjugate acid results from the addition of a proton to a Brønsted base.\n",
    "\n",
    "**Example** \n",
    "$$\\ce{CH3COOH (aq) + H2O (l) <=> CH3COO- (aq) + H3O+ (aq)}$$\n",
    "In this reaction, $\\ce{CH3COOH}$ is an acid, and $\\ce{CH3COO-}$ is its conjugate base; $\\ce{H2O}$ is a base, and $\\ce{H3O+}$ is its conjugate acid. "
   ]
  },
  {
   "cell_type": "markdown",
   "metadata": {
    "collapsed": true
   },
   "source": [
    "**Diprotic and Polyprotic Acids** \n",
    "\n",
    "* May yield more than one hydrogen ion per molecule; \n",
    "* Ionize in a stepwise manner; \n",
    "* Each ionization step has a ionization constant. \n",
    "\n",
    "**Example**\n",
    "$$\\ce{H2CO3 (aq) + H2O (l) <=> H3O+ (aq) +HCO3- (aq)}\\quad K_{a_1}=\\frac{[\\ce{H3O+}][\\ce{HCO3-}]}{[\\ce{H2CO3}]}$$\n",
    "$$\\ce{HCO3- (aq) + H2O (l) <=> H3O+ (aq) + CO3^2- (aq)} \\quad K_{a_2}=\\frac{[\\ce{H3O+}][\\ce{CO3^2-}]}{[\\ce{HCO3-}]}$$"
   ]
  },
  {
   "cell_type": "markdown",
   "metadata": {},
   "source": [
    "### The Acid and Base Properties of Water\n",
    "\n",
    "$$\\ce{H2O + H2O <=> H3O+ + OH-}$$\n",
    "\n",
    "or\n",
    "\n",
    "$$\\ce{H2O <=> H+ + OH-}$$\n",
    "\n",
    "at $25\\,^\\circ\\text{C}$\n",
    "\n",
    "$$K_w = [\\ce{H+}][\\ce{OH-}]=1.0\\times10^{-14}$$"
   ]
  },
  {
   "cell_type": "markdown",
   "metadata": {},
   "source": [
    "**pH - A Measure of Acidity** \n",
    "$$\\ce{pH}=-\\log [\\ce{H+}]$$\n",
    "\n",
    "In water, at $25\\,^\\circ\\text{C}$, $\\ce{pH}=7$ means the solution is neutral; $\\ce{pH}<7$, acidic; $\\ce{pH}>7$, basic. \n",
    "\n",
    "$\\ce{pOH}$ can be defined as \n",
    "$$\\ce{pOH}=-\\log [\\ce{OH-}]$$\n",
    "\n",
    "Since $K_w = [\\ce{H+}][\\ce{OH-}]=1.0\\times10^{-14}$, $\\ce{pH}+\\ce{pOH} = 14$. Knowing one of them means the other is also known. Only $\\ce{pH}$ is commonly used. "
   ]
  },
  {
   "cell_type": "markdown",
   "metadata": {},
   "source": [
    "### Strength of Acids and Bases###\n",
    "\n",
    "**Strong acids and strong bases** are strong electrolytes which are assumed to ionize completely in water.  \n",
    "**Weak acids and weak bases** are weak electrolytes which would partially ionize in water.  \n",
    "**Important:** Table 16.2. \n",
    "\n",
    "* A stronger acid has weaker conjugate base. \n",
    "* $\\ce{H3O+}$ or $\\ce{H+}$ is the strongest acid that can exist in aqueous solution.\n",
    "* $\\ce{OH-}$ is the strongest base that can exist in aqueous solution."
   ]
  },
  {
   "cell_type": "markdown",
   "metadata": {},
   "source": [
    "> **Requirements**  \n",
    "> 1. Understand the concepts, understand the meaning of $\\ce{pH}$ value;\n",
    "> 2. Remember the relavent strength of common acids and bases (Textbook Example 16.7);\n",
    "> 3. Given an acid/base reaction, recognize which is the acid and which is the base, and tell what are their conjugate base and conjugate acid. (Textbook Example 16.1 and following Practice Excercise)"
   ]
  },
  {
   "cell_type": "markdown",
   "metadata": {},
   "source": [
    "**2. pH Related Calculations**  \n",
    "** Calculate $\\ce{pH}$ and $\\ce{pOH}$ from $[\\ce{H+}]$ or $[\\ce{OH-}]$**  \n",
    "Remember $[\\ce{H+}][\\ce{OH-}]=1.0\\times10^{-14}$ and $\\ce{pH}+\\ce{pOH} = 14$. Knowing the value of one of the following: $\\ce{pH}$, $\\ce{pOH}$, $[\\ce{H+}]$ and$[\\ce{OH-}]$, all other three values can be calculated. \n",
    "\n",
    "**Strong acids and strong bases**  \n",
    "Strong acids and strong bases ionize completely in water.  \n",
    "* For an acid $\\ce{HA}$, the concentration of $\\ce{H+}$ equals the initial concentration of $\\ce{HA}$. For an acid $\\ce{H2A}$, the concentration of $\\ce{H+}$ equals DOUBLE of the initial concentration of $\\ce{HA}$.  \n",
    "* For a base $\\ce{BOH}$, the concentration of $\\ce{OH-}$ equals the initial concentration of $\\ce{BOH}$. For an acid $\\ce{B(OH)2}$, the concentration of $\\ce{OH-}$ equals DOUBLE of the initial concentration of $\\ce{B(OH)2}$.\n",
    "\n",
    "**Weak acids and weak bases**  \n",
    "Weak acids and weak bases ionize partially in water. 　\n",
    "The concentration of $\\ce{H+}$ depends on the initial concentraion of $\\ce{HA}$ and the value of $K_a$. \n",
    "$$\\begin{align*}\n",
    "& \\ce{HA(aq) + H2O(l) <=> H3O+(aq) + A- (aq)} \\qquad K_a = \\frac{[\\ce{H3O+}][\\ce{A-}]}{[\\ce{HA}]}\\\\\n",
    " \\text{or}\\quad & \\\\\n",
    "& \\ce{HA(aq) <=> H+(aq) + A- (aq)}\\qquad K_a=\\frac{[\\ce{H+}][\\ce{A-}]}{[\\ce{HA}]}\n",
    "\\end{align*}$$\n",
    "\n",
    "**Example** Calculate the pH of 0.50 M HF solution at 25 $^\\circ$C ($K_a = 7.1\\times 10^{-4}$)  \n",
    "Step 1. ICE Table:  \n",
    "<style type=\"text/css\">\n",
    ".tg  {border-collapse:collapse;border-spacing:0;border-color:#999;}\n",
    ".tg td{font-family:Arial, sans-serif;font-size:14px;padding:10px 5px;border-style:solid;border-width:0px;overflow:hidden;word-break:normal;border-color:#999;color:#444;background-color:#F7FDFA;border-top-width:1px;border-bottom-width:1px;}\n",
    ".tg th{font-family:Arial, sans-serif;font-size:14px;font-weight:normal;padding:10px 5px;border-style:solid;border-width:0px;overflow:hidden;word-break:normal;border-color:#999;color:#fff;background-color:#26ADE4;border-top-width:1px;border-bottom-width:1px;}\n",
    "</style>\n",
    "<table class=\"tg\">\n",
    " <col width=\"150\">\n",
    " <col width=\"120\">\n",
    " <col width=\"120\">\n",
    " <col width=\"120\">\n",
    "  <tr>\n",
    "    <th class=\"tg-031e\"></th>\n",
    "    <th class=\"tg-031e\">$\\ce{HF}$</th>\n",
    "    <th class=\"tg-031e\">$\\ce{H+}$</th>\n",
    "    <th class=\"tg-031e\">$\\ce{F-}$</th>\n",
    "  </tr>\n",
    "  <tr>\n",
    "    <td class=\"tg-031e\">Initial (M): </td>\n",
    "    <td class=\"tg-031e\">$0.50$</td>\n",
    "    <td class=\"tg-031e\">$0$</td>\n",
    "    <td class=\"tg-031e\">$0$</td>\n",
    "  </tr>\n",
    "  <tr>\n",
    "    <td class=\"tg-031e\">Change (M): </td>\n",
    "    <td class=\"tg-031e\">$-x$</td>\n",
    "    <td class=\"tg-031e\">$+x$</td>\n",
    "    <td class=\"tg-031e\">$+x$</td>\n",
    "  </tr>\n",
    "  <tr>\n",
    "    <td class=\"tg-031e\">Equilibrium (M): </td>\n",
    "    <td class=\"tg-031e\">$(0.50-x)$</td>\n",
    "    <td class=\"tg-031e\">$x$</td>\n",
    "    <td class=\"tg-031e\">$x$</td>\n",
    "  </tr>\n",
    "</table>\n",
    "Step 2. Calculate $x$ \n",
    "$$K_a = \\frac{x\\cdot x}{0.50-x}=7.0\\times 10^{-4}$$  \n",
    "$$x = 0.0184\\,\\text{M}$$  \n",
    "Step 3. Calculate pH  \n",
    "$$[\\ce{H+}] = 0.0184\\,\\text{M}$$  \n",
    "$$\\ce{pH}=-\\log (0.0184) =1.74$$\n",
    "\n",
    "**Percent Ionization**  \n",
    "$$\\text{percent ionization}=\\frac{\\text{ionized acid concentration at equilibrium}}{\\text{initial concentration of acid}}\\times 100\\%$$"
   ]
  },
  {
   "cell_type": "markdown",
   "metadata": {},
   "source": [
    "The concentration of $\\ce{OH-}$ depends on the initial concentraion of the base and the value of $K_b$. Such as:  \n",
    "$$\\ce{NH3(aq) + H2O(l) <=> NH4+ (aq) + OH- (aq)}$$  \n",
    "$$K_b = \\frac{[\\ce{NH4+}][\\ce{OH-}]}{[\\ce{NH3}]}$$  \n",
    "**Example** What is the pH of a 0.40 M ammonia solution?  \n",
    "Step 1. ICE Table:   \n",
    "<style type=\"text/css\">\n",
    ".tg  {border-collapse:collapse;border-spacing:0;border-color:#999;}\n",
    ".tg td{font-family:Arial, sans-serif;font-size:14px;padding:10px 5px;border-style:solid;border-width:0px;overflow:hidden;word-break:normal;border-color:#999;color:#444;background-color:#F7FDFA;border-top-width:1px;border-bottom-width:1px;}\n",
    ".tg th{font-family:Arial, sans-serif;font-size:14px;font-weight:normal;padding:10px 5px;border-style:solid;border-width:0px;overflow:hidden;word-break:normal;border-color:#999;color:#fff;background-color:#26ADE4;border-top-width:1px;border-bottom-width:1px;}\n",
    ".tg .tg-yw4l{vertical-align:top}\n",
    "</style>\n",
    "<table class=\"tg\">\n",
    " <col width=\"150\">\n",
    " <col width=\"120\">\n",
    " <col width=\"120\">\n",
    " <col width=\"120\">\n",
    "  <col width=\"120\">\n",
    "  <tr>\n",
    "    <th class=\"tg-031e\"></th>\n",
    "    <th class=\"tg-031e\">$\\ce{NH3}$</th>\n",
    "    <th class=\"tg-031e\">$\\ce{H2O}$</th>\n",
    "    <th class=\"tg-031e\">$\\ce{NH4+}$</th>\n",
    "    <th class=\"tg-yw4l\">$\\ce{OH-}$</th>\n",
    "  </tr>\n",
    "  <tr>\n",
    "    <td class=\"tg-031e\">Initial (M): </td>\n",
    "    <td class=\"tg-031e\">$0.40$</td>\n",
    "    <td class=\"tg-031e\">N/A</td>\n",
    "    <td class=\"tg-031e\">$0$</td>\n",
    "    <td class=\"tg-yw4l\">$0$</td>\n",
    "  </tr>\n",
    "  <tr>\n",
    "    <td class=\"tg-031e\">Change (M): </td>\n",
    "    <td class=\"tg-031e\">$-x$</td>\n",
    "    <td class=\"tg-031e\">N/A</td>\n",
    "    <td class=\"tg-031e\">$+x$</td>\n",
    "    <td class=\"tg-yw4l\">$+x$</td>\n",
    "  </tr>\n",
    "  <tr>\n",
    "    <td class=\"tg-031e\">Equilibrium (M): </td>\n",
    "    <td class=\"tg-031e\">$(0.40-x)$</td>\n",
    "    <td class=\"tg-031e\">N/A</td>\n",
    "    <td class=\"tg-031e\">$x$</td>\n",
    "    <td class=\"tg-yw4l\">$x$</td>\n",
    "  </tr>\n",
    "</table>\n",
    "Step 2. Calculate $x$ \n",
    "$$K_b = \\frac{x\\cdot x}{0.40-x}=1.8\\times 10^{-5}$$  \n",
    "$$x = 0.00267\\,\\text{M}$$  \n",
    "Step 3. Calculate pH  \n",
    "$$[\\ce{OH-}] = 0.00267\\,\\text{M}$$  \n",
    "$$\\ce{pH}=14-(-\\log (0.00267) )=11.43$$"
   ]
  },
  {
   "cell_type": "code",
   "execution_count": 8,
   "metadata": {
    "collapsed": false
   },
   "outputs": [
    {
     "data": {
      "text/plain": [
       "[-0.0190615605976626, 0.0183615605976626]"
      ]
     },
     "execution_count": 8,
     "metadata": {},
     "output_type": "execute_result"
    }
   ],
   "source": [
    "from sympy import *\n",
    "x,y= symbols('x y')\n",
    "# Solve an equation to get the value of x\n",
    "# 1. In calculation of the pH of 0.50 M HF solution\n",
    "# You can go to the website [http://live.sympy.org/] and try the following codes\n",
    "Ka = 0.0007\n",
    "C0=0.5\n",
    "solve(Ka*(C0-x)-x**2)\n",
    "# Ignore the nagtive value. "
   ]
  },
  {
   "cell_type": "code",
   "execution_count": 2,
   "metadata": {
    "collapsed": false
   },
   "outputs": [
    {
     "data": {
      "text/plain": [
       "[-0.00269229666641615, 0.00267429666641615]"
      ]
     },
     "execution_count": 2,
     "metadata": {},
     "output_type": "execute_result"
    }
   ],
   "source": [
    "# 2. In calculatation of  the pH of a 0.40 M ammonia solution\n",
    "Kb=0.000018\n",
    "C0=0.4\n",
    "solve(Kb*(C0-x)-x**2)\n",
    "# Ignore the nagtive value. "
   ]
  },
  {
   "cell_type": "markdown",
   "metadata": {},
   "source": [
    "### Diprotic and Polyprotic Acids###  \n",
    "As discussed above, diprotic and polyprotic acids Ionize in a stepwise manner. Each step corresponds to an equilibrium constant.  \n",
    "**Example** Calculate the concentrations of all the species present at equilibrium in a 0.10 M solution of $\\ce{H2C2O4}$ ($K_{a_1} = 6.5\\times 10^{-2}$ and $K_{a_2} = 6.1\\times 10^{-5}$).  \n",
    "*Usually, the equilibrium constants of the later steps are much smaller than those of the early steps. $[\\ce{H+}]$ mainly depends on the first step.*  \n",
    "Step 1. ICE table for the first step ionization(similar as examples above).  \n",
    "Step 2. Calculate $x$. \n",
    "$$K_a = \\frac{x\\cdot x}{0.10-x}=6.5\\times 10^{-2}$$  \n",
    "$$x =0.0544 \\,\\text{M}$$  \n",
    "Step 3. equilibrium concentrations after first step ionization.  \n",
    "$$\\begin{align*}\n",
    "& [\\ce{H+}]=0.054\\,\\text{M} \\\\\n",
    "& [\\ce{HC2O4-}]=0.054\\,\\text{M} \\\\\n",
    "& [\\ce{H2C2O4}]=(0.10-0.054)\\,\\text{M}=0.046\\,\\text{M}\n",
    "\\end{align*}$$  \n",
    "Step 4. ICE table for the second step ionization  \n",
    "<style type=\"text/css\">\n",
    ".tg  {border-collapse:collapse;border-spacing:0;border-color:#999;}\n",
    ".tg td{font-family:Arial, sans-serif;font-size:14px;padding:10px 5px;border-style:solid;border-width:0px;overflow:hidden;word-break:normal;border-color:#999;color:#444;background-color:#F7FDFA;border-top-width:1px;border-bottom-width:1px;}\n",
    ".tg th{font-family:Arial, sans-serif;font-size:14px;font-weight:normal;padding:10px 5px;border-style:solid;border-width:0px;overflow:hidden;word-break:normal;border-color:#999;color:#fff;background-color:#26ADE4;border-top-width:1px;border-bottom-width:1px;}\n",
    "</style>\n",
    "<table class=\"tg\">\n",
    " <col width=\"150\">\n",
    " <col width=\"120\">\n",
    " <col width=\"120\">\n",
    " <col width=\"120\">\n",
    "  <tr>\n",
    "    <th class=\"tg-031e\"></th>\n",
    "    <th class=\"tg-031e\">$\\ce{HC2O4-}$</th>\n",
    "    <th class=\"tg-031e\">$\\ce{H+}$</th>\n",
    "    <th class=\"tg-031e\">$\\ce{C2O4^2-}$</th>\n",
    "  </tr>\n",
    "  <tr>\n",
    "    <td class=\"tg-031e\">Initial (M): </td>\n",
    "    <td class=\"tg-031e\">$0.054$</td>\n",
    "    <td class=\"tg-031e\">$0.054$</td>\n",
    "    <td class=\"tg-031e\">$0$</td>\n",
    "  </tr>\n",
    "  <tr>\n",
    "    <td class=\"tg-031e\">Change (M): </td>\n",
    "    <td class=\"tg-031e\">$-y$</td>\n",
    "    <td class=\"tg-031e\">$+y$</td>\n",
    "    <td class=\"tg-031e\">$+y$</td>\n",
    "  </tr>\n",
    "  <tr>\n",
    "    <td class=\"tg-031e\">Equilibrium (M): </td>\n",
    "    <td class=\"tg-031e\">$(0.054-y)$</td>\n",
    "    <td class=\"tg-031e\">$(0.054-y)$</td>\n",
    "    <td class=\"tg-031e\">$y$</td>\n",
    "  </tr>\n",
    "</table>  \n",
    "\n",
    "Step 5. Calculate $y$.  \n",
    "$$K_{a_2}=\\frac{[\\ce{H+}][\\ce{C2O4^2-}]}{[\\ce{HC2O4-}]}=\\frac{(0.054+y)\\times y}{0.054-y}=6.1\\times 10^{-5}$$  \n",
    "$$y=6.1\\times 10^{-5}$$  \n",
    "Step 6. Calculate the concentrations after second step ionization.  \n",
    "$$\\begin{align*}\n",
    "& [\\ce{H2C2O4}]=0.046\\,\\text{M} \\\\\n",
    "& [\\ce{HC2O4-}]=(0.054-6.1\\times 10^{-5})=0.054\\,\\text{M} \\\\\n",
    "& [\\ce{H+}]=(0.054+6.1\\times 10^{-5})=0.054\\,\\text{M} \\\\\n",
    "& [\\ce{C2O4^-2}]=6.1\\times 10^{-5}\\,\\text{M} \\\\\n",
    "& [\\ce{OH-}]=1.0\\times 10^{-14}/0.054=1.9\\times 10^{-13}\n",
    "\\end{align*}$$"
   ]
  },
  {
   "cell_type": "code",
   "execution_count": 5,
   "metadata": {
    "collapsed": false
   },
   "outputs": [
    {
     "data": {
      "text/plain": [
       "[-0.119426693253569, 0.0544266932535686]"
      ]
     },
     "execution_count": 5,
     "metadata": {},
     "output_type": "execute_result"
    }
   ],
   "source": [
    "Ka1=0.065\n",
    "C0=0.1\n",
    "solve(Ka1*(C0-x)-x**2)"
   ]
  },
  {
   "cell_type": "code",
   "execution_count": 7,
   "metadata": {
    "collapsed": false
   },
   "outputs": [
    {
     "data": {
      "text/plain": [
       "[-0.0541218626502987, 6.08626502987110e-5]"
      ]
     },
     "execution_count": 7,
     "metadata": {},
     "output_type": "execute_result"
    }
   ],
   "source": [
    "Ka2=0.000061\n",
    "C1=0.054\n",
    "solve(Ka2*(C1-y)-(C1+y)*y)"
   ]
  },
  {
   "cell_type": "markdown",
   "metadata": {},
   "source": [
    "### Calculate  pH  of a salt solution###  \n"
   ]
  },
  {
   "cell_type": "markdown",
   "metadata": {},
   "source": [
    "### Correlation between $K_a$ and $K_b$ of conjugate acid-base###  \n",
    "$$K_aK_b=K_w$$"
   ]
  },
  {
   "cell_type": "markdown",
   "metadata": {},
   "source": [
    "> **Requirements**  \n",
    "> 1. Calculate $\\ce{pH}$ and $\\ce{pOH}$ from $[\\ce{H+}]$ or $[\\ce{OH-}]$ (Textbook Example 16.3, 16.4, 16.5);  \n",
    "> 2. Calculate $\\ce{pH}$ for a given concentration of a strong acid or a strong base (Textbook Example 16.6); \n",
    "> 3. Calculate $\\ce{pH}$ for a given concentration of a weak acid ($K_a$) or a weak base ($K_b$) (Textbook Example 16.8, 16.9, 16.11);  \n",
    "> 4. Calculate the concentrations of ions for a given concentration of a weak diprotic acid ($K_a$) (Textbook Example 16.10,);  \n",
    "> 5. Calculate $\\ce{pH}$ of a salt solution. \n",
    "> 6. Remember the correlation between $K_a$ and $K_b$ of conjugate acid-base. "
   ]
  },
  {
   "cell_type": "code",
   "execution_count": null,
   "metadata": {
    "collapsed": true
   },
   "outputs": [],
   "source": []
  }
 ],
 "metadata": {
  "anaconda-cloud": {},
  "kernelspec": {
   "display_name": "Python [default]",
   "language": "python",
   "name": "python3"
  },
  "language_info": {
   "codemirror_mode": {
    "name": "ipython",
    "version": 3
   },
   "file_extension": ".py",
   "mimetype": "text/x-python",
   "name": "python",
   "nbconvert_exporter": "python",
   "pygments_lexer": "ipython3",
   "version": "3.5.1"
  },
  "latex_envs": {
   "bibliofile": "biblio.bib",
   "cite_by": "apalike",
   "current_citInitial": 1,
   "eqLabelWithNumbers": true,
   "eqNumInitial": 0
  }
 },
 "nbformat": 4,
 "nbformat_minor": 0
}
