{
 "cells": [
  {
   "cell_type": "markdown",
   "metadata": {},
   "source": [
    "$$\\require{mhchem}$$"
   ]
  },
  {
   "cell_type": "markdown",
   "metadata": {},
   "source": [
    "# <center>Study Guide: Chapter 21. Nuclear Chemistry</center>\n",
    "## <center>General Chemistry: The Essential Concepts</center>\n",
    "\n",
    "<center>Seventh Edition</center>\n",
    "\n",
    "<center>Raymond Chang and Kenneth A. Goldsby</center>"
   ]
  },
  {
   "cell_type": "markdown",
   "metadata": {
    "collapsed": true
   },
   "source": [
    "## 1. The Nature of Nuclear Reactions \n",
    "\n",
    "**Atomic Number (Z):** The number of protons in nucleus.  \n",
    "**Mass Number (A):** The number of protons and neutrons in nucleus.  \n",
    "An atom X with atomic number Z and mass number A can be expressed as:  \n",
    "$$\\ce{^{A}_{Z}X}$$\n",
    "\n",
    "Two types of nuclear reactions:  \n",
    "* **Radioactivity Decay** is spontaneous decay of unstable nuclei during which process particles and/or electromagnetic radiation are emitted.  \n",
    "* **Nuclear Transmutation** results from the bombardment of nuclei by neutrons, protons, or other nuclei.\n",
    "\n",
    "### Balancing Nuclear Equations\n",
    "\n",
    "1. Mass number conservation; \n",
    "2. Charge conservation. \n",
    "\n",
    "Comparison of chemical reactions and nuclear reactions (Textbook Table 21.1). The most important difference is chemical reactions do not break atoms while nuclear reactions do. \n",
    "\n",
    "### Nuclear Stability\n",
    "\n",
    "1. Certain numbers (2, 8, 20, 50, 82, or 126) of neutrons and protons are more stable than others. \n",
    "2. Nuclei with even numbers of both protons and neutrons are generally more stable than those with odd numbers of these particles. \n",
    "3. All isotopes of the elements with atomic numbers higher than 83 are radioactive. All isotopes of Tc and Pm are radioactive. \n",
    "\n",
    "<img src=\"http://textflow.mheducation.com/figures/0077623320/cha23320_2101_lg.jpg\" width = 300px /> \n",
    "\n",
    "**Nuclear Binding Energy:** The energy required to break up a nucleus into its component protons and neutrons. \n",
    "\n",
    "**Example**\n",
    "$\\ce{^19_9F}$ contains 9 protons and 10 neutrons. The mass of 9 protons and 10 neutrons is \n",
    "\n",
    "$$9\\times 1.007825\\,\\text{amu}+10\\times 1.008665\\,\\text{amu}=19.15708\\,\\text{amu}$$\n",
    "The mass of a $\\ce{^19_9F}$ nucleus is $18.9984\\,\\text{amu}$.  \n",
    "The difference in mass is associated with the energy required to break up a nucleus into its component protons and neutrons.  \n",
    "$$E=mc^2$$\n",
    "Thus\n",
    "$$\\Delta E = (\\Delta m)c^2$$\n",
    "In this example, $\\Delta m = -0.1587\\,\\text{amu}$ and $\\Delta E = -2.37\\times 10^{-11}\\,\\text{J}$ per atom. For one mole atoms, $\\Delta E = -1.43\\times 10^{10}\\,\\text{kJ/mol}$. \n",
    "\n",
    "Since there are 19 nucleons in one atom. The nuclear binding energy per nucleon is $\\Delta E = -2.37\\times 10^{-11}/19 = -1.25\\times 10^{-12}\\,\\text{J}$.\n",
    "\n",
    "Nuclei with larger nuclear binding energy per nucleon is more stable. \n",
    "\n",
    "<img src=\"http://textflow.mheducation.com/figures/0077623320/cha23320_2102_lg.jpg\" width=500px />"
   ]
  },
  {
   "cell_type": "markdown",
   "metadata": {},
   "source": [
    "> **Requirements**\n",
    "> 1. Understand the concepts; \n",
    "> 2. Know how to balance a nuclear reaction equation (Textbook Example 21.1); \n",
    "> 3. Understand what is nuclear binding energy and its correlation with the nuclear stability. "
   ]
  },
  {
   "cell_type": "markdown",
   "metadata": {},
   "source": [
    "## 2. Radioactive Decay\n",
    "\n",
    "**Radioactive Decay:** The process by which the nucleus of an unstable atom loses energy by emitting radiation, including alpha particles, beta particles, gamma rays, and conversion electrons. \n",
    "\n",
    "Types of radioactive decay\n",
    "* Beta decay emits $\\beta$ ray which is a beam of electrons;\n",
    "* Alpha decay emits $\\alpha$ ray wichi is a beam of $\\ce{^4_2He}$ nuclei;  \n",
    "\n",
    "### Kinetics of Radioactive Decay\n",
    "\n",
    "**Radiocarbon Dating** \n",
    "Radiocarbon ($\\ce{^14C}$) is constantly being created in the atmosphere by the interaction of cosmic rays with atmospheric nitrogen. The resulting radiocarbon combines with atmospheric oxygen to form radioactive carbon dioxide, which is incorporated into plants by photosynthesis; animals then acquire $\\ce{^14C}$ by eating the plants. When the animal or plant dies, it stops exchanging carbon with its environment, and from that point onwards the amount of $\\ce{^14C}$ it contains begins to decrease as the $\\ce{^14C}$ undergoes radioactive decay. Measuring the amount of $\\ce{^14C}$ in a sample from a dead plant or animal such as a piece of wood or a fragment of bone provides information that can be used to calculate when the animal or plant died. The older a sample is, the less $\\ce{^14C}$ there is to be detected, and because the half-life of $\\ce{^14C}$ is about 5,730 years, the oldest dates that can be reliably measured by radiocarbon dating are around 50,000 years ago.\n",
    "\n",
    "$$\\ce{^14_6C -> ^14_7N + ^0_{-1}\\beta}+\\gamma$$\n",
    "\n",
    "Since this reaction is a **first order** reaction, the **half-life** is a constant value. "
   ]
  },
  {
   "cell_type": "markdown",
   "metadata": {},
   "source": [
    "> **Requirements**\n",
    "> 1. Understand what are alpha decay and beta decay; \n",
    "> 2. Understand how to date a sample knowing the amount of $\\ce{^14C}$ it contains. Use the method discussed in Chapter 14. "
   ]
  },
  {
   "cell_type": "markdown",
   "metadata": {},
   "source": [
    "## 3. Nuclear Fission \n",
    "\n",
    "**Nuclear Fission** is the process in which a heavy nucleus (mass number > 200) divides to form smaller nuclei of intermediate mass and one or more neutrons. \n",
    "\n",
    "Example  \n",
    "$$\\ce{^235_92U + ^1_0n -> ^90_38Sr + ^143_54Xe + 3^1_0n}$$\n",
    "<img src=\"http://textflow.mheducation.com/figures/0077623320/cha23320_2106.png\" />\n",
    "\n",
    "In this process, one neutron is captured while three neutrons are produced. The resulting neutons can trigger further reactions. This property makes possible a  *nuclear chain reaction*, which is a self-sustaining sequence of nuclear fission reactions. \n",
    "\n",
    "For such a chain reaction to occur, enough uranium-235 must be present in the sample to capture the neutrons generated in the fission reaction. Otherwise, many of the neutrons will escape from the sample and the chain reaction will not occur. In this situation, the mass of the sample is said to be *subcritical*. When the amount of the fissionable material is equal to or greater than the **critical mass**, the minimum mass of fissionable material required to generate a self-sustaining nuclear chain reaction, most of the neutrons will be captured by uranium-235 nuclei, and a chain reaction will occur.\n",
    "\n",
    "**Atomic Bomb** Two separated pieces of U-235 at subcritical masses. When triggered, those two pieces are pushed to merge and exceed the critical mass. Then chain reaction happens to cause explosion. \n",
    "\n",
    "**Nuclear Reactors** Several pieces of U-235 at subcritical masses. Nuclear fission happens mildly without causing explosion. Control rods are used to adjust the reaction speed. "
   ]
  },
  {
   "cell_type": "markdown",
   "metadata": {
    "collapsed": true
   },
   "source": [
    "## 4. Nuclear Fusion \n",
    "\n",
    "**Nuclear Fusion** is the combining of small nuclei into larger ones. Fusion reactions take place only at very high temperatures. \n",
    "\n",
    "Examples  \n",
    "Reactions happen in the **Sun**. \n",
    "\n",
    "$$\n",
    "\\begin{align*}\n",
    "& \\ce{^1_1H +^2_1H -> ^3_2He} \\\\\n",
    "& \\ce{^3_2He + ^3_2He -> ^4_2He + 2^1_1H} \\\\\n",
    "& \\ce{^1_1H + ^1_1H -> ^2_1H + ^0_{+1}\\beta}\n",
    "\\end{align*}\n",
    "$$\n",
    "\n",
    "Reactions happen in a **Hydrogen Bomb** \n",
    "\n",
    "$$\n",
    "\\begin{align*}\n",
    "& \\ce{^6_3Li +^2_1H -> 2^4_2\\alpha} \\\\\n",
    "& \\ce{^2_1H + ^2_1H -> ^3_1H + ^1_1H} \n",
    "\\end{align*}\n",
    "$$"
   ]
  },
  {
   "cell_type": "markdown",
   "metadata": {},
   "source": [
    "> **Requirements**\n",
    "> 1. Know what are nuclear fission and fusion; \n",
    "> 2. Understand what is critical mass and what is chain reaction; \n",
    "> 4. Be familiar with above examples. "
   ]
  },
  {
   "cell_type": "code",
   "execution_count": null,
   "metadata": {
    "collapsed": true
   },
   "outputs": [],
   "source": []
  }
 ],
 "metadata": {
  "kernelspec": {
   "display_name": "Python 3",
   "language": "python",
   "name": "python3"
  },
  "language_info": {
   "codemirror_mode": {
    "name": "ipython",
    "version": 3
   },
   "file_extension": ".py",
   "mimetype": "text/x-python",
   "name": "python",
   "nbconvert_exporter": "python",
   "pygments_lexer": "ipython3",
   "version": "3.5.2"
  }
 },
 "nbformat": 4,
 "nbformat_minor": 1
}
