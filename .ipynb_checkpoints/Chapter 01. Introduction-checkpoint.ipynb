{
 "cells": [
  {
   "cell_type": "markdown",
   "metadata": {},
   "source": [
    "$$\\require{mhchem}$$\n",
    "\n",
    "### [HOME](https://wangyu16.github.io/GeneralChemistry/)\n",
    "\n",
    "# <center>General Chemistry Study Guide</center>\n",
    "\n",
    "### <center>Chapter 1. Introduction</center>\n",
    "\n",
    "---\n",
    "\n",
    "*<center>Yu Wang</center>*"
   ]
  },
  {
   "cell_type": "markdown",
   "metadata": {
    "collapsed": true
   },
   "source": [
    "## 1. General Concepts in Chemistry\n",
    "\n",
    "##### <b>OpenStax</b>  1.1. Chemistry in Context ; 1.2. Phases and Classification of Matter ; 1.3. Physical and Chemical Properties. <b>Brown</b> 1.1 The Study of Chemistry; 1.2 Classification of Matter; 1.3 Properties of Matter; 1.4 The Nature of Energy #####\n",
    "\n",
    "\n",
    "\n",
    "**Chemistry** is the study of matter and the changes it undergoes.\n",
    "\n",
    "**Matter** is anything that occupies space and has mass.\n",
    "\n",
    "A **substance** is a form of matter that has a definite composition and distinct properties.\n",
    "\n",
    "A **mixture** is a combination of two or more substances in which the substances retain their distinct identities.\n",
    "\n",
    "-  **Homogenous** mixture – composition of the mixture is the same throughout.\n",
    "-  **Heterogeneous** mixture – composition is not uniform throughout.\n",
    "\n",
    "An **element** is a substance that cannot be separated into simpler substances by chemical means.\n",
    "\n",
    "A **compound** is a substance composed of atoms of two or more elements chemically united in fixed proportions.\n",
    "<figure>\n",
    "<img src=\"https://upload.wikimedia.org/wikipedia/commons/8/89/States_of_matter_En.svg\" style = \"width: 500px\"/>\n",
    "\n",
    "<figcaption><center>The three states of matter: solid, liquid and gas.</center></figcaption>\n",
    "</figure>\n",
    "\n",
    "A **physical change** does not alter the composition or identity of a substance.\n",
    "\n",
    "A **chemical change** alters the composition or identity of the substance(s) involved.\n",
    "\n",
    "An **extensive property** of a material depends upon how much matter is being considered (mass, length, volume, etc.).\n",
    "\n",
    "An **intensive property** of a material does not depend upon how much matter is being considered (density, temperature, color, etc.).\n"
   ]
  },
  {
   "cell_type": "markdown",
   "metadata": {},
   "source": [
    "> #### Requirements\n",
    "> 1. Understand the concepts"
   ]
  },
  {
   "cell_type": "markdown",
   "metadata": {},
   "source": [
    "## 2. Measurement\n",
    "\n",
    "##### <b>OpenStax</b> 1.4 Measurements. <b>Brown</b> 1.5 Units of  Measurement. #####\n",
    "\n",
    "### International system of units\n",
    "\n",
    "In 1960, the General Conference of Weights and Measures, the international authority on units, proposed a revised metric system called the International System of Units (abbreviated SI, from the French System International d'Unites).\n",
    "\n",
    "| Base Quantity       | Name of Unit | Symbol |\n",
    "|---------------------|--------------|--------|\n",
    "| Length              | meter        | m      |\n",
    "| Mass                | kilogram     | kg     |\n",
    "| Time                | second       | s      |\n",
    "| Electrical current  | ampere       | A      |\n",
    "| Temperature         | kelvin       | K      |\n",
    "| Amount of substance | mole         | mol    |\n",
    "| Luminous intensity  | candela      | cd     |\n",
    "\n",
    "| Prefix | Symbol | Meaning    | Example                       |\n",
    "|--------|--------|------------|-------------------------------|\n",
    "| tera-  | T      | $10^{12}$  | 1 Tm = $1\\times 10^{12}\\,\\text{m}$    |\n",
    "| giga-  | G      | $10^9$     | 1 Gm = $1\\times 10^9\\,\\text{m}$       |\n",
    "| mega-  | M      | $10^6$     | 1 Mm = $1\\times 10^6\\,\\text{m}$       |\n",
    "| kilo-  | k      | $10^3$     | 1 km = $1\\times 10^3\\,\\text{m}$       |\n",
    "| deci-  | d      | $10^{-1}$  | 1 dm = $1\\times 10^{-1}\\,\\text{m}$   |\n",
    "| centi- | c      | $10^{-2}$  | 1 cm = $1\\times 10^{-2}\\,\\text{m}$    |\n",
    "| milli- | m      | $10^{-3}$  | 1 mm = $1\\times 10^{-3}\\,\\text{m}$   |\n",
    "| micro- | $\\mu$  | $10^{-6}$  | 1 $\\mu$m = $1\\times 10^{-6}\\,\\text{m}$|\n",
    "| nano-  | n      | $10^{-9}$  | 1 nm = $1\\times 10^{-9}\\,\\text{m}$    |\n",
    "| pico-  | p      | $10^{-12}$ | 1 pm = $1\\times 10^{-12}\\,\\text{m}$   |\n",
    "\n",
    "\n",
    "### Mass and weight\n",
    "\n",
    "**Mass** – measure of the quantity of matter\n",
    "\n",
    "SI unit of mass is the kilogram (kg)\n",
    "\n",
    "$$1\\,\\text{kg} = 1000\\,\\text{g} = 1\\times10^3\\,\\text{g}$$\n",
    "\n",
    "**Weight** – force that gravity exerts on an object\n",
    "\n",
    "### Volume\n",
    "\n",
    "Volume – SI derived unit for volume is cubic meter ($\\text{m}^3$)\n",
    "\n",
    "$$1\\,\\text{mL} = 1\\,\\text{cm}^3=1\\times10^{-6}\\,\\text{m}^3$$\n",
    "$$1\\,\\text{L} = 1\\,\\text{dm}^3 = 1000\\,\\text{mL} =1\\times10^{-3}\\,\\text{m}^3$$\n",
    "\n",
    "### Density\n",
    "\n",
    "Density is the mass of an object divided by its volume. \n",
    "\n",
    "$$d=\\frac{m}{V}$$\n",
    "$$1\\,\\text{g/cm}^3 = 1\\,\\text{g/mL} = 1000\\,\\text{kg/m}^3$$\n",
    "\n",
    "\n",
    "### Temperature\n",
    "\n",
    "$$\\text{?}\\,^\\circ\\text{C} = (^\\circ\\text{F}-32\\,^\\circ\\text{F})\\times\\frac{5\\,^\\circ\\text{C}}{9\\,^\\circ\\text{F}}$$\n",
    "\n",
    "$$\\text{?}\\,^\\circ\\text{F} = \\frac{9\\,^\\circ\\text{F}}{5\\,^\\circ\\text{C}}\\times(^\\circ\\text{C})+32\\,^\\circ\\text{F}$$\n",
    "\n",
    "$$\\text{? K}=(^\\circ\\text{C}+273.15\\,^\\circ\\text{C})\\frac{1\\,\\text{K}}{1\\,^\\circ\\text{C}}$$\n",
    "\n",
    "$$\\text{?}\\,^\\circ\\text{C} = (\\text{K}-273.15\\,\\text{K})\\frac{1\\,^\\circ\\text{C}}{1\\,\\text{K}}$$\n",
    "\n"
   ]
  },
  {
   "cell_type": "markdown",
   "metadata": {},
   "source": [
    "<div class=example>\n",
    "    \n",
    "<b>Example:</b> The mass of a piece of gold is 45.3 g, the volume is 2.35 $\\text{cm}^3$. What is the density? <br>\n",
    "<b>Answer:</b><br>\n",
    "\n",
    "\\begin{align*}\n",
    "d & = \\frac{m}{V} \\\\\n",
    " & = \\frac{45.3\\,\\text{g}}{2.35\\,\\text{cm}^3} \\\\\n",
    " & = 19.3\\,\\text{g/cm}^3\n",
    "\\end{align*}\n",
    "<br>\n",
    "<b>Example:</b> Convert temperature from Celsius to Fahrenheit or from Fahrenheit to Celsius. (a) 37 $^\\circ\\text{C}$; (b) 74 $^\\circ\\text{F}$. <br>\n",
    "<b>Answer:</b><br>\n",
    "(a)\n",
    "\n",
    "\\begin{align*}\n",
    "\\frac{9\\,^\\circ\\text{F}}{5\\,^\\circ\\text{C}}\\times(37\\,^\\circ\\text{C})+32\\,^\\circ\\text{F} = 99\\,^\\circ\\text{F} \n",
    "\\end{align*}\n",
    "    \n",
    "(b)\n",
    "\n",
    "\\begin{align*}\n",
    "(74\\,^\\circ\\text{F}-32\\,^\\circ\\text{F})\\times\\frac{5\\,^\\circ\\text{C}}{9\\,^\\circ\\text{F}}=23\\,^\\circ\\text{C}\n",
    "\\end{align*}\n",
    "\n",
    "</div>"
   ]
  },
  {
   "cell_type": "code",
   "execution_count": 1,
   "metadata": {},
   "outputs": [
    {
     "data": {
      "image/jpeg": "[encoded data removed]",
      "text/html": [
       "\n",
       "        <iframe\n",
       "            width=\"700\"\n",
       "            height=\"550\"\n",
       "            src=\"https://www.youtube.com/embed/HRe1mire4Gc\"\n",
       "            frameborder=\"0\"\n",
       "            allowfullscreen\n",
       "        ></iframe>\n",
       "        "
      ],
      "text/plain": [
       "<IPython.lib.display.YouTubeVideo at 0x28f2ffe88c8>"
      ]
     },
     "execution_count": 1,
     "metadata": {},
     "output_type": "execute_result"
    }
   ],
   "source": [
    "from IPython.display import YouTubeVideo\n",
    "YouTubeVideo(\"HRe1mire4Gc\", width=700, height=550)\n",
    "\n",
    "# Watch the following video for a better understanding \n",
    "# on unit conversion."
   ]
  },
  {
   "cell_type": "markdown",
   "metadata": {},
   "source": [
    "> #### Requirements  \n",
    "> 1. Learn how to calculate density.\n",
    "> 2. Know how to convert units from one to another. "
   ]
  },
  {
   "cell_type": "markdown",
   "metadata": {},
   "source": [
    "## 3. Numbers  \n",
    "\n"
   ]
  },
  {
   "cell_type": "markdown",
   "metadata": {},
   "source": [
    "### 3.1 Scientific Notation\n",
    "\n",
    "##### <b>OpenStax</b> 1.4 Measurements #####\n",
    "\n",
    "All numbers can be expressed in the form\n",
    "\n",
    "$$N\\times10^n$$\n",
    "\n",
    "where $N$ is a number btween 1 and 10 and $n$, the exponent, is a positive or negative integer. Any number expressed in this way is said to be written in scientific notation. \n",
    "\n",
    "For example,\n",
    "\n",
    "$$568.762 = 5.68762\\times10^2$$\n",
    "\n",
    "because the decimal point is moved to the left by two places and $n=2$. \n",
    "\n",
    "$$0.00000772 = 7.72\\times10^{-6}$$\n",
    "\n",
    "because the decimal point is moved to the right by 6 places and $n=-6$. \n",
    "\n",
    "**Addition and Subtraction**\n",
    "\n",
    "First write each quantity with the same exponent; then, combine them. \n",
    "\n",
    "$$4.31\\times10^4 + 3.9\\times10^3 = 4.31\\times10^4+0.39\\times10^4=4.70\\times10^4$$\n",
    "\n",
    "**Multiplication and Division**\n",
    "\n",
    "To multiply numbers, we multiply $N_1$ and $N_2$ in the usual way, but add the exponents together. To divide, we divide $N_1$ and $N_2$ as usual and subtract the exponents. \n",
    "\n",
    "$$(8.0\\times10^4)\\times(5.0\\times10^2)=(8.0\\times5.0)(10^{4+2})=40\\times10^6=4.0\\times10^7$$\n",
    "\n",
    "$$\\frac{8.5\\times10^4}{5.0\\times10^9}=\\frac{8.5}{5.0}\\times10^{4-9}=1.7\\times10^{-5}$$\n",
    "\n",
    "<a href=\"https://www.chem.tamu.edu/class/fyp/mathrev/mr-scnot.html\" target=\"_blank\"> More Information about scientific notation</a>"
   ]
  },
  {
   "cell_type": "markdown",
   "metadata": {},
   "source": [
    "### 3.2 Significant Figures\n",
    "\n",
    "##### <b>OpenStax</b> 1.5 Measurement Uncertainty, Accuracy, and Precision. <b>Brown</b> 1.6 Uncertainty in Measurement #####\n",
    "\n",
    "\n",
    "Rules\n",
    "\n",
    "1. Any digit that is not zero is significant.\n",
    "2. Zeros between nonzero digits are significant. \n",
    "3. Zeros to the left of the first nonzero digit are not significant. \n",
    "4. If a number is greater than 1, then all the zeros written to the right of the decimal point count as significant figures. \n",
    "5. For numbers that do not contain decimal points, the trailing zeros may or may not be significant (There are different definitions in different textbooks). Thus, using scientific notation is recommended to avoid the ambiguity. \n",
    "\n",
    "Handling significant figures in calculations\n",
    "\n",
    "1. In addition and subtraction, the answer cannot have more digits to the right or the decimal point than either of the original numbers. \n",
    "2. In multiplication and division, the number of significant figures in the final product or quotient is determined by the original number that has the smallest number of significant figures. \n",
    "3. Exact numbers obtained from definitions or by counting numbers of objects can be considered to have an infinite number of significant figures. "
   ]
  },
  {
   "cell_type": "markdown",
   "metadata": {},
   "source": [
    "### 3.3 Accuracy and Precision\n",
    "\n",
    "##### <b>OpenStax</b> 1.5 Measurement Uncertainty, Accuracy, and Precision. <b>Brown</b> 1.6 Uncertainty in Measurement #####\n",
    "\n",
    "**Accuracy** tells us how close a measurement is to the true value of the quantity that was measured. \n",
    "\n",
    "**Precision** refers to how closely two or more measurements of the same quantity agree with one another. "
   ]
  },
  {
   "cell_type": "markdown",
   "metadata": {},
   "source": [
    "### 3.4 Significant Figures in Measurement\n",
    "\n",
    "##### <b>OpenStax</b> 1.5 Measurement Uncertainty, Accuracy, and Precision. <b>Brown</b> 1.6 Uncertainty in Measurement #####\n",
    "\n",
    "The numbers of measured quantities, unlike defined or directly counted quantities, are not exact. To measure the volume of liquid in a graduated cylinder, you should make a reading at the bottom of the meniscus, the lowest point on the curved surface of the liquid. In the following figure, the bottom of the meniscus in this case clearly lies between the 21 and 22 markings, meaning the liquid volume is certainly greater than 21 mL but less than 22 mL. The meniscus appears to be a bit closer to the 22-mL mark than to the 21-mL mark, and so a reasonable estimate of the liquid’s volume would be 21.6 mL. In the number 21.6, then, the digits 2 and 1 are certain, but the 6 is an estimate. Some people might estimate the meniscus position to be equally distant from each of the markings and estimate the tenth-place digit as 5, while others may think it to be even closer to the 22-mL mark and estimate this digit to be 7. Note that it would be pointless to attempt to estimate a digit for the hundredths place, given that the tenths-place digit is uncertain. In general, numerical scales such as the one on this graduated cylinder will permit measurements to one-tenth of the smallest scale division. The scale in this case has 1-mL divisions, and so volumes may be measured to the nearest 0.1 mL.\n",
    "<img src=\"https://cnx.org/resources/d95acf4892568c9217a07771de38bc56740a9b68\" style=\"width: 600px\"/>"
   ]
  },
  {
   "cell_type": "markdown",
   "metadata": {},
   "source": [
    "<div class=example>\n",
    "    \n",
    "<b>Example:</b> Determine the number of significant figures.<br> (a) 358 m; (b) 35.1 g; (c) 0.932 kg;  (d) 0.0068 m; (e) $9.320\\times 10^{23}\\,\\text{molecules}$; (f) 3400 mL. <br>\n",
    "<b>Answer:</b><br>\n",
    "(a) 3; (b) 3; (c) 3; (d) 2; (e) 4; (f) 2 or 4.\n",
    "<br>\n",
    "\n",
    "\n",
    "<b>Example:</b> Do the following operations giving answers with correct number of significant figures.<br> (a) $3245 + 1.649$; (b) $54.3- 3.32$; (c) $3.14\\times 2.5$; (d) $0.0029\\div 92.1$; (e) $6.02\\times10^{-4} - 1.1\\times10^{-5}$. <br>\n",
    "<b>Answer:</b><br>    \n",
    "(a) $3247$; (b) $51.0$; (c) $7.8$; (d) $0.000031$; (e) $5.91\\times10^{-4}$.\n",
    "</div>"
   ]
  },
  {
   "cell_type": "markdown",
   "metadata": {},
   "source": [
    "> #### Requirements \n",
    "> 1. Learn how to use scientific notation. Make a habit to use scientific notation.\n",
    "> 2. Learn how to determine siginificant figures. "
   ]
  },
  {
   "cell_type": "markdown",
   "metadata": {},
   "source": [
    "## 4. Dimensional Analysis\n",
    "\n",
    "##### <b>OpenStax</b> 1.6 Mathematical Treatment of Measurement Results.  <b>Brown</b> 1.7 Dimensional Analysis #####"
   ]
  },
  {
   "cell_type": "markdown",
   "metadata": {},
   "source": [
    "1. Determine which unit conversion factor(s) are needed. \n",
    "2. Carry units through calculation.\n",
    "3. If all units cancel except for the desired unit(s), then the problem was solved correctly. \n",
    "\n",
    "$$\\text{given unit}\\times\\frac{\\text{desired unit}}{\\text{given unit}}=\\text{desired unit}$$"
   ]
  },
  {
   "cell_type": "markdown",
   "metadata": {},
   "source": [
    "<div class=example>\n",
    "\n",
    "<b>Example:</b>The mass of a competition frisbee is 125 g. Convert its mass to ounces using the unit conversion factor derived from the relationship 1 oz = 28.349 g.<br>\n",
    "\n",
    "<b>Answer:</b><br>\n",
    "\n",
    "$$x\\,\\text{oz}=125\\,\\text{g}\\times\\frac{1\\,\\text{oz}}{28.349\\,\\text{g}}=4.41\\,\\text{oz}$$\n",
    "<br>\n",
    "\n",
    "<b>Example:</b>What is the density of common antifreeze in units of g/mL? A 4.00 qt sample of the antifreeze weighs 9.26 lb.<br>\n",
    "<b>Answer:</b><br>\n",
    "$$\\frac{9.26\\,\\text{lb}}{4.00\\,\\text{qt}}\\times\\frac{453.59\\,\\text{g}}{1\\,\\text{lb}}\\times\\frac{1.0567\\,\\text{qt}}{1\\,\\text{L}}\\times\\frac{1\\,\\text{L}}{1000\\,\\text{mL}}=1.11\\,\\text{g/mL}$$\n",
    "</div>"
   ]
  },
  {
   "cell_type": "markdown",
   "metadata": {
    "collapsed": true
   },
   "source": [
    "> #### Requirements \n",
    "> 1. Learn how to do unit conversion. "
   ]
  },
  {
   "cell_type": "markdown",
   "metadata": {
    "collapsed": true
   },
   "source": [
    "----"
   ]
  },
  {
   "cell_type": "raw",
   "metadata": {},
   "source": [
    "Please ignore the cell below. It just loads our style for the notebook."
   ]
  },
  {
   "cell_type": "code",
   "execution_count": 1,
   "metadata": {},
   "outputs": [
    {
     "data": {
      "text/html": [
       "<link href=\"https://fonts.googleapis.com/css?family=Lora:400,400i,700,700i|Open+Sans:400,400i|Raleway:400,400i,700,700i\" rel=\"stylesheet\" type='text/css'>\n",
       "<style  type=\"text/css\">\n",
       "div.text_cell_render {\n",
       "\tfont-family: Lora, serif;\n",
       "\tcolor: #222222;\n",
       "}\n",
       ".text_cell_render p {\n",
       "\tpadding-left: 1.5em;\n",
       "\ttext-align: justify;\n",
       "}\n",
       ".text_cell_render h3, h4, h6 {\n",
       "\tfont-family: Raleway, sans-serif;\n",
       "\tcolor: #005c99;\n",
       "}\n",
       ".text_cell_render h1 {\n",
       "\tfont-family: \"Open Sans\", sans-serif;\n",
       "\tfont-weight: 700;\n",
       "\tmargin: auto;\n",
       "\tdisplay: block;\n",
       "}\n",
       ".text_cell_render h2 {\n",
       "\tfont-family: Raleway, sans-serif;\n",
       "\tfont-weight: 700; \n",
       "\tmargin-top: 50px;\n",
       "\tdisplay:inline-block;\n",
       "\tpadding: 10px 15px;\n",
       "\tbackground-color: #007acc;\n",
       "\tcolor: #f8f8f8;\n",
       "\tborder-radius: 10px 40px 10px 40px;\n",
       "\tletter-spacing: 3px;\n",
       "\tfont-variant: small-caps;\n",
       "}\n",
       ".text_cell_render h5 {\n",
       "\tfont-family: \"Open Sans\", sans-serif;\n",
       "\tfont-weight: 400;\n",
       "\tborder-style: groove;\n",
       "\tpadding:0.5em 0.5em 0.5em 0.5em;\n",
       "\tmargin: 1em 0 1em 0;\n",
       "\tline-height: 1.6;\n",
       "}\n",
       "div #notebook {\n",
       "\tbackground-color: #f8f8f8;\n",
       "\twidth: 1110px;\t\n",
       "\tmargin: auto;\n",
       "\tpadding-left: 0em;\n",
       "\tborder: 3px solid #cbd3e5; \n",
       "\tbox-shadow: 0px 0px 7px 1px #cccccc;\n",
       "}\n",
       "div.example {\n",
       "    background-color:#007acc;\n",
       "    color: #ffffff;\n",
       "    margin: auto;\n",
       "    width: 100%; \n",
       "\tpadding: 1.4em; \n",
       "\tborder: 3px solid #007acc; \n",
       "\tborder-radius: 10px; \n",
       "\tmargin-bottom: 14px; \n",
       "\tmargin-top: 14px;  \n",
       "\tbox-shadow: 7px 7px 5px #cccccc; \n",
       "\toverflow: hidden;\n",
       "}\n",
       "div #notebook-container {\n",
       "\tbackground-color: #ffffff;\n",
       "\tfont-size: 1.5em; \n",
       "\tline-height: 1.6;\n",
       "\twidth: 1100px;\n",
       "\tmargin: auto;\n",
       "\tpadding-right: 150px;\n",
       "}\n",
       ".CodeMirror-code {\n",
       "\tfont-size: 1.2em;\n",
       "\tline-height: 125%;\n",
       "\topacity: 0.9;\n",
       "}\n",
       "\n",
       ".text_cell_render td {\n",
       "    border-style: hidden;\n",
       "}\n",
       ".text_cell_render table {\n",
       "    border-style: hidden;\n",
       "\tborder-collapse: collapse;\n",
       "\twidth: 100%;\n",
       "    font-size: 80%;\n",
       "}\n",
       "\n",
       ".text_cell_render th, td {\n",
       "\tpadding: 8px;\n",
       "}\n",
       "\n",
       ".text_cell_render tr:nth-child(even){background-color: #e8e8e8}\n",
       "\n",
       ".text_cell_render th {\n",
       "    border-style: hidden;\n",
       "\tbackground-color: #007acc;\n",
       "\tcolor: #f8f8f8;\n",
       "}\n",
       "table td, table th, table tr {\n",
       "    text-align:left !important;\n",
       "}\n",
       "</style>\n",
       "\n"
      ],
      "text/plain": [
       "<IPython.core.display.HTML object>"
      ]
     },
     "execution_count": 1,
     "metadata": {},
     "output_type": "execute_result"
    }
   ],
   "source": [
    "from IPython.core.display import HTML\n",
    "def css_styling():\n",
    "    styles = open(\"custom.css\", \"r\").read()\n",
    "    return HTML(styles)\n",
    "css_styling()"
   ]
  },
  {
   "cell_type": "code",
   "execution_count": null,
   "metadata": {
    "collapsed": true
   },
   "outputs": [],
   "source": []
  }
 ],
 "metadata": {
  "anaconda-cloud": {},
  "kernelspec": {
   "display_name": "Python 3",
   "language": "python",
   "name": "python3"
  },
  "language_info": {
   "codemirror_mode": {
    "name": "ipython",
    "version": 3
   },
   "file_extension": ".py",
   "mimetype": "text/x-python",
   "name": "python",
   "nbconvert_exporter": "python",
   "pygments_lexer": "ipython3",
   "version": "3.7.6"
  }
 },
 "nbformat": 4,
 "nbformat_minor": 1
}
