{
 "cells": [
  {
   "cell_type": "markdown",
   "metadata": {},
   "source": [
    "$$\\require{mhchem}$$"
   ]
  },
  {
   "cell_type": "markdown",
   "metadata": {},
   "source": [
    "# <center>Study Guide: Chapter 18. Thermodynamics</center>\n",
    "## <center>General Chemistry: The Essential Concepts</center>\n",
    "\n",
    "<center>Seventh Edition</center>\n",
    "\n",
    "<center>Raymond Chang and Kenneth A. Goldsby</center>\n",
    "\n",
    "**Thermodynamics:** the branch of physical science that deals with the relations between heat and other forms of energy (such as mechanical, electrical, or chemical energy), and, by extension, of the relationships between all forms of energy."
   ]
  },
  {
   "cell_type": "markdown",
   "metadata": {},
   "source": [
    "## 1. Entropy \n",
    "\n",
    "**Spontaneous Processes**  \n",
    "A reaction that does occur under the given set of conditions is called a **spontaneous reaction**. \n",
    "\n",
    "Two factors determine if a process occur spontaneously.\n",
    "1. Release or absorb heat; \n",
    "2. Increase or decrease disordor. \n",
    "\n",
    "<style type=\"text/css\">\n",
    ".tg  {border-collapse:collapse;border-spacing:0;}\n",
    ".tg td{padding:10px 5px;border-style:solid;border-width:1px;overflow:hidden;word-break:normal;}\n",
    ".tg .tg-i6eq{background-color:#ffccc9;vertical-align:top}\n",
    ".tg .tg-a080{background-color:#9aff99;vertical-align:top}\n",
    ".tg .tg-c57o{background-color:#ecf4ff;vertical-align:top}\n",
    "</style>\n",
    "<table class=\"tg\">\n",
    "  <tr>\n",
    "    <td class=\"tg-a080\">Release heat<br>Increase disorder<br>**Spontaneous!**</td>\n",
    "    <td class=\"tg-c57o\">Absorb heat<br>Increase disorder<br>**Depends!**</td>\n",
    "  </tr>\n",
    "  <tr>\n",
    "    <td class=\"tg-c57o\">Release heat<br>Decrease disorder<br>**Depends!**</td>\n",
    "    <td class=\"tg-i6eq\">Absorb heat<br>Decrease disorder<br>**Never happen!**</td>\n",
    "  </tr>\n",
    "</table>\n"
   ]
  },
  {
   "cell_type": "markdown",
   "metadata": {},
   "source": [
    "**Entropy** ($S$) is a measure of the randomness or disorder of a system. The unit of entropy is J/K.  \n",
    "\n",
    "$$S = k \\ln W$$  \n",
    "where $k$ is Boltzmann constant ($1.38\\times 10^{-23}\\,\\text{J/K}$), $W$ is the number of microstates. \n",
    "\n",
    "**State functions** are properties that are determined by the state of the system, regardless of how that condition was achieved.\n",
    "\n",
    "Entropy is a state function. "
   ]
  },
  {
   "cell_type": "markdown",
   "metadata": {},
   "source": [
    "**Standard Entropy** ($S^\\circ$) is the absolute entropy of a substance at 1 atm and usually quoted with its value at 25 $^\\circ$C. (See Textbook Appendix 2)\n",
    "\n",
    "General trends: \n",
    "* Gas $\\gg$ Liquid $>$ Solid; \n",
    "* If the same state, more complex molecules result in higher entropy. "
   ]
  },
  {
   "cell_type": "markdown",
   "metadata": {},
   "source": [
    "**Standard Entropy of a Reaction**\n",
    "\n",
    "For a reaction:  \n",
    "\n",
    "$$\\ce{aA + bB -> cC + dD}$$  \n",
    "The standard entropy of reaction $\\Delta S^\\circ_\\text{rxn}$ is:  \n",
    "\n",
    "$$\\Delta S^\\circ_\\text{rxn}=[cS^\\circ(\\ce{C})+dS^\\circ(\\ce{D})]-[aS^\\circ(\\ce{A})+dS^\\circ(\\ce{B})]$$  \n",
    "The values of $S^\\circ$ can be found in Appendix 2. \n",
    "\n",
    "Generally, \n",
    "* If a reaction produces more gas molecules than it consumes, $\\Delta S^\\circ_\\text{rxn}$ is positive; \n",
    "* If the total number of gas molecules diminishes, $\\Delta S^\\circ_\\text{rxn}$ is negative; \n",
    "* If there is no net change in the total number of gas molecules, then $\\Delta S^\\circ_\\text{rxn}$ can be either positive or negative, but will be relatively small numerically. "
   ]
  },
  {
   "cell_type": "markdown",
   "metadata": {},
   "source": [
    "> **Requirements**\n",
    "> 1. Understand what is a spontaneous process. \n",
    "> 2. Understand what is entropy; what are state functions; what is the standard entropy of a given substance. \n",
    "> 2. Calculate the $\\Delta S^\\circ_\\text{rxn}$ of a reaction (Textbook Example 18.2). Predict whether the entropy change of a system is positive or negative (Textbook Example 18.3). "
   ]
  },
  {
   "cell_type": "markdown",
   "metadata": {},
   "source": [
    "## 2. The Laws of Thermodynamics\n",
    "\n",
    "An alternate statement of the laws of thermodynamics:  \n",
    "- **Zeroth law of thermodynamics:** If two systems are in thermal equilibrium with a third system, they are in thermal equilibrium with each other.  \n",
    "- **First law of thermodynamics:** When energy passes, as work, as heat, or with matter, into or out from a system, the system's internal energy changes in accord with the law of conservation of energy.  \n",
    "- **Second law of thermodynamics:** In a natural thermodynamic process, the sum of the entropies of the interacting thermodynamic systems increases.  \n",
    "- **Third law of thermodynamics:** The entropy of a system approaches a constant value as the temperature approaches absolute zero. With the exception of non-crystalline solids (glasses) the entropy of a system at absolute zero is typically close to zero, and is equal to the logarithm of the product of the quantum ground states. "
   ]
  },
  {
   "cell_type": "markdown",
   "metadata": {},
   "source": [
    "**Second Law**\n",
    "\n",
    "Consider the universe as a whole, the total amount of energy is constant (First Law). The universe cannot release or gain energy from \"outside\". If a process can happen spontaneously, it must cause the total entropy of the universe increase (Second Law).  \n",
    "\n",
    "When the entropy of the universe reaches a maximum value, which means the universe reaches a thermodynamic equilibrium , no processes that increase entropy (including computation and life) can be sustained any more. This state is called the *heat death of the universe* which is a possible ultimate fate of the universe. \n",
    "\n",
    "**Third Law**\n",
    "\n",
    "The important point about the third law of thermodynamics is that it enables us to determine the absolute entropies of substances. \n",
    "\n",
    "Example: Diamond should have $S=0$ at 0 K. The value you find in Appendix II is the standard entropy $S^\\circ$ which means the entropy of 1 mol substance at 25 $^\\circ$C and 1 atm. For diamond the value is $S^\\circ = 2.4$ J/K. Higher temperature results in higher entropy. "
   ]
  },
  {
   "cell_type": "markdown",
   "metadata": {},
   "source": [
    "## 3. Free Energy\n",
    "\n",
    "**Defination of Free Energy**\n",
    "\n",
    "If a system releases heat to the surroundings (the rest of the universe), the entropy of the surroundings will increase. If a system absorb heat from the surroundings, the entropy of the surroundings will decrease. Under constant temperature and pressure, we have: \n",
    "\n",
    "$$\\Delta S_\\text{surr}=-\\frac{\\Delta H_\\text{sys}}{T}$$\n",
    "\n",
    "A spontaneous process is a process that increases the total entropy of the universe, which means: \n",
    "\n",
    "$$\\Delta S_\\text{univ}=\\Delta S_\\text{sys}+\\Delta S_\\text{surr} > 0$$\n",
    "\n",
    "That is to say: \n",
    "\n",
    "$$\\Delta S_\\text{sys}-\\frac{\\Delta H_\\text{sys}}{T}>0$$\n",
    "\n",
    "or: \n",
    "\n",
    "$$\\Delta H_\\text{sys}-T\\Delta S_\\text{sys} < 0$$\n",
    "\n",
    "Define **Gibbs free energy** ($G$), which is the free energy at constant temperature and pressure, as: \n",
    "\n",
    "$$G = H -TS$$ \n",
    "\n",
    "A spontaneous process requires: \n",
    "\n",
    "$$\\Delta G_\\text{sys}=\\Delta H_\\text{sys}-T\\Delta S_\\text{sys} < 0$$\n",
    "\n",
    "After introducing the concept of free energy, the spontaneous processes can be defined more precisely as: A **spontaneous process** is the time-evolution of a system in which it releases free energy and moves to a lower, more thermodynamically stable energy state. Thus,  \n",
    "* $\\Delta G < 0$, the reaction is spontaneous in the forward direction;\n",
    "* $\\Delta G > 0$, the reaction is nonspontaneous, while the reverse reaction is spontaneous; \n",
    "* $\\Delta G = 0$, the system is at equilibrium. There is no net change. \n",
    "\n",
    "<img src=\"Ch18_Spontaneous.jpg\" alt=\"Spontaneous\" style=\"width: 800px;\"/>\n",
    "\n",
    "The *heat death of the universe* can be considered as a state of the universe in which no thermodynamic free energy can be used any more. "
   ]
  },
  {
   "cell_type": "markdown",
   "metadata": {
    "collapsed": true
   },
   "source": [
    "**Standard Free Energy Changes**\n",
    "\n",
    "The standard free energy of reaction ($\\Delta G^\\circ_\\text{rxn}$)  is the free energy change for a reaction when it occurs under standard-state conditions (25 °C and 1 atm). \n",
    "\n",
    "For a reaction:  \n",
    "\n",
    "$$\\ce{aA + bB -> cC + dD}$$  \n",
    "The standard free energy of reaction $\\Delta G^\\circ_\\text{rxn}$ is:  \n",
    "\n",
    "$$\\Delta G^\\circ_\\text{rxn}=[cG^\\circ_f(\\ce{C})+dG^\\circ_f(\\ce{D})]-[aG^\\circ_f(\\ce{A})+dG^\\circ_f(\\ce{B})]$$  \n",
    "Where $\\Delta G^\\circ_f$ is the standard free energy of formation of a compound, that is, the free-energy change that occurs when 1 mole of the compound is synthesized from its elements in their standard states. We define the standard free energy of formation of any element in its stable allotropic form at 1 atm and 25 °C as zero.The values of $G^\\circ_f$ can be found in Appendix 2. \n"
   ]
  },
  {
   "cell_type": "markdown",
   "metadata": {},
   "source": [
    "**Temperature and Chemical Reactions**\n",
    "The forward direction of the following reaction is endothermic\n",
    "\n",
    "$$\\ce{CaCO3(s) <=> CaO(s) + CO2(g)}$$  \n",
    "\n",
    "According to LeChatelier's principle, the reaction shifts towards right side under higher temperature. Same conclusion should be obtained if we look at the free energy change. \n",
    "\n",
    "At 25 °C, $\\Delta H^\\circ = 177.8\\,\\text{kJ/mol} > 0$; $\\Delta S^\\circ = 160.5\\,\\text{J/K}\\cdot\\text{mol} > 0$. Thus, $\\Delta G^\\circ= \\Delta H^\\circ - T\\Delta S^\\circ = 130.0\\,\\text{kJ/mol} > 0$. This reaction does not take place spontaneously at room temperature. \n",
    "\n",
    "At what temperature will this reaction occur? Let $\\Delta G^\\circ= \\Delta H^\\circ - T\\Delta S^\\circ = 0$, assuming $\\Delta H^\\circ$ and $\\Delta S^\\circ$ does not change, we get $T = 1108\\,\\text{K}$ which is 835 °C. At this temperature the equilibrium pressure of $\\ce{CO2}$ reaches 1 atm. Above 835 °C, the equilibrium pressure of $\\ce{CO2}$ exceeds 1 atm. "
   ]
  },
  {
   "cell_type": "markdown",
   "metadata": {},
   "source": [
    "**Phase Transitions** \n",
    "\n",
    "The melting point of ice is 0 °C means at this temperature the change between water and ice is at equilibrium ($\\Delta G = 0$). \n",
    "\n",
    "$$\\Delta G = \\Delta H - T\\Delta S=0$$\n",
    "\n",
    "$$\\Delta S = \\frac{\\Delta H}{T}$$\n",
    "\n",
    "At 0 °C the phase change from ice to water has $\\Delta H = 6.01\\,\\text{kJ/mol}$ and $\\Delta S = 22.0\\,\\text{J/K}\\cdot\\text{mol}$"
   ]
  },
  {
   "cell_type": "markdown",
   "metadata": {},
   "source": [
    "**Free Energy and Chemical Equilibrium**\n",
    "\n",
    "$$\\Delta G = \\Delta G^\\circ + RT \\ln Q$$\n",
    "\n",
    "where $Q$ is the reaction quotient. \n",
    "\n",
    "When the reaction reaches equilibrium $\\Delta G = 0$ and $Q= K$, thus\n",
    "\n",
    "$$0 = \\Delta G^\\circ + RT \\ln K$$\n",
    "\n",
    "$$\\Delta G^\\circ =- RT \\ln K$$\n",
    "\n",
    "If $Q < K$, then $\\Delta G < 0$ and the reaction proceeds from left to right;  \n",
    "If $Q > K$, then $\\Delta G > 0$ and the reaction proceeds from right to left."
   ]
  },
  {
   "cell_type": "markdown",
   "metadata": {},
   "source": [
    "> **Requirements**\n",
    "> 1. Understand how to determine if a process is spontaneous; \n",
    "> 2. Know how to calculate standard free energy of reaction (Textbook Example 18.4); \n",
    "> 3. Calculate how would $\\Delta G^\\circ$ change with temperature; Know the correlation between $\\Delta H$ and $\\Delta S$ at melting point or boiling point (Textbook Example 18.5); \n",
    "> 4. Calculate $\\Delta G^\\circ$ from $K$, or calculate $K$ from $\\Delta G^\\circ$ (Textbook Example 18.6 and 18.7). \n",
    "> 4. Calculate the $\\Delta G$ value with known concentrations of all species in a reaction, predict the reaction direction (Textbook Example 18.8). "
   ]
  },
  {
   "cell_type": "code",
   "execution_count": null,
   "metadata": {
    "collapsed": true
   },
   "outputs": [],
   "source": []
  }
 ],
 "metadata": {
  "anaconda-cloud": {},
  "kernelspec": {
   "display_name": "Python 3",
   "language": "python",
   "name": "python3"
  },
  "language_info": {
   "codemirror_mode": {
    "name": "ipython",
    "version": 3
   },
   "file_extension": ".py",
   "mimetype": "text/x-python",
   "name": "python",
   "nbconvert_exporter": "python",
   "pygments_lexer": "ipython3",
   "version": "3.5.2"
  },
  "latex_envs": {
   "bibliofile": "biblio.bib",
   "cite_by": "apalike",
   "current_citInitial": 1,
   "eqLabelWithNumbers": true,
   "eqNumInitial": 0
  }
 },
 "nbformat": 4,
 "nbformat_minor": 0
}
