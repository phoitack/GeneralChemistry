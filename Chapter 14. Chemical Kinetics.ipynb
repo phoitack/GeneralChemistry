{
 "cells": [
  {
   "cell_type": "markdown",
   "metadata": {},
   "source": [
    "$$\\require{mhchem}$$\n",
    "\n",
    "### [HOME](https://wangyu16.github.io/GeneralChemistry/)\n",
    "\n",
    "# <center>General Chemistry Study Guide</center>\n",
    "\n",
    "### <center>Chapter 14. Chemical Kinetics</center>\n",
    "\n",
    "---\n",
    "\n",
    "*<center>Yu Wang</center>*\n",
    "\n",
    "##### <b>OpenStax</b> 12 Kinetics. <b>Brown</b> 14 Chemical Kinetics. #####"
   ]
  },
  {
   "cell_type": "markdown",
   "metadata": {},
   "source": [
    "## 1. Rate of Reaction and Rate Law\n",
    "### Rate of Reaction\n",
    "For the reaction\n",
    "\n",
    "$$a\\ce{A} +b\\ce{B} \\ce{->} c\\ce{C} +d\\ce{D}$$\n",
    "\n",
    "The reaction rate is \n",
    "\n",
    "$$\\begin{align}rate=-\\frac{1}{a}\\frac{\\Delta [\\ce{A}]}{\\Delta t}=-\\frac{1}{b}\\frac{\\Delta [\\ce{B}]}{\\Delta t}=\\frac{1}{c}\\frac{\\Delta [\\ce{C}]}{\\Delta t}=\\frac{1}{d}\\frac{\\Delta [\\ce{D}]}{\\Delta t}\\end{align}$$"
   ]
  },
  {
   "cell_type": "markdown",
   "metadata": {},
   "source": [
    "<div class=example> \n",
    "    \n",
    "<b>Example:</b> Consider the reaction\n",
    "\n",
    "$$\\ce{4PH3(g) -> P4(g) + 6H2(g)}$$\n",
    "\n",
    "Suppose that, at a particular moment during the reaction, molecular hydrogen is being formed at the rate of $0.078\\ \\text{M/s}$. (a) At what rate is $\\ce{P4}$ being formed? (b) At what rate is $\\ce{PH3}$ reacting?<br>\n",
    "\n",
    "<b>Answer:</b> <br>\n",
    "    \n",
    "Step 1. Write the reaction rate expressions from the reaction<br>\n",
    "\n",
    "$$rate=-\\frac{1}{4}\\frac{\\Delta[\\ce{PH3}]}{\\Delta t}=\\frac{\\Delta[\\ce{P4}]}{\\Delta t}=\\frac{1}{6}\\frac{\\Delta[\\ce{H2}]}{\\Delta t}$$\n",
    "\n",
    "Step 2. Translate the information \"molecular hydrogen is being formed at the rate of $0.078\\ \\text{M/s}$\" to a mathematic expression\n",
    "\n",
    "$$\\frac{\\Delta[\\ce{H2}]}{\\Delta t}=0.078\\ \\text{M/s}$$\n",
    "\n",
    "Step 3. Calculate $\\frac{\\Delta[\\ce{P4}]}{\\Delta t}$ and $\\frac{\\Delta[\\ce{PH3}]}{\\Delta t}$. \n",
    "\n",
    "$$\\frac{\\Delta[\\ce{P4}]}{\\Delta t}=\\frac{1}{6}\\frac{\\Delta[\\ce{H2}]}{\\Delta t}=\\frac{1}{6}\\times 0.078\\ \\text{M/s}=0.013\\ \\text{M/s}$$\n",
    "\n",
    "$$\\frac{\\Delta[\\ce{PH3}]}{\\Delta t}=-\\frac{4}{6}\\frac{\\Delta[\\ce{H2}]}{\\Delta t}=-\\frac{4}{6}\\times 0.078\\ \\text{M/s}=-0.052\\ \\text{M/s}$$   \n",
    "    \n",
    "</div>    "
   ]
  },
  {
   "cell_type": "markdown",
   "metadata": {},
   "source": [
    "> **Requirements** \n",
    "> 1. Write the rate expressions for given reactions in terms of the disappearance of the reactants and the appearance of the products. Or write a balanced equation for a reaction whose rate is given. \n",
    "> 2. Knowing the consuming rate of a reactant (or the generating rate of a product), tell the rate of the consentration changes of other reactants and products."
   ]
  },
  {
   "cell_type": "markdown",
   "metadata": {},
   "source": [
    "### Rate Law\n",
    "The **rate law** expresses the relationship of the rate of a reaction to the rate constant ($k$) and the concentrations of the reactants raised to some powers.\n",
    "\n",
    "$$a\\ce{A} +b\\ce{B} \\ce{->} c\\ce{C} +d\\ce{D}$$\n",
    "\n",
    "$$\\begin{align}rate=k[\\ce{A}]^x[\\ce{B}]^y\\end{align}$$\n",
    "\n",
    "* Reaction is $x$th order in A\n",
    "* Reaction is $y$th order in B\n",
    "* Reaction is $(x + y)$th order overall\n",
    "\n",
    "$x$ and $y$ are NOT related with $a$ and $b$. The values of $x$ and $y$ are determined experimentally. \n",
    "\n",
    "$k$ depends on the nature of the reactants and the temperature, but does not depend on the concentrations of the reactants.\n",
    "\n",
    "The unit of $k$ is to keep the unit balanced on both sides.\n"
   ]
  },
  {
   "cell_type": "markdown",
   "metadata": {},
   "source": [
    "> **Requirements** \n",
    "> 1. Determine the values of $x$, $y$ and $k$ from experimental data."
   ]
  },
  {
   "cell_type": "markdown",
   "metadata": {},
   "source": [
    "## 2. Reaction Orders\n",
    "### First-Order Reactions\n",
    "A **first-order reaction** is a reaction whose rate depends on the reactant concentration raised to the first power. \n",
    "\n",
    "$$\\ce{A}\\ce{->} \\ce{B} $$  \n",
    "$$\\begin{align}\n",
    "& rate = k[\\ce{A}] \\\\\n",
    "& rate =-\\frac{\\Delta[\\ce{A}]}{\\Delta t} \\\\\n",
    "& k[\\ce{A}] =-\\frac{\\Delta[\\ce{A}]}{\\Delta t} \\\\\n",
    "& k=\\frac{rate}{[\\ce{A}]}=\\frac{\\text{M/s}}{\\text{M}}=\\text{1/s}\\ \\text{or}\\ \\text{s}^{-1} \\\\\n",
    "\\end{align}$$\n",
    "  \n",
    "The concentration of $\\ce{A}$ and time $t$ can be correlated by the following equations.\n",
    "\n",
    "$$\\begin{align}\n",
    "& \\ln\\frac{[\\ce{A}]_t}{[\\ce{A}]_0}=-kt \\\\\n",
    "& \\ln [\\ce{A}]_t=-kt+ \\ln [\\ce{A}]_0\n",
    "\\end{align}$$\n",
    "\n",
    "where $[\\ce{A}]_t$ is the concentration of $\\ce{A}$ at time $t$; $[\\ce{A}]_0$ is the concentration of $\\ce{A}$ at time $0$.\n",
    "\n",
    "**Half-life**  \n",
    "The *half-life* of a reaction, $t_{1/2}$, is the time requied for the concentration of a reactant to decrease to half of its initial concentration.  \n",
    "Half-life of a first-order reaction is  \n",
    "$$\\begin{align}t_{1/2}=\\frac{\\ln 2}{k}\\end{align}$$\n",
    " "
   ]
  },
  {
   "cell_type": "markdown",
   "metadata": {},
   "source": [
    "> **Requirements**  \n",
    "> 1. Calculate half-life of a first-order reaction from known rate constant. \n",
    "> 2. Calculate $k$ from the plot of $\\ln [\\ce{A}]$ vs $t$. \n",
    "> 2. Knowing $k$ and $[\\ce{A}]_0$, calculate the concentration of $\\ce{A}$ after time $t$; or knowing $k$, $[\\ce{A}]_0$ and $[\\ce{A}]_t$, calculate the time $t$."
   ]
  },
  {
   "cell_type": "markdown",
   "metadata": {},
   "source": [
    "### Second-Order Reactions\n",
    "\n",
    "A **second-order reaction** is a reaction whose rate depends on the concentration of one reactant raised to the second power or on the concentrations of two different reactants, each raised to the first power. \n",
    "\n",
    "$$\\ce{A}\\ce{->} \\ce{B} \\\\$$\n",
    "$$\\begin{align}\n",
    "& rate = k[\\ce{A}]^2 \\\\\n",
    "& rate =-\\frac{\\Delta[\\ce{A}]}{\\Delta t} \\\\\n",
    "& k[\\ce{A}]^2 =-\\frac{\\Delta[\\ce{A}]}{\\Delta t} \\\\\n",
    "& k=\\frac{rate}{[\\ce{A}]^2}=\\frac{\\text{M/s}}{\\text{M}^2}=\\text{1/M}\\cdot\\text{s}\\ \\text{or}\\ \\text{M}^{-1}\\text{s}^{-1} \\\\\n",
    "\\end{align}$$\n",
    "\n",
    "The concentration of $\\ce{A}$ and time $t$ can be correlated by the following equation.\n",
    "\n",
    "$$\\begin{align}\n",
    "\\frac{1}{[\\ce{A}]_t}=\\frac{1}{[\\ce{A}]_0}+kt\n",
    "\\end{align}$$\n",
    "\n",
    "where $[\\ce{A}]_t$ is the concentration of $\\ce{A}$ at time $t$; $[\\ce{A}]_0$ is the concentration of $\\ce{A}$ at time $0$.\n",
    "\n",
    "The half-life of a second-order reaction is \n",
    "\n",
    "$$\\begin{align}\n",
    "t_{1/2}=\\frac{1}{k[\\ce{A}]_0}\n",
    "\\end{align}$$"
   ]
  },
  {
   "cell_type": "markdown",
   "metadata": {},
   "source": [
    "> **Requirements**  \n",
    "> 1. Calculate  $k$  from the plot of  $\\frac{1}{[\\ce{A}]}$  vs  $t$.\n",
    "> 2. Calculate half-life of a second-order reaction from known rate constant and initial concentration. \n",
    "> 3. Knowing $k$ and $[\\ce{A}]_0$, calculate the concentration of $\\ce{A}$ after time $t$; or knowing $k$, $[\\ce{A}]_0$ and $[\\ce{A}]_t$, calculate the time $t$. "
   ]
  },
  {
   "cell_type": "markdown",
   "metadata": {},
   "source": [
    "### Zero-Order Reactions\n",
    "\n",
    "$$\\ce{A}\\ce{->} \\ce{B} \\\\$$\n",
    "$$\\begin{align}\n",
    "& rate = k[\\ce{A}]^0  = k \\\\\n",
    "& rate =-\\frac{\\Delta[\\ce{A}]}{\\Delta t} \\\\\n",
    "& k =-\\frac{\\Delta[\\ce{A}]}{\\Delta t} \\\\\n",
    "& k=\\frac{rate}{[\\ce{A}]^0}=\\text{M/s}\\\\\n",
    "\\end{align}$$\n",
    "\n",
    "The concentration of $\\ce{A}$ and time $t$ can be correlated by the following equation.\n",
    "\n",
    "$$\\begin{align}\n",
    "[\\ce{A}]_t=[\\ce{A}]_0-kt\n",
    "\\end{align}$$\n",
    "\n",
    "where $[\\ce{A}]_t$ is the concentration of $\\ce{A}$ at time $t$; $[\\ce{A}]_0$ is the concentration of $\\ce{A}$ at time $0$.\n",
    "\n",
    "The half-life of a second-order reaction is \n",
    "\n",
    "$$\\begin{align}\n",
    "t_{1/2}=\\frac{[\\ce{A}]_0}{2k}\n",
    "\\end{align}$$"
   ]
  },
  {
   "cell_type": "markdown",
   "metadata": {},
   "source": [
    "> **Requirements**  \n",
    "> 1. Understand what is a zero-order reaction. "
   ]
  },
  {
   "cell_type": "markdown",
   "metadata": {},
   "source": [
    "### Summary of Reaction Orders\n",
    "\n",
    "See Textbook Table 14.2. "
   ]
  },
  {
   "cell_type": "markdown",
   "metadata": {},
   "source": [
    "## 3. Temperature Effect\n",
    "**Collision Theory**  \n",
    "1. Reaction rate is proportional to the frequency of molecular collisions. This relationship explains the dependence of reaction rate on concentration.\n",
    "2. Not all collisions result in reactions. To react, the colliding molecules must have a total kinetic energy equal to or greater than the **activation energy** ($E_a$). \n",
    "\n",
    "**Activiation Energy** is the minimum amount of energy required to initiate a chemical reaction.  \n",
    "**Transition State** refers to the species temporarily formed by the reactant molecules as a result of the collision before they form the product. \n",
    "\n",
    "**Arrhenius Equation**  \n",
    "$$\\begin{align}\n",
    "& k=Ae^{-E_a/RT} \\\\\n",
    "& \\ln k = \\ln A - \\frac{E_a}{RT} \\\\\n",
    "\\end{align}$$\n"
   ]
  },
  {
   "cell_type": "markdown",
   "metadata": {},
   "source": [
    "> **Requirements**  \n",
    "> 1. Understand collision theory; know what is activation energy and what is transition state.\n",
    "> 2. Calculate rate constans at different temperatures using Arrhenius Equation."
   ]
  },
  {
   "cell_type": "code",
   "execution_count": 3,
   "metadata": {},
   "outputs": [
    {
     "data": {
      "text/plain": [
       "2.6706322527649514e-05"
      ]
     },
     "execution_count": 3,
     "metadata": {},
     "output_type": "execute_result"
    }
   ],
   "source": [
    "# Knowing k at one temperature, calculate k at another temperature. Ea is given.\n",
    "from numpy import*\n",
    "Ea = 110 # in kJ/mol\n",
    "T1=27 # in Celsius\n",
    "T2=42 # in Celsius\n",
    "k1=3.27e-6\n",
    "k2=k1/exp(Ea*1000/8.314*(1/(T2+273)-1/(T1+273)))\n",
    "k2"
   ]
  },
  {
   "cell_type": "code",
   "execution_count": 7,
   "metadata": {},
   "outputs": [
    {
     "data": {
      "text/plain": [
       "11.829065218689623"
      ]
     },
     "execution_count": 7,
     "metadata": {},
     "output_type": "execute_result"
    }
   ],
   "source": [
    "# Knowing A, Ea and T, calculate k\n",
    "A = 7500000\n",
    "Ea = 33.1 # in kJ/mol\n",
    "T=25 # in Celsius\n",
    "k=A*exp(-Ea/0.008314/(T+273))\n",
    "k"
   ]
  },
  {
   "cell_type": "markdown",
   "metadata": {},
   "source": [
    "## 4. Reaction Mechanisms\n",
    "\n",
    "**Elementary Reactions** are a series of simple reactions that represent the progress of the overall reaction at the molecular levle.  \n",
    "\n",
    "**Reaction Mechanism** is the sequence of elementary reactions that leads to product formation.  \n",
    "\n",
    "An Example from the Textbook:  \n",
    "The overall reaction  \n",
    "$$\\ce{2NO(g) + O2(g) -> 2NO2(g)}$$  \n",
    "is actually a sum of two elementary reactions  \n",
    "$$\\ce{NO +NO -> N2O2}$$  \n",
    "$$\\ce{N2O2 + O2 -> 2NO2}$$  \n",
    "*The sum of the elementary steps must give the overall balanced equation for the reaction. *\n",
    "\n",
    "**Intermediats** (are not the same as transition states) are formed in early elementary steps and consumed in later elementary steps. Thus intermediats do not appear in the overall ballanced equation.  \n",
    "\n",
    "**molecularity of a reaction** is the number of molecules reacting in an elementary step, such as unimolecular reaction, bimolecular reaction and termolecular reaction. \n",
    "\n",
    "**Rate Laws of Elementary Reactions**  \n",
    "$$a\\ce{A} +b\\ce{B} \\ce{->} c\\ce{C} +d\\ce{D}$$  \n",
    "If this is an elementary reaction, then  \n",
    "$$\\begin{align}rate=k[\\ce{A}]^a[\\ce{B}]^b\\end{align}$$\n",
    "\n",
    "**Rate-determining step** is the slowest step in the sequence of steps leading to product formation. \n",
    "\n",
    "*The rate-determining step should predict the same rate law as is determined experimentally. *\n",
    "\n",
    "**Potential energy profile for a multi-step reaction**  \n",
    "* Compare the potential energy of reactants and products to get whether the overall reaction is exothermic or endothermic. \n",
    "* The maxima are the transition states; and the number of maxima tells the number of elementary steps.\n",
    "* The minima are intermediates (not including the reactions and the products). \n",
    "* Activation energies are the defference of potential energies between reactants (or intermediates) and transition states. \n",
    "* The rate-determining step corresponds to the largest activation energy. \n"
   ]
  },
  {
   "cell_type": "markdown",
   "metadata": {},
   "source": [
    "> **Requirements**  \n",
    "> 1. Given elementary steps, identify the intermediates and write the overall balanced reaction equation. \n",
    "> 2. Knowing the rate-determining step of a reaction, tell the rate law of the overall reaction. Or knowing the rate law of a reaction and the elementary steps, tell which is the rate-determining step. \n",
    "> 3. Given the potential energy profile of a multi-step reaction, tell whether the overal reaction is exothermic or endothermic, the number of elementary steps, the intermediate(s), the transition states, the activation energies of each step, the rate-determining step. "
   ]
  },
  {
   "cell_type": "markdown",
   "metadata": {},
   "source": [
    "## 5. Catalysis\n",
    "**Catalyst** is a substance that increases the rate of a chemical reaction without itself undergoing any permanent chemical change. A catalyst lowers the activation energy for both the forward and reverse reactions.\n",
    "\n",
    "Three types of catalysis: heterogeneous catalysis, homogeneous catalysis, and enzyme catalysis.\n",
    "\n"
   ]
  },
  {
   "cell_type": "markdown",
   "metadata": {},
   "source": [
    "> **Requirements**\n",
    "> 1. Know what is a catalyst and its role in a reaction. \n",
    "> 2. Know the three types of catalysis. "
   ]
  },
  {
   "cell_type": "markdown",
   "metadata": {},
   "source": [
    "---"
   ]
  },
  {
   "cell_type": "raw",
   "metadata": {},
   "source": [
    "Please ignore the cell below. It just loads our style for the notebook."
   ]
  },
  {
   "cell_type": "code",
   "execution_count": 1,
   "metadata": {},
   "outputs": [
    {
     "data": {
      "text/html": [
       "<link href=\"https://fonts.googleapis.com/css?family=Lora:400,400i,700,700i|Open+Sans:400,400i|Raleway:400,400i,700,700i\" rel=\"stylesheet\" type='text/css'>\n",
       "<style  type=\"text/css\">\n",
       "div.text_cell_render {\n",
       "\tfont-family: Lora, serif;\n",
       "\tcolor: #222222;\n",
       "}\n",
       ".text_cell_render p {\n",
       "\tpadding-left: 1.5em;\n",
       "\ttext-align: justify;\n",
       "}\n",
       ".text_cell_render h3, h4, h6 {\n",
       "\tfont-family: Raleway, sans-serif;\n",
       "\tcolor: #005c99;\n",
       "}\n",
       ".text_cell_render h1 {\n",
       "\tfont-family: \"Open Sans\", sans-serif;\n",
       "\tfont-weight: 700;\n",
       "\tmargin: auto;\n",
       "\tdisplay: block;\n",
       "}\n",
       ".text_cell_render h2 {\n",
       "\tfont-family: Raleway, sans-serif;\n",
       "\tfont-weight: 700; \n",
       "\tmargin-top: 50px;\n",
       "\tdisplay:inline-block;\n",
       "\tpadding: 10px 15px;\n",
       "\tbackground-color: #007acc;\n",
       "\tcolor: #f8f8f8;\n",
       "\tborder-radius: 10px 40px 10px 40px;\n",
       "\tletter-spacing: 3px;\n",
       "\tfont-variant: small-caps;\n",
       "}\n",
       ".text_cell_render h5 {\n",
       "\tfont-family: \"Open Sans\", sans-serif;\n",
       "\tfont-weight: 400;\n",
       "\tborder-style: groove;\n",
       "\tpadding:0.5em 0.5em 0.5em 0.5em;\n",
       "\tmargin: 1em 0 1em 0;\n",
       "\tline-height: 1.6;\n",
       "}\n",
       "div #notebook {\n",
       "\tbackground-color: #f8f8f8;\n",
       "\twidth: 1110px;\t\n",
       "\tmargin: auto;\n",
       "\tpadding-left: 0em;\n",
       "\tborder: 3px solid #cbd3e5; \n",
       "\tbox-shadow: 0px 0px 7px 1px #cccccc;\n",
       "}\n",
       "div.example {\n",
       "    background-color:#007acc;\n",
       "    color: #ffffff;\n",
       "    margin: auto;\n",
       "    width: 100%; \n",
       "\tpadding: 1.4em; \n",
       "\tborder: 3px solid #007acc; \n",
       "\tborder-radius: 10px; \n",
       "\tmargin-bottom: 14px; \n",
       "\tmargin-top: 14px;  \n",
       "\tbox-shadow: 7px 7px 5px #cccccc; \n",
       "\toverflow: hidden;\n",
       "}\n",
       "div.practice {\n",
       "    background-color:#fbfbfb;\n",
       "    color: #007acc;\n",
       "    margin: auto;\n",
       "    width: 100%; \n",
       "\tpadding: 1.4em; \n",
       "\tborder: 3px solid #eeeeee; \n",
       "\tborder-radius: 10px; \n",
       "\tmargin-bottom: 14px; \n",
       "\tmargin-top: 14px;  \n",
       "\tbox-shadow: 7px 7px 5px #cccccc; \n",
       "\toverflow: hidden;\n",
       "}\n",
       "div #notebook-container {\n",
       "\tbackground-color: #ffffff;\n",
       "\tfont-size: 1.5em; \n",
       "\tline-height: 1.6;\n",
       "\twidth: 1100px;\n",
       "\tmargin: auto;\n",
       "\tpadding-right: 150px;\n",
       "}\n",
       ".CodeMirror-code {\n",
       "\tfont-size: 1.2em;\n",
       "\tline-height: 125%;\n",
       "\topacity: 0.9;\n",
       "}\n",
       "\n",
       ".text_cell_render td {\n",
       "    border-style: hidden;\n",
       "}\n",
       ".text_cell_render table {\n",
       "    border-style: hidden;\n",
       "\tborder-collapse: collapse;\n",
       "\twidth: 100%;\n",
       "    font-size: 80%;\n",
       "}\n",
       "\n",
       ".text_cell_render th, td {\n",
       "\tpadding: 8px;\n",
       "}\n",
       "\n",
       ".text_cell_render tr:nth-child(even){background-color: #e8e8e8}\n",
       "\n",
       ".text_cell_render th {\n",
       "    border-style: hidden;\n",
       "\tbackground-color: #007acc;\n",
       "\tcolor: #f8f8f8;\n",
       "}\n",
       "table td, table th, table tr {\n",
       "    text-align:left !important;\n",
       "}\n",
       "</style>\n",
       "\n"
      ],
      "text/plain": [
       "<IPython.core.display.HTML object>"
      ]
     },
     "execution_count": 1,
     "metadata": {},
     "output_type": "execute_result"
    }
   ],
   "source": [
    "from IPython.core.display import HTML\n",
    "def css_styling():\n",
    "    styles = open(\"custom.css\", \"r\").read()\n",
    "    return HTML(styles)\n",
    "css_styling()"
   ]
  },
  {
   "cell_type": "code",
   "execution_count": null,
   "metadata": {},
   "outputs": [],
   "source": []
  }
 ],
 "metadata": {
  "anaconda-cloud": {},
  "kernelspec": {
   "display_name": "Python 3",
   "language": "python",
   "name": "python3"
  },
  "language_info": {
   "codemirror_mode": {
    "name": "ipython",
    "version": 3
   },
   "file_extension": ".py",
   "mimetype": "text/x-python",
   "name": "python",
   "nbconvert_exporter": "python",
   "pygments_lexer": "ipython3",
   "version": "3.7.6"
  },
  "latex_envs": {
   "bibliofile": "biblio.bib",
   "cite_by": "apalike",
   "current_citInitial": 1,
   "eqLabelWithNumbers": true,
   "eqNumInitial": 0
  }
 },
 "nbformat": 4,
 "nbformat_minor": 1
}
